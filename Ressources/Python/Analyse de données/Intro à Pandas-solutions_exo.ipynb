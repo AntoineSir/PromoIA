{
 "cells": [
  {
   "cell_type": "markdown",
   "metadata": {},
   "source": [
    "### Exo : afficher les 3 premières lignes des colonnes utilisant comme unité de mesure les grammes"
   ]
  },
  {
   "cell_type": "markdown",
   "metadata": {},
   "source": [
    "En regardant les noms des colonnes, on constate qu'elles sont identifiables via le suffixe \"(g)\". Il y a plus qu'à...\n",
    "\n",
    "Deux solutions possibles mais il y en a d'autres. **Surtout, essayez d'abord par vous-même !**"
   ]
  },
  {
   "cell_type": "code",
   "execution_count": null,
   "metadata": {},
   "outputs": [],
   "source": [
    "### Une première solution\n",
    "grams=[]\n",
    "for c in list(data.columns):\n",
    "    if c[-3:]==\"(g)\":\n",
    "        grams.append(c)\n",
    "\n",
    "data[grams].head(3)"
   ]
  },
  {
   "cell_type": "code",
   "execution_count": null,
   "metadata": {},
   "outputs": [],
   "source": [
    "### Une seconde en utilisant la méthode endswith() et un booléen pour sélectionner les colonnes avec .loc\n",
    "data.loc[:2,[c.endswith(\"(g)\") for c in data.columns.tolist()]]"
   ]
  },
  {
   "cell_type": "markdown",
   "metadata": {},
   "source": [
    "### Exo : un judoka de haut niveau voudrait adapter son alimentation à son programme d'entraînement et vous demande de déterminer les aliments à la fois riches en protéine et faibles en lipides. Son entraîneur vous contacte ensuite pour vous préciser que le plus important est qu'il y ait un maximum de protéine !"
   ]
  },
  {
   "cell_type": "markdown",
   "metadata": {},
   "source": [
    "Pour faire cet exercice, voici quelques indications. Vous pouvez tout à fait faire sans mais si vous ne savez pas par où commencer, ces quelques lignes vous aideront sûrement.\n",
    "\n",
    "Comme on souhaite regarder coinjointement les quantités de protéines et de lipides, le plus simple est de calculer un score faisant intervenir les variables Protein_(g) et Lipid_Tot_(g). L'idée de ce score est que plus il sera élevé, plus l'aliment répondra à nos critères (bcp de protéines/peu de lipides).\n",
    "\n",
    "Vous calculerez donc un score sous la forme __*Score = a * Protéine + b * Lipide* où a et b sont des constantes qu'il faudra fixer__ (arbitrairement certes mais en justifiant le choix quand même !).\n",
    "\n",
    "Les questions que vous devez vous poser :\n",
    " - Tout d'abord, quel doivent être les signes de a et de b pour répondre à notre problématique ?\n",
    " - Quel coefficient doit être le plus grand en valeur absolue ?\n",
    " - Ensuite, quelles sont les min et max des variables Protein_(g) et Lipid_Tot_(g) ?\n",
    " - Par conséquent, comment gérer le fait que ces deux variables n'évoluent pas du tout sur la même échelle ?\n",
    "\n",
    "À vous de jouer ! Essayez dans un premier temps de ne pas regarder la solution proposée ci dessous..."
   ]
  },
  {
   "cell_type": "code",
   "execution_count": null,
   "metadata": {},
   "outputs": [],
   "source": [
    "data[\"Score\"] = 2 * data[\"Protein_(g)\"]/max(data[\"Protein_(g)\"]) - 0.75 * data[\"Lipid_Tot_(g)\"]/max(data[\"Lipid_Tot_(g)\"])\n",
    "\n",
    "data.sort_values(\"Score\", inplace=True, ascending = False)\n",
    "\n",
    "data.head(10)\n",
    "\n",
    "# on fixe a = 2 et b = -0.75 de sorte que le score augmente avec la quantité de protéine et diminue avec celle de lipides\n",
    "# on choisit a > b en valeur absolue car l'entraîneur l'a bien précisé : le plus important est la quantité de protéine !\n",
    "# on normalise les séries Protein_(g) et Lipid_Tot_(g) en divisant par le max de la série concernée\n",
    "# cela permet d'avoir des valeurs comprises uniquement entre 0 et 1 pour chacune des 2 séries"
   ]
  },
  {
   "cell_type": "markdown",
   "metadata": {},
   "source": [
    "### Exo : calculer le tarif moyen par classe. Retourner les résultats sous forme d'un dictionnaire"
   ]
  },
  {
   "cell_type": "code",
   "execution_count": null,
   "metadata": {},
   "outputs": [],
   "source": [
    "fares = {}\n",
    "for c in [1,2,3]:\n",
    "    fares[c] = titanic.loc[titanic[\"pclass\"]==c,\"fare\"].mean()\n",
    "fares"
   ]
  },
  {
   "cell_type": "markdown",
   "metadata": {},
   "source": [
    "### Exo : utiliser la méthode apply pour déterminer le nombre de valeurs manquantes dans chaque colonne"
   ]
  },
  {
   "cell_type": "markdown",
   "metadata": {},
   "source": [
    "Une indication : il faut d'abord définir une fonction"
   ]
  },
  {
   "cell_type": "code",
   "execution_count": null,
   "metadata": {},
   "outputs": [],
   "source": [
    "def count_na(series):\n",
    "    return series.isnull().sum()"
   ]
  },
  {
   "cell_type": "code",
   "execution_count": null,
   "metadata": {},
   "outputs": [],
   "source": [
    "titanic.apply(count_na, axis=0)"
   ]
  },
  {
   "cell_type": "markdown",
   "metadata": {},
   "source": [
    "### Exo : utiliser la méthode apply pour créer une nouvelle variable age_label dans le dataframe contenant 'minor' si la personne a moins de 18 ans, 'adult' si son age est supérieur ou égal à 18 ans et 'unknown' sinon "
   ]
  },
  {
   "cell_type": "markdown",
   "metadata": {},
   "source": [
    "Indications : Procéder par étape ! On définira d'abord une fonction, qu'on appliquera au dataframe et on stockera le résultat dans une nouvelle colonne"
   ]
  },
  {
   "cell_type": "code",
   "execution_count": null,
   "metadata": {},
   "outputs": [],
   "source": [
    "def minor(row):\n",
    "    if pd.isnull(row['age']):\n",
    "        return 'unknown'\n",
    "    elif row['age']<18:\n",
    "        return 'minor'\n",
    "    else:\n",
    "        return 'adult'"
   ]
  },
  {
   "cell_type": "code",
   "execution_count": null,
   "metadata": {},
   "outputs": [],
   "source": [
    "titanic[\"age_label\"]=titanic.apply(minor, axis=1)"
   ]
  },
  {
   "cell_type": "code",
   "execution_count": null,
   "metadata": {},
   "outputs": [],
   "source": [
    "titanic.head(16)"
   ]
  },
  {
   "cell_type": "markdown",
   "metadata": {},
   "source": [
    "### Exo : calculer le pourcentage de survie par groupe d'âge (majeur/mineur)"
   ]
  },
  {
   "cell_type": "markdown",
   "metadata": {},
   "source": [
    "Indication : l'exercice précédent a quasiment fait tout le boulot..."
   ]
  },
  {
   "cell_type": "code",
   "execution_count": null,
   "metadata": {},
   "outputs": [],
   "source": [
    "titanic.pivot_table(index =\"age_label\", values = \"survived\")"
   ]
  },
  {
   "cell_type": "code",
   "execution_count": null,
   "metadata": {},
   "outputs": [],
   "source": []
  }
 ],
 "metadata": {
  "kernelspec": {
   "display_name": "Python 3",
   "language": "python",
   "name": "python3"
  },
  "language_info": {
   "codemirror_mode": {
    "name": "ipython",
    "version": 3
   },
   "file_extension": ".py",
   "mimetype": "text/x-python",
   "name": "python",
   "nbconvert_exporter": "python",
   "pygments_lexer": "ipython3",
   "version": "3.7.3"
  }
 },
 "nbformat": 4,
 "nbformat_minor": 2
}

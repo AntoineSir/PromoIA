{
 "cells": [
  {
   "cell_type": "markdown",
   "metadata": {},
   "source": [
    "# Introduction à la libraire Pandas"
   ]
  },
  {
   "cell_type": "markdown",
   "metadata": {},
   "source": [
    "DataFrame : structure de données équivalente à un numpy.array avec des fonctionnalités en plus"
   ]
  },
  {
   "cell_type": "markdown",
   "metadata": {},
   "source": [
    "Avantages de Pandas :\n",
    " - pas de restriction à un seul type de données\n",
    " - gestion des NaN simplifié\n",
    " - extraction de valeurs et de sous-ensembles facile"
   ]
  },
  {
   "cell_type": "markdown",
   "metadata": {},
   "source": [
    "## Généralités"
   ]
  },
  {
   "cell_type": "code",
   "execution_count": null,
   "metadata": {},
   "outputs": [],
   "source": [
    "import pandas as pd"
   ]
  },
  {
   "cell_type": "code",
   "execution_count": null,
   "metadata": {},
   "outputs": [],
   "source": [
    "### Lecture d'un fichier csv\n",
    "data = pd.read_csv('Data/food-info.csv')\n",
    "type(data)"
   ]
  },
  {
   "cell_type": "code",
   "execution_count": null,
   "metadata": {},
   "outputs": [],
   "source": [
    "### Affichage des données\n",
    "data.head()\n",
    "data.head(3)\n",
    "data.tail()\n",
    "data.tail(7)"
   ]
  },
  {
   "cell_type": "code",
   "execution_count": null,
   "metadata": {},
   "outputs": [],
   "source": [
    "### Attributs columns et shape\n",
    "print(data.shape,'\\n',data.columns)"
   ]
  },
  {
   "cell_type": "code",
   "execution_count": null,
   "metadata": {},
   "outputs": [],
   "source": [
    "### type des données avec dtypes :\n",
    "#object (pour les string ou les variables ayant différents types)\n",
    "#int, float, datetime, bool\n",
    "print(data.dtypes)"
   ]
  },
  {
   "cell_type": "markdown",
   "metadata": {},
   "source": [
    "## Sélection de ligne.s et de colonne.s"
   ]
  },
  {
   "cell_type": "code",
   "execution_count": null,
   "metadata": {},
   "outputs": [],
   "source": [
    "type(data.loc[0])"
   ]
  },
  {
   "cell_type": "code",
   "execution_count": null,
   "metadata": {},
   "outputs": [],
   "source": [
    "### sélection d'une seule ligne\n",
    "data.loc[0]"
   ]
  },
  {
   "cell_type": "code",
   "execution_count": null,
   "metadata": {},
   "outputs": [],
   "source": [
    "### sélection de plusieurs lignes\n",
    "data.loc[3:6]"
   ]
  },
  {
   "cell_type": "code",
   "execution_count": null,
   "metadata": {},
   "outputs": [],
   "source": [
    "data.iloc[3:6,:]"
   ]
  },
  {
   "cell_type": "code",
   "execution_count": null,
   "metadata": {},
   "outputs": [],
   "source": [
    "data.loc[[2,10,5]]"
   ]
  },
  {
   "cell_type": "code",
   "execution_count": null,
   "metadata": {},
   "outputs": [],
   "source": [
    "data.loc[list(range(2,5))+list(range(9,11))]"
   ]
  },
  {
   "cell_type": "code",
   "execution_count": null,
   "metadata": {},
   "outputs": [],
   "source": [
    "### sélection d'une colonne\n",
    "data['NDB_No']"
   ]
  },
  {
   "cell_type": "code",
   "execution_count": null,
   "metadata": {},
   "outputs": [],
   "source": [
    "### sélection d'une colonne avec .loc\n",
    "data.loc[:,\"NDB_No\"]"
   ]
  },
  {
   "cell_type": "code",
   "execution_count": null,
   "metadata": {},
   "outputs": [],
   "source": [
    "### sélection d'une colonne avec .iloc[]\n",
    "data.iloc[:,0]"
   ]
  },
  {
   "cell_type": "code",
   "execution_count": null,
   "metadata": {},
   "outputs": [],
   "source": [
    "### sélection de plusieurs colonnes\n",
    "data[[\"Zinc_(mg)\",\"NDB_No\"]].head()"
   ]
  },
  {
   "cell_type": "code",
   "execution_count": null,
   "metadata": {},
   "outputs": [],
   "source": [
    "### sélection de plusieurs colonnes avec loc\n",
    "data.loc[:,[\"NDB_No\",\"Calcium_(mg)\",\"Energ_Kcal\"]].head()"
   ]
  },
  {
   "cell_type": "code",
   "execution_count": null,
   "metadata": {},
   "outputs": [],
   "source": [
    "### sélection de plusieurs colonnes avec iloc\n",
    "data.iloc[:,[10,0,3]+list(range(2,5))].head()"
   ]
  },
  {
   "cell_type": "markdown",
   "metadata": {},
   "source": [
    "### Exo : afficher les 3 premières lignes des colonnes utilisant comme unité de mesure les grammes"
   ]
  },
  {
   "cell_type": "markdown",
   "metadata": {},
   "source": [
    "En regardant les noms des colonnes, on constate qu'elles sont identifiables via le suffixe \"(g)\". Il y a plus qu'à...\n",
    "\n",
    "Deux solutions possibles mais il y en a d'autres. **Surtout, essayez d'abord par vous-même !**"
   ]
  },
  {
   "cell_type": "code",
   "execution_count": null,
   "metadata": {},
   "outputs": [],
   "source": [
    "### Une première solution\n"
   ]
  },
  {
   "cell_type": "code",
   "execution_count": null,
   "metadata": {},
   "outputs": [],
   "source": [
    "### Une seconde en utilisant la méthode endswith() et un booléen pour sélectionner les colonnes avec .loc\n"
   ]
  },
  {
   "cell_type": "markdown",
   "metadata": {},
   "source": [
    "## Manipulation de données avec Pandas"
   ]
  },
  {
   "cell_type": "markdown",
   "metadata": {},
   "source": [
    "### Transformation d'une colonne"
   ]
  },
  {
   "cell_type": "markdown",
   "metadata": {},
   "source": [
    "On peut facilement transformer une colonne en ajoutant, enlevant, multipliant ou divisant une toutes les lignes par une même valeur. Deux exemples ci-dessous pour convertir des valeurs des milligrammes vers les grammes et inversement."
   ]
  },
  {
   "cell_type": "code",
   "execution_count": null,
   "metadata": {},
   "outputs": [],
   "source": [
    "### Pour convertir des mg en g\n",
    "iron_g = data[\"Iron_(mg)\"]/1000\n",
    "\n",
    "### Pour convertir des g en mg\n",
    "protein_mg = data[\"Protein_(g)\"]*1000\n",
    "\n",
    "print(iron_g,protein_mg)"
   ]
  },
  {
   "cell_type": "markdown",
   "metadata": {},
   "source": [
    "### Création et suppression d'une colonne"
   ]
  },
  {
   "cell_type": "markdown",
   "metadata": {},
   "source": [
    "Pour créer une nouvelle colonne, il suffit d'affecter un objet Series à un nouveau de colonne dans le dataframe. Si on affecte à un nom de colonne déjà existant, on remplace l'ensemble des valeurs par la nouvelle série."
   ]
  },
  {
   "cell_type": "code",
   "execution_count": null,
   "metadata": {},
   "outputs": [],
   "source": [
    "### La nouvelle colonne est créée à la fin du dataframe\n",
    "data[\"Iron_(g)\"] = data[\"Iron_(mg)\"]/1000\n",
    "data.head(1)"
   ]
  },
  {
   "cell_type": "markdown",
   "metadata": {},
   "source": [
    "Pour supprimer une colonne, on peut utiliser del ou drop"
   ]
  },
  {
   "cell_type": "code",
   "execution_count": null,
   "metadata": {},
   "outputs": [],
   "source": [
    "### Avec del\n",
    "del data[\"Iron_(g)\"]\n",
    "data.head(1)"
   ]
  },
  {
   "cell_type": "code",
   "execution_count": null,
   "metadata": {},
   "outputs": [],
   "source": [
    "### Avec drop\n",
    "data[\"Iron_(g)\"] = data[\"Iron_(mg)\"]/1000 # on recréé la variable à supprimer\n",
    "data.drop([\"Iron_(g)\"], axis='columns', inplace=True)\n",
    "data.head(1)\n",
    "\n",
    "# ATTENTION à l'option inplace, qui remplace directement le dataframe par le dataframe sans les colonnes à supprimer...\n",
    "# par précaution et par défaut inplace = FALSE et la méthode drop retourne un nouveau dataframe"
   ]
  },
  {
   "cell_type": "markdown",
   "metadata": {},
   "source": [
    "### Opérations entre colonnes"
   ]
  },
  {
   "cell_type": "code",
   "execution_count": null,
   "metadata": {},
   "outputs": [],
   "source": [
    "### Pour ajouter les quantités de fer et de calcium contenues dans un aliment\n",
    "fer_calcium = data[\"Iron_(mg)\"] + data[\"Calcium_(mg)\"]\n",
    "fer_calcium.head()"
   ]
  },
  {
   "cell_type": "code",
   "execution_count": null,
   "metadata": {},
   "outputs": [],
   "source": [
    "### On peut multiplier (ou diviser) des colonnes\n",
    "water_energy = data[\"Water_(g)\"]*data[\"Energ_Kcal\"]\n",
    "water_energy[:5]"
   ]
  },
  {
   "cell_type": "markdown",
   "metadata": {},
   "source": [
    "### Trier un dataframe"
   ]
  },
  {
   "cell_type": "code",
   "execution_count": null,
   "metadata": {},
   "outputs": [],
   "source": [
    "### on utilise la méthode sort_values()\n",
    "data.sort_values(\"Protein_(g)\")\n",
    "data.head()\n",
    "# Pensez à bien regarder la documentation et notamment l'existence des paramètres inplace= et ascending="
   ]
  },
  {
   "cell_type": "markdown",
   "metadata": {},
   "source": [
    "### Exo : un judoka de haut niveau voudrait adapter son alimentation à son programme d'entraînement et vous demande de déterminer les aliments à la fois riches en protéine et faibles en lipides. Son entraîneur vous contacte ensuite pour vous préciser que le plus important est qu'il y ait un maximum de protéine !"
   ]
  },
  {
   "cell_type": "markdown",
   "metadata": {},
   "source": [
    "Pour faire cet exercice, voici quelques indications. Vous pouvez tout à fait faire sans mais si vous ne savez pas par où commencer, ces quelques lignes vous aideront sûrement.\n",
    "\n",
    "Comme on souhaite regarder coinjointement les quantités de protéines et de lipides, le plus simple est de calculer un score faisant intervenir les variables Protein_(g) et Lipid_Tot_(g). L'idée de ce score est que plus il sera élevé, plus l'aliment répondra à nos critères (bcp de protéines/peu de lipides).\n",
    "\n",
    "Vous calculerez donc un score sous la forme __*Score = a * Protéine + b * Lipide* où a et b sont des constantes qu'il faudra fixer__ (arbitrairement certes mais en justifiant le choix quand même !).\n",
    "\n",
    "Les questions que vous devez vous poser :\n",
    " - Tout d'abord, quel doivent être les signes de a et de b pour répondre à notre problématique ?\n",
    " - Quel coefficient doit être le plus grand en valeur absolue ?\n",
    " - Ensuite, quelles sont les min et max des variables Protein_(g) et Lipid_Tot_(g) ?\n",
    " - Par conséquent, comment gérer le fait que ces deux variables n'évoluent pas du tout sur la même échelle ?\n",
    "\n",
    "À vous de jouer ! Essayez dans un premier temps de ne pas regarder la solution proposée ci dessous..."
   ]
  },
  {
   "cell_type": "code",
   "execution_count": null,
   "metadata": {},
   "outputs": [],
   "source": []
  },
  {
   "cell_type": "markdown",
   "metadata": {},
   "source": [
    "## Traitement des valeurs manquantes "
   ]
  },
  {
   "cell_type": "markdown",
   "metadata": {},
   "source": [
    "### Les données"
   ]
  },
  {
   "cell_type": "code",
   "execution_count": null,
   "metadata": {},
   "outputs": [],
   "source": [
    "titanic = pd.read_csv(\"Data/titanic-survival.csv\")\n",
    "titanic.head()"
   ]
  },
  {
   "cell_type": "code",
   "execution_count": null,
   "metadata": {},
   "outputs": [],
   "source": [
    "### La méthode describe() renvoie quelques statistiques du dataframe par variable\n",
    "titanic.describe()"
   ]
  },
  {
   "cell_type": "markdown",
   "metadata": {},
   "source": [
    "### Identifier les manquants"
   ]
  },
  {
   "cell_type": "code",
   "execution_count": null,
   "metadata": {},
   "outputs": [],
   "source": [
    "### la méthode isnull()\n",
    "titanic[\"age\"].isnull()"
   ]
  },
  {
   "cell_type": "markdown",
   "metadata": {},
   "source": [
    "Comment récupérer le nombre de valeurs manquantes ?"
   ]
  },
  {
   "cell_type": "code",
   "execution_count": null,
   "metadata": {},
   "outputs": [],
   "source": [
    "### Nombre de valeurs manquantes : exemples de solutions\n",
    "tot_nan1 = len(titanic.loc[titanic[\"age\"].isnull(),\"age\"])\n",
    "tot_nan2 = titanic[\"age\"].isnull().sum()\n",
    "\n",
    "print(tot_nan1, tot_nan2)"
   ]
  },
  {
   "cell_type": "code",
   "execution_count": null,
   "metadata": {},
   "outputs": [],
   "source": [
    "titanic.isnull().head()"
   ]
  },
  {
   "cell_type": "markdown",
   "metadata": {},
   "source": [
    "### Problème avec les valeurs manquantes : calcul de la moyenne"
   ]
  },
  {
   "cell_type": "code",
   "execution_count": null,
   "metadata": {},
   "outputs": [],
   "source": [
    "### Calcul de l'âge moyen sans build-in function\n",
    "age_mean =  sum(titanic[\"age\"])/len(titanic[\"age\"])\n",
    "age_mean"
   ]
  },
  {
   "cell_type": "code",
   "execution_count": null,
   "metadata": {},
   "outputs": [],
   "source": [
    "age_mean_wo_null = sum(titanic.loc[~titanic[\"age\"].isnull(),\"age\"])/len(titanic.loc[~titanic[\"age\"].isnull(),\"age\"])\n",
    "age_mean_wo_null"
   ]
  },
  {
   "cell_type": "code",
   "execution_count": null,
   "metadata": {},
   "outputs": [],
   "source": [
    "### Une méthode bien plus simple : la fonction buid-in Series.mean()\n",
    "titanic[\"age\"].mean()"
   ]
  },
  {
   "cell_type": "code",
   "execution_count": null,
   "metadata": {},
   "outputs": [],
   "source": [
    "titanic[\"fare\"].mean()"
   ]
  },
  {
   "cell_type": "markdown",
   "metadata": {},
   "source": [
    "### Exo : calculer le tarif moyen par classe. Retourner les résultats sous forme d'un dictionnaire"
   ]
  },
  {
   "cell_type": "code",
   "execution_count": null,
   "metadata": {},
   "outputs": [],
   "source": []
  },
  {
   "cell_type": "markdown",
   "metadata": {},
   "source": [
    "### Supprimer des valeurs manquantes"
   ]
  },
  {
   "cell_type": "code",
   "execution_count": null,
   "metadata": {},
   "outputs": [],
   "source": [
    "### La méthode .dropna()\n",
    "titanic.dropna(axis = 1)"
   ]
  },
  {
   "cell_type": "code",
   "execution_count": null,
   "metadata": {},
   "outputs": [],
   "source": [
    "titanic.dropna(axis = 0)"
   ]
  },
  {
   "cell_type": "code",
   "execution_count": null,
   "metadata": {},
   "outputs": [],
   "source": [
    "titanic.dropna(axis = 0, subset = [\"boat\"])"
   ]
  },
  {
   "cell_type": "code",
   "execution_count": null,
   "metadata": {},
   "outputs": [],
   "source": [
    "### Pour ne conserver uniquement les lignes pour lesquelles l'âge et le sexe sont renseignés\n",
    "titanic.dropna(axis = 0, subset = [\"age\",\"sex\"])"
   ]
  },
  {
   "cell_type": "code",
   "execution_count": null,
   "metadata": {},
   "outputs": [],
   "source": [
    "### On peut vérifier avec l'attribut shape\n",
    "titanic.dropna(axis = 0, subset = [\"age\",\"sex\"]).shape"
   ]
  },
  {
   "cell_type": "markdown",
   "metadata": {},
   "source": [
    "## Les pivots de tables"
   ]
  },
  {
   "cell_type": "markdown",
   "metadata": {},
   "source": [
    "Pour ceux qui connaissent, c'est l'équivalent des \"tableaux croisés dynamiques\" sur Excel."
   ]
  },
  {
   "cell_type": "code",
   "execution_count": null,
   "metadata": {},
   "outputs": [],
   "source": [
    "### Méthode DataFrame.pivot_table() : regardez la doc !!\n",
    "titanic.pivot_table(index = \"pclass\", values = \"fare\")"
   ]
  },
  {
   "cell_type": "code",
   "execution_count": null,
   "metadata": {},
   "outputs": [],
   "source": [
    "titanic.pivot_table(index = \"pclass\", values = \"fare\", aggfunc = sum)"
   ]
  },
  {
   "cell_type": "code",
   "execution_count": null,
   "metadata": {},
   "outputs": [],
   "source": [
    "titanic.pivot_table(index = \"pclass\", values = [\"age\",\"fare\",\"survived\"])"
   ]
  },
  {
   "cell_type": "code",
   "execution_count": null,
   "metadata": {},
   "outputs": [],
   "source": [
    "titanic.pivot_table(index=\"embarked\", values = [\"fare\", \"survived\"], aggfunc = sum)"
   ]
  },
  {
   "cell_type": "markdown",
   "metadata": {},
   "source": [
    "## Tri et réindexation"
   ]
  },
  {
   "cell_type": "code",
   "execution_count": null,
   "metadata": {},
   "outputs": [],
   "source": [
    "new_titanic = titanic.sort_values(\"age\", ascending=False)\n",
    "new_titanic"
   ]
  },
  {
   "cell_type": "markdown",
   "metadata": {},
   "source": [
    "Nous avons déjà introduit les méthodes loc et iloc sans nous y arrêter vraiment. C'est l'occasion de le faire maintenant.\n",
    "\n",
    "Quelles différences entre les deux méthodes ? Regardez ce que donnent new_titanic.loc[9,:] et new_titanic.iloc[9,:] pour y voir plus clair..."
   ]
  },
  {
   "cell_type": "code",
   "execution_count": null,
   "metadata": {},
   "outputs": [],
   "source": [
    "new_titanic.loc[9,:]"
   ]
  },
  {
   "cell_type": "code",
   "execution_count": null,
   "metadata": {},
   "outputs": [],
   "source": [
    "new_titanic.iloc[9,:]"
   ]
  },
  {
   "cell_type": "markdown",
   "metadata": {},
   "source": [
    "On voit donc l'intérêt de réindexer les lignes d'un nouveau dataframe construit à partir d'un dataframe existant puisqu'en effet les indices de ligne ne correspondent plus aux numéros des lignes...\n"
   ]
  },
  {
   "cell_type": "code",
   "execution_count": null,
   "metadata": {},
   "outputs": [],
   "source": [
    "### méthode .reset_index()\n",
    "new_titanic.reset_index()\n",
    "\n",
    "### voir l'option drop pour ne pas avoir une nouvelle colonne avec l'ancien indice"
   ]
  },
  {
   "cell_type": "markdown",
   "metadata": {},
   "source": [
    "## Appliquer une fonction sur un DataFrame"
   ]
  },
  {
   "cell_type": "code",
   "execution_count": null,
   "metadata": {},
   "outputs": [],
   "source": [
    "### méthode .apply()"
   ]
  },
  {
   "cell_type": "code",
   "execution_count": null,
   "metadata": {},
   "outputs": [],
   "source": [
    "### on définit une fonction qui retourne le 100ème élement d'une colonne\n",
    "def obs100(col):\n",
    "    return col.iloc[99]"
   ]
  },
  {
   "cell_type": "code",
   "execution_count": null,
   "metadata": {},
   "outputs": [],
   "source": [
    "### On applique cette fonction au dataframe\n",
    "titanic.apply(obs100, axis=0)"
   ]
  },
  {
   "cell_type": "markdown",
   "metadata": {},
   "source": [
    "Essayez maintenant la même chose avec __axis = 1__. Que se passe-t-il ? Pourquoi ?"
   ]
  },
  {
   "cell_type": "code",
   "execution_count": null,
   "metadata": {},
   "outputs": [],
   "source": [
    "### on définit une nouvelle fonction\n",
    "def from_france(row):\n",
    "    if row[\"embarked\"] == \"C\":\n",
    "        return \"départ de France\"\n",
    "    else:\n",
    "        return \"parti d'ailleurs\"\n",
    "\n",
    "titanic.apply(from_france, axis=1)"
   ]
  },
  {
   "cell_type": "markdown",
   "metadata": {},
   "source": [
    "### Exo : utiliser la méthode apply pour déterminer le nombre de valeurs manquantes dans chaque colonne"
   ]
  },
  {
   "cell_type": "markdown",
   "metadata": {},
   "source": [
    "Une indication : il faut d'abord définir une fonction"
   ]
  },
  {
   "cell_type": "code",
   "execution_count": null,
   "metadata": {},
   "outputs": [],
   "source": []
  },
  {
   "cell_type": "code",
   "execution_count": null,
   "metadata": {},
   "outputs": [],
   "source": []
  },
  {
   "cell_type": "markdown",
   "metadata": {},
   "source": [
    "### Exo : utiliser la méthode apply pour créer une nouvelle variable age_label dans le dataframe contenant 'minor' si la personne a moins de 18 ans, 'adult' si son age est supérieur ou égal à 18 ans et 'unknown' sinon "
   ]
  },
  {
   "cell_type": "markdown",
   "metadata": {},
   "source": [
    "Indications : Procéder par étape ! On définira d'abord une fonction, qu'on appliquera au dataframe et on stockera le résultat dans une nouvelle colonne"
   ]
  },
  {
   "cell_type": "code",
   "execution_count": null,
   "metadata": {},
   "outputs": [],
   "source": []
  },
  {
   "cell_type": "code",
   "execution_count": null,
   "metadata": {},
   "outputs": [],
   "source": []
  },
  {
   "cell_type": "code",
   "execution_count": null,
   "metadata": {},
   "outputs": [],
   "source": []
  },
  {
   "cell_type": "markdown",
   "metadata": {},
   "source": [
    "### Exo : calculer le pourcentage de survie par groupe d'âge (majeur/mineur)"
   ]
  },
  {
   "cell_type": "markdown",
   "metadata": {},
   "source": [
    "Indication : l'exercice précédent a quasiment fait tout le boulot..."
   ]
  },
  {
   "cell_type": "code",
   "execution_count": null,
   "metadata": {},
   "outputs": [],
   "source": []
  },
  {
   "cell_type": "code",
   "execution_count": null,
   "metadata": {},
   "outputs": [],
   "source": []
  }
 ],
 "metadata": {
  "kernelspec": {
   "display_name": "Python 3",
   "language": "python",
   "name": "python3"
  },
  "language_info": {
   "codemirror_mode": {
    "name": "ipython",
    "version": 3
   },
   "file_extension": ".py",
   "mimetype": "text/x-python",
   "name": "python",
   "nbconvert_exporter": "python",
   "pygments_lexer": "ipython3",
   "version": "3.7.3"
  }
 },
 "nbformat": 4,
 "nbformat_minor": 2
}

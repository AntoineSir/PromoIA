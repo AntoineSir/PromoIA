{
 "cells": [
  {
   "cell_type": "markdown",
   "metadata": {},
   "source": [
    "# Visualisation graphique : graphiques à nuage de points"
   ]
  },
  {
   "cell_type": "markdown",
   "metadata": {},
   "source": [
    "- Lire 'fandango-scores.csv' dans un dataframe\n",
    "- Sélectionner les colonnes suivantes et les assigner à un nouveau dataframe :'FILM', 'RT_user_norm', 'Metacritic_user_nom', 'IMDB_norm', 'Fandango_Ratingvalue' et 'Fandango_Stars'"
   ]
  },
  {
   "cell_type": "code",
   "execution_count": 1,
   "metadata": {},
   "outputs": [
    {
     "data": {
      "text/html": [
       "<div>\n",
       "<style scoped>\n",
       "    .dataframe tbody tr th:only-of-type {\n",
       "        vertical-align: middle;\n",
       "    }\n",
       "\n",
       "    .dataframe tbody tr th {\n",
       "        vertical-align: top;\n",
       "    }\n",
       "\n",
       "    .dataframe thead th {\n",
       "        text-align: right;\n",
       "    }\n",
       "</style>\n",
       "<table border=\"1\" class=\"dataframe\">\n",
       "  <thead>\n",
       "    <tr style=\"text-align: right;\">\n",
       "      <th></th>\n",
       "      <th>FILM</th>\n",
       "      <th>RT_user_norm</th>\n",
       "      <th>Metacritic_user_nom</th>\n",
       "      <th>IMDB_norm</th>\n",
       "      <th>Fandango_Ratingvalue</th>\n",
       "      <th>Fandango_Stars</th>\n",
       "    </tr>\n",
       "  </thead>\n",
       "  <tbody>\n",
       "    <tr>\n",
       "      <th>0</th>\n",
       "      <td>Avengers: Age of Ultron (2015)</td>\n",
       "      <td>4.3</td>\n",
       "      <td>3.55</td>\n",
       "      <td>3.90</td>\n",
       "      <td>4.5</td>\n",
       "      <td>5.0</td>\n",
       "    </tr>\n",
       "    <tr>\n",
       "      <th>1</th>\n",
       "      <td>Cinderella (2015)</td>\n",
       "      <td>4.0</td>\n",
       "      <td>3.75</td>\n",
       "      <td>3.55</td>\n",
       "      <td>4.5</td>\n",
       "      <td>5.0</td>\n",
       "    </tr>\n",
       "    <tr>\n",
       "      <th>2</th>\n",
       "      <td>Ant-Man (2015)</td>\n",
       "      <td>4.5</td>\n",
       "      <td>4.05</td>\n",
       "      <td>3.90</td>\n",
       "      <td>4.5</td>\n",
       "      <td>5.0</td>\n",
       "    </tr>\n",
       "    <tr>\n",
       "      <th>3</th>\n",
       "      <td>Do You Believe? (2015)</td>\n",
       "      <td>4.2</td>\n",
       "      <td>2.35</td>\n",
       "      <td>2.70</td>\n",
       "      <td>4.5</td>\n",
       "      <td>5.0</td>\n",
       "    </tr>\n",
       "    <tr>\n",
       "      <th>4</th>\n",
       "      <td>Hot Tub Time Machine 2 (2015)</td>\n",
       "      <td>1.4</td>\n",
       "      <td>1.70</td>\n",
       "      <td>2.55</td>\n",
       "      <td>3.0</td>\n",
       "      <td>3.5</td>\n",
       "    </tr>\n",
       "  </tbody>\n",
       "</table>\n",
       "</div>"
      ],
      "text/plain": [
       "                             FILM  RT_user_norm  Metacritic_user_nom  \\\n",
       "0  Avengers: Age of Ultron (2015)           4.3                 3.55   \n",
       "1               Cinderella (2015)           4.0                 3.75   \n",
       "2                  Ant-Man (2015)           4.5                 4.05   \n",
       "3          Do You Believe? (2015)           4.2                 2.35   \n",
       "4   Hot Tub Time Machine 2 (2015)           1.4                 1.70   \n",
       "\n",
       "   IMDB_norm  Fandango_Ratingvalue  Fandango_Stars  \n",
       "0       3.90                   4.5             5.0  \n",
       "1       3.55                   4.5             5.0  \n",
       "2       3.90                   4.5             5.0  \n",
       "3       2.70                   4.5             5.0  \n",
       "4       2.55                   3.0             3.5  "
      ]
     },
     "execution_count": 1,
     "metadata": {},
     "output_type": "execute_result"
    }
   ],
   "source": [
    "import pandas as pd\n",
    "data = pd.read_csv(\"Data/fandango-scores.csv\")\n",
    "data_norm = data[['FILM','RT_user_norm','Metacritic_user_nom','IMDB_norm','Fandango_Ratingvalue','Fandango_Stars']]\n",
    "data_norm.head()"
   ]
  },
  {
   "cell_type": "markdown",
   "metadata": {},
   "source": [
    "## Graphique à nuage de points"
   ]
  },
  {
   "cell_type": "code",
   "execution_count": null,
   "metadata": {},
   "outputs": [],
   "source": [
    "# On utilise la méthode .scatter(x_values,y_values) pour afficher des nuages de points"
   ]
  },
  {
   "cell_type": "markdown",
   "metadata": {},
   "source": [
    "__À vous !__\n",
    ">- Créer un sous-graphique et assigner l'objet Figure à la variable fig et l'objet Axes à la variable ax.\n",
    ">- Générer un graphique à nuage de points avec la colonne 'Fandango_Ratingvalue' sur l'axe x et et la colonne 'RT_user_norm' pour l'axe y.\n",
    ">- Définir pour l'axe x 'Fandango' et 'Rotten Tomatoes' pour l'axe y.\n",
    ">- Afficher le graphique résultant."
   ]
  },
  {
   "cell_type": "code",
   "execution_count": 2,
   "metadata": {},
   "outputs": [],
   "source": [
    "import matplotlib.pyplot as plt\n",
    "from numpy import arange"
   ]
  },
  {
   "cell_type": "code",
   "execution_count": 3,
   "metadata": {},
   "outputs": [
    {
     "data": {
      "image/png": "[encoded data removed]",
      "text/plain": [
       "<Figure size 432x288 with 1 Axes>"
      ]
     },
     "metadata": {
      "needs_background": "light"
     },
     "output_type": "display_data"
    }
   ],
   "source": [
    "fig, ax = plt.subplots()\n",
    "ax.scatter(data_norm['Fandango_Ratingvalue'], data_norm['RT_user_norm'])\n",
    "ax.set_xlabel('Fandango')\n",
    "ax.set_ylabel('Rotten Tomatoes')\n",
    "plt.show()"
   ]
  },
  {
   "cell_type": "markdown",
   "metadata": {},
   "source": [
    "## Intervertir les axes"
   ]
  },
  {
   "cell_type": "markdown",
   "metadata": {},
   "source": [
    "- Pour le sous-graphique associé à la variable ax1.\n",
    ">- Générer un graphique à nuage de points avec la colonne 'Fandango_Ratingvalue' sur l'axe x et la colonne 'RT_user_norm' sur l'axe y\n",
    ">- Définir pour l'axe x 'Fandango' et pour l'axe y 'Rotten Tomatoes'\n",
    "- Pour le sous-graphique associé à la variable ax2.\n",
    ">- Générer un graphique à nuage de points avec la colonne 'RT_user_norm' sur l'axe x et la colonne 'Fandango_Ratingvalue' sur l'axe y\n",
    ">- Définir pour l'axe x 'Rotten Tomatoes' et pour l'axe y 'fandango'\n",
    "- Afficher le graphique résultant."
   ]
  },
  {
   "cell_type": "code",
   "execution_count": 7,
   "metadata": {},
   "outputs": [
    {
     "data": {
      "image/png": "[encoded data removed]",
      "text/plain": [
       "<Figure size 864x360 with 2 Axes>"
      ]
     },
     "metadata": {
      "needs_background": "light"
     },
     "output_type": "display_data"
    }
   ],
   "source": [
    "fig = plt.figure(figsize=(12,5))\n",
    "ax1 = fig.add_subplot(1,2,1)\n",
    "ax2 = fig.add_subplot(1,2,2)\n",
    "\n",
    "#fig, ax = plt.subplots(1,2,figsize=(12,5))\n",
    "\n",
    "ax1.scatter(data_norm['Fandango_Ratingvalue'], data_norm['RT_user_norm'])\n",
    "ax1.set_xlabel('Fandango')\n",
    "ax1.set_ylabel('Rotten Tomatoes')\n",
    "\n",
    "ax2.scatter (data_norm['RT_user_norm'], data_norm['Fandango_Ratingvalue'])\n",
    "ax2.set_xlabel('Rotten Tomatoes')\n",
    "ax2.set_ylabel('Fandango')\n",
    "\n",
    "plt.show()"
   ]
  },
  {
   "cell_type": "code",
   "execution_count": null,
   "metadata": {},
   "outputs": [],
   "source": [
    "# WARNING : par défaut matplotlib utilise pour les axes l'échelle minimale permettant l'affichage des données\n",
    "# le problème ci-dessus est que l'on a 2 échelles différentes entre nos deux graphiques...\n",
    "# comment gérer ça ?"
   ]
  },
  {
   "cell_type": "markdown",
   "metadata": {},
   "source": [
    "## Comparaison de corrélations"
   ]
  },
  {
   "cell_type": "code",
   "execution_count": null,
   "metadata": {},
   "outputs": [],
   "source": [
    "# pour régler le problème évoqué ci-dessus :\n",
    "# on force les axes à avoir une taille que l'on définie avec Axes.set_xlim() et Axes.set_ylim()"
   ]
  },
  {
   "cell_type": "markdown",
   "metadata": {},
   "source": [
    "__À vous !__\n",
    ">Tracer un graphiques avec 3 sous-graphiques:\n",
    ">- Pour le sous-graphique associé à la variable ax1:\n",
    ">>- Générer un graphique à nuage de points avec la colonne 'Fandango_Ratingvalue' sur l'axe x et la colonne 'RT_user_norm' sur l'axe y\n",
    ">>- Définir pour l'axe x 'Fandango' et pour l'axe y 'Rotten Tomatoes'\n",
    ">>- Définir les limites des axes x et y en les fixant de 0 à 5\n",
    ">- Pour le sous-graphique associé à la variable ax2:\n",
    ">>- Générer un graphique à nuage de points avec la colonne 'Fandango_Ratingvalue' sur l'axe x et la colonne 'Metacritic_user_nom' sur l'axe y\n",
    ">>- Définir pour l'axe x 'Fandango' et pour l'axe y 'Metacritic'\n",
    ">>- Définir les limites des axes x et y en les fixant de 0 à 5\n",
    ">- Pour le sous-graphique associé à la variable ax3:\n",
    ">>- Générer un graphique à nuage de points avec la colonne 'Fandango_Ratingvalue' sur l'axe x et la colonne 'IMDB_norm' sur l'axe y\n",
    ">>- Définir pour l'axe x 'Fandango' et pour l'axe y 'IMDB'\n",
    ">>- Définir les limites des axes x et y en les fixant de 0 à 5\n",
    ">- Afficher le graphique."
   ]
  },
  {
   "cell_type": "code",
   "execution_count": 8,
   "metadata": {},
   "outputs": [
    {
     "data": {
      "image/png": "[encoded data removed]",
      "text/plain": [
       "<Figure size 360x720 with 3 Axes>"
      ]
     },
     "metadata": {
      "needs_background": "light"
     },
     "output_type": "display_data"
    }
   ],
   "source": [
    "import matplotlib.pyplot as plt\n",
    "\n",
    "fig = plt.figure(figsize=(5,10))\n",
    "\n",
    "ax1 = fig.add_subplot(3,1,1)\n",
    "ax2 = fig.add_subplot(3,1,2)\n",
    "ax3 = fig.add_subplot(3,1,3)\n",
    "\n",
    "ax1.scatter(data_norm['Fandango_Ratingvalue'], data_norm['RT_user_norm'])\n",
    "ax1.set_xlabel('Fandango')\n",
    "ax1.set_ylabel('Rotten Tomatoes')\n",
    "ax1.set_xlim(0,5)\n",
    "ax1.set_ylim(0,5)\n",
    "\n",
    "ax2.scatter(data_norm['Fandango_Ratingvalue'], data_norm['Metacritic_user_nom'])\n",
    "ax2.set_xlabel('Fandango')\n",
    "ax2.set_ylabel('Metacritic')\n",
    "ax2.set_xlim(0,5)\n",
    "ax2.set_ylim(0,5)\n",
    "\n",
    "ax3.scatter(data_norm['Fandango_Ratingvalue'], data_norm['IMDB_norm'])\n",
    "ax3.set_xlabel('Fandango')\n",
    "ax3.set_ylabel('IMDB')\n",
    "ax3.set_xlim(0,5)\n",
    "ax3.set_ylim(0,5)\n",
    "\n",
    "plt.show()"
   ]
  },
  {
   "cell_type": "code",
   "execution_count": null,
   "metadata": {},
   "outputs": [],
   "source": [
    "### Que dire des notes en regardant ces graphiques ?"
   ]
  },
  {
   "cell_type": "code",
   "execution_count": 10,
   "metadata": {},
   "outputs": [
    {
     "data": {
      "image/png": "[encoded data removed]",
      "text/plain": [
       "<Figure size 432x288 with 1 Axes>"
      ]
     },
     "metadata": {
      "needs_background": "light"
     },
     "output_type": "display_data"
    }
   ],
   "source": [
    "plt.plot()\n",
    "plt.scatter(data_norm['Fandango_Ratingvalue'],data_norm['Fandango_Ratingvalue'])\n",
    "plt.show()"
   ]
  },
  {
   "cell_type": "code",
   "execution_count": null,
   "metadata": {},
   "outputs": [],
   "source": []
  }
 ],
 "metadata": {
  "kernelspec": {
   "display_name": "Python 3",
   "language": "python",
   "name": "python3"
  },
  "language_info": {
   "codemirror_mode": {
    "name": "ipython",
    "version": 3
   },
   "file_extension": ".py",
   "mimetype": "text/x-python",
   "name": "python",
   "nbconvert_exporter": "python",
   "pygments_lexer": "ipython3",
   "version": "3.7.0"
  }
 },
 "nbformat": 4,
 "nbformat_minor": 2
}

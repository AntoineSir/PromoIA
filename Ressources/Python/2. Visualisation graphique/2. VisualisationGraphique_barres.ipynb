{
 "cells": [
  {
   "cell_type": "markdown",
   "metadata": {},
   "source": [
    "# Visualisation graphique : diagrammes en barres"
   ]
  },
  {
   "cell_type": "markdown",
   "metadata": {},
   "source": [
    "- Lire 'fandango-scores.csv' dans un dataframe\n",
    "- Sélectionner les colonnes suivantes et les assigner à un nouveau dataframe :'FILM', 'RT_user_norm', 'Metacritic_user_nom', 'IMDB_norm', 'Fandango_Ratingvalue' et 'Fandango_Stars'"
   ]
  },
  {
   "cell_type": "code",
   "execution_count": 1,
   "metadata": {},
   "outputs": [
    {
     "data": {
      "text/html": [
       "<div>\n",
       "<style scoped>\n",
       "    .dataframe tbody tr th:only-of-type {\n",
       "        vertical-align: middle;\n",
       "    }\n",
       "\n",
       "    .dataframe tbody tr th {\n",
       "        vertical-align: top;\n",
       "    }\n",
       "\n",
       "    .dataframe thead th {\n",
       "        text-align: right;\n",
       "    }\n",
       "</style>\n",
       "<table border=\"1\" class=\"dataframe\">\n",
       "  <thead>\n",
       "    <tr style=\"text-align: right;\">\n",
       "      <th></th>\n",
       "      <th>FILM</th>\n",
       "      <th>RT_user_norm</th>\n",
       "      <th>Metacritic_user_nom</th>\n",
       "      <th>IMDB_norm</th>\n",
       "      <th>Fandango_Ratingvalue</th>\n",
       "      <th>Fandango_Stars</th>\n",
       "    </tr>\n",
       "  </thead>\n",
       "  <tbody>\n",
       "    <tr>\n",
       "      <th>0</th>\n",
       "      <td>Avengers: Age of Ultron (2015)</td>\n",
       "      <td>4.3</td>\n",
       "      <td>3.55</td>\n",
       "      <td>3.90</td>\n",
       "      <td>4.5</td>\n",
       "      <td>5.0</td>\n",
       "    </tr>\n",
       "    <tr>\n",
       "      <th>1</th>\n",
       "      <td>Cinderella (2015)</td>\n",
       "      <td>4.0</td>\n",
       "      <td>3.75</td>\n",
       "      <td>3.55</td>\n",
       "      <td>4.5</td>\n",
       "      <td>5.0</td>\n",
       "    </tr>\n",
       "    <tr>\n",
       "      <th>2</th>\n",
       "      <td>Ant-Man (2015)</td>\n",
       "      <td>4.5</td>\n",
       "      <td>4.05</td>\n",
       "      <td>3.90</td>\n",
       "      <td>4.5</td>\n",
       "      <td>5.0</td>\n",
       "    </tr>\n",
       "    <tr>\n",
       "      <th>3</th>\n",
       "      <td>Do You Believe? (2015)</td>\n",
       "      <td>4.2</td>\n",
       "      <td>2.35</td>\n",
       "      <td>2.70</td>\n",
       "      <td>4.5</td>\n",
       "      <td>5.0</td>\n",
       "    </tr>\n",
       "    <tr>\n",
       "      <th>4</th>\n",
       "      <td>Hot Tub Time Machine 2 (2015)</td>\n",
       "      <td>1.4</td>\n",
       "      <td>1.70</td>\n",
       "      <td>2.55</td>\n",
       "      <td>3.0</td>\n",
       "      <td>3.5</td>\n",
       "    </tr>\n",
       "  </tbody>\n",
       "</table>\n",
       "</div>"
      ],
      "text/plain": [
       "                             FILM  RT_user_norm  Metacritic_user_nom  \\\n",
       "0  Avengers: Age of Ultron (2015)           4.3                 3.55   \n",
       "1               Cinderella (2015)           4.0                 3.75   \n",
       "2                  Ant-Man (2015)           4.5                 4.05   \n",
       "3          Do You Believe? (2015)           4.2                 2.35   \n",
       "4   Hot Tub Time Machine 2 (2015)           1.4                 1.70   \n",
       "\n",
       "   IMDB_norm  Fandango_Ratingvalue  Fandango_Stars  \n",
       "0       3.90                   4.5             5.0  \n",
       "1       3.55                   4.5             5.0  \n",
       "2       3.90                   4.5             5.0  \n",
       "3       2.70                   4.5             5.0  \n",
       "4       2.55                   3.0             3.5  "
      ]
     },
     "execution_count": 1,
     "metadata": {},
     "output_type": "execute_result"
    }
   ],
   "source": [
    "import pandas as pd\n",
    "data = pd.read_csv(\"Data/fandango-scores.csv\")\n",
    "data_norm = data[['FILM','RT_user_norm','Metacritic_user_nom','IMDB_norm','Fandango_Ratingvalue','Fandango_Stars']]\n",
    "data_norm.head()"
   ]
  },
  {
   "cell_type": "markdown",
   "metadata": {},
   "source": [
    "## Diagrammes en barre"
   ]
  },
  {
   "cell_type": "code",
   "execution_count": 2,
   "metadata": {},
   "outputs": [],
   "source": [
    "import matplotlib.pyplot as plt"
   ]
  },
  {
   "cell_type": "code",
   "execution_count": 3,
   "metadata": {},
   "outputs": [],
   "source": [
    "# pour les diagrammes en barres .bar()\n",
    "# Axes.bar(left,height)\n",
    "# left = positions des barres = coordonnée X de toutes les barres -> ici [1,2,3,4,5]\n",
    "# height = la hauteur de chaque barre"
   ]
  },
  {
   "cell_type": "code",
   "execution_count": 4,
   "metadata": {},
   "outputs": [],
   "source": [
    "from numpy import arange\n",
    "bar_positions=arange(5)+1"
   ]
  },
  {
   "cell_type": "code",
   "execution_count": 5,
   "metadata": {},
   "outputs": [],
   "source": [
    "#hauteur des barres : on prend la moyenne des notes du premier film de notre dataset\n",
    "bar_height = data_norm.iloc[0,1:].values"
   ]
  },
  {
   "cell_type": "code",
   "execution_count": 6,
   "metadata": {},
   "outputs": [
    {
     "data": {
      "image/png": "[encoded data removed]",
      "text/plain": [
       "<Figure size 432x288 with 1 Axes>"
      ]
     },
     "metadata": {
      "needs_background": "light"
     },
     "output_type": "display_data"
    }
   ],
   "source": [
    "fig, ax = plt.subplots()\n",
    "ax.bar(bar_positions, bar_height, 0.6)\n",
    "plt.show()"
   ]
  },
  {
   "cell_type": "markdown",
   "metadata": {},
   "source": [
    "__À vous !__\n",
    ">- Créer un sous-graphique et assigner l'objet Figure à la variable fig et l'objet Axes à la variable ax.\n",
    ">- Générer un diagramme en barre avec:\n",
    ">>- left définie par bar_positions qui doit prendre les valeurs 1,2,3,4 et 5\n",
    ">>- height définie par bar_heights qui doit prendre les 5 colonnes qui nous intéressent\n",
    ">>- width fixé à 0.5\n",
    ">- Utiliser plt.show() pour afficher le diagramme en barre.\n"
   ]
  },
  {
   "cell_type": "code",
   "execution_count": 9,
   "metadata": {},
   "outputs": [
    {
     "data": {
      "image/png": "[encoded data removed]",
      "text/plain": [
       "<Figure size 576x288 with 1 Axes>"
      ]
     },
     "metadata": {
      "needs_background": "light"
     },
     "output_type": "display_data"
    }
   ],
   "source": [
    "bar_positions = arange(5)+1\n",
    "mes_colonnes = ['RT_user_norm', 'Metacritic_user_nom', 'IMDB_norm', 'Fandango_Ratingvalue', 'Fandango_Stars']\n",
    "bar_heights = data_norm.loc[0,mes_colonnes].values\n",
    "fig, ax = plt.subplots(figsize=(8,4))\n",
    "ax.bar(bar_positions, bar_heights, 0.5)\n",
    "plt.show()"
   ]
  },
  {
   "cell_type": "markdown",
   "metadata": {},
   "source": [
    "## Aligner l'intitulé et le trait sur l'axe x"
   ]
  },
  {
   "cell_type": "code",
   "execution_count": null,
   "metadata": {},
   "outputs": [],
   "source": [
    "# On utilise la méthode .set_xticks() des objets Axes pour positionner les marques (sur l'axe des anscisses\n",
    "# correspondant à chaque barre"
   ]
  },
  {
   "cell_type": "code",
   "execution_count": null,
   "metadata": {},
   "outputs": [],
   "source": [
    "# set_xticklabels() pour définir les noms à afficher"
   ]
  },
  {
   "cell_type": "markdown",
   "metadata": {},
   "source": [
    "__À vous !__\n",
    ">- Créer un sous-graphique et assigner l'objet Figure à la variable fig et l'objet Axes à la variable ax.\n",
    ">- Générer un diagramme en barre avec comme précédemment\n",
    ">- Placer les 5 traits correspondant aux barres.\n",
    ">- Placer les intitulés de colonnes et faire une rotation pour plus de lisibilité\n",
    ">- Définir l'axe x par 'Sources de notation'.\n",
    ">- Définir l'axe y par 'Note moyenne'.\n",
    ">- Définir le titre par 'Moyenne des notes utilisateurs pour le film Avengers: Age of Ultron (2015'.\n",
    ">- Utiliser plt.show() pour afficher le diagramme."
   ]
  },
  {
   "cell_type": "code",
   "execution_count": null,
   "metadata": {},
   "outputs": [],
   "source": [
    "bar_positions = arange(5)+1\n",
    "mes_colonnes = ['RT_user_norm', 'Metacritic_user_nom', 'IMDB_norm', 'Fandango_Ratingvalue', 'Fandango_Stars']\n",
    "bar_heights = data_norm.loc[0,mes_colonnes].values\n",
    "tick_positions = arange(5)+1\n",
    "\n",
    "fig, ax = plt.subplots()\n",
    "ax.bar(bar_positions,bar_heights,0.6)\n",
    "ax.set_xticks(tick_positions)\n",
    "ax.set_xticklabels(mes_colonnes, rotation = 70)\n",
    "\n",
    "ax.set_xlabel('Sources de notation')\n",
    "ax.set_ylabel('Note moyenne')\n",
    "ax.set_title('Moyenne des notes utilisateurs pour le film Avengers: Age of Ultron (2015)')\n",
    "\n",
    "plt.show()"
   ]
  },
  {
   "cell_type": "markdown",
   "metadata": {},
   "source": [
    "## Diagramme en barres horizontales"
   ]
  },
  {
   "cell_type": "code",
   "execution_count": null,
   "metadata": {},
   "outputs": [],
   "source": [
    "# pour un diagramme en barres horizontales, on utilise la méthode Axes.barh(bottom,width)\n",
    "# bottom = position des barres sur l'axe vertical\n",
    "# width = largeur des barres"
   ]
  },
  {
   "cell_type": "markdown",
   "metadata": {},
   "source": [
    "__À vous !__\n",
    ">- Créer un sous-graphique et assigner l'objet Figure à la variable fig et l'objet Axes à la variable ax.\n",
    ">- Générer un diagramme en barres horizontales avec:\n",
    ">>- bottom pour les positions bar_positions\n",
    ">>- width pour la largeur des barres bar_widths\n",
    ">>- height fixé à 0.5\n",
    ">- Placer les 5 traits correspondants aux barres sur l'axe y.\n",
    ">- Placer les intitulés de num_cols.\n",
    ">- Définir l'axe y par 'Sources de notes'.\n",
    ">- Définir l'axe x par 'Note moyenne'.\n",
    ">- définir le titre par 'Note moyenne utilisateurs pour le film Avengers: Age of Ultron (2015)'.\n",
    ">- Utiliser plt.show() pour afficher le diagramme en barre."
   ]
  },
  {
   "cell_type": "code",
   "execution_count": null,
   "metadata": {},
   "outputs": [],
   "source": [
    "import matplotlib.pyplot as plt\n",
    "from numpy import arange\n",
    "\n",
    "bar_positions = arange(5)+1\n",
    "mes_colonnes = ['RT_user_norm', 'Metacritic_user_nom', 'IMDB_norm', 'Fandango_Ratingvalue', 'Fandango_Stars']\n",
    "bar_widths = data_norm.loc[0,mes_colonnes].values\n",
    "tick_positions = arange(5)+1\n",
    "\n",
    "fig, ax = plt.subplots()\n",
    "ax.barh(bar_positions,bar_widths,0.6)\n",
    "ax.set_yticks(tick_positions)\n",
    "ax.set_yticklabels(mes_colonnes)\n",
    "\n",
    "ax.set_xlabel('Note moyenne')\n",
    "ax.set_ylabel('Sources de notation')\n",
    "ax.set_title('Moyenne des notes utilisateurs pour le film Avengers: Age of Ultron (2015)')\n",
    "\n",
    "plt.show()"
   ]
  }
 ],
 "metadata": {
  "kernelspec": {
   "display_name": "Python 3",
   "language": "python",
   "name": "python3"
  },
  "language_info": {
   "codemirror_mode": {
    "name": "ipython",
    "version": 3
   },
   "file_extension": ".py",
   "mimetype": "text/x-python",
   "name": "python",
   "nbconvert_exporter": "python",
   "pygments_lexer": "ipython3",
   "version": "3.7.3"
  }
 },
 "nbformat": 4,
 "nbformat_minor": 2
}

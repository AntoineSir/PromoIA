{
 "cells": [
  {
   "cell_type": "markdown",
   "metadata": {},
   "source": [
    "# Visualisation graphique : histogrammes et boîtes à moustaches"
   ]
  },
  {
   "cell_type": "code",
   "execution_count": null,
   "metadata": {},
   "outputs": [],
   "source": [
    "import pandas as pd\n",
    "\n",
    "data = pd.read_csv('Data/fandango-scores.csv')\n",
    "cols = ['FILM', 'RT_user_norm', 'Metacritic_user_nom', 'IMDB_norm', 'Fandango_Ratingvalue']\n",
    "\n",
    "data_norm = data[cols]\n",
    "\n",
    "data_norm.head(10)"
   ]
  },
  {
   "cell_type": "markdown",
   "metadata": {},
   "source": [
    "## Distribution de fréquences"
   ]
  },
  {
   "cell_type": "code",
   "execution_count": null,
   "metadata": {},
   "outputs": [],
   "source": [
    "# Series.values_counts() pour calculer la fréquence de chaque valeurs d'une Series\n",
    "data_norm[\"Fandango_Ratingvalue\"].value_counts()"
   ]
  },
  {
   "cell_type": "code",
   "execution_count": null,
   "metadata": {},
   "outputs": [],
   "source": [
    "# Series.sort_index()\n",
    "freq = data_norm[\"Fandango_Ratingvalue\"].value_counts()\n",
    "freq_sorted = freq.sort_index()\n",
    "freq_sorted"
   ]
  },
  {
   "cell_type": "markdown",
   "metadata": {},
   "source": [
    "__À vous !__\n",
    ">- Utiliser la méthode value_counts() pour retourner le décompte des fréquences de la colonne 'IMDB_norm'. Trier l'objet Series résultant par son index et assigner le résultat à la variable imdb_distribution.\n",
    ">- Afficher le résultat."
   ]
  },
  {
   "cell_type": "code",
   "execution_count": null,
   "metadata": {},
   "outputs": [],
   "source": [
    "imdb_distribution = data_norm['IMDB_norm'].value_counts()\n",
    "imdb_distribution = imdb_distribution.sort_index()\n",
    "\n",
    "print(imdb_distribution)"
   ]
  },
  {
   "cell_type": "code",
   "execution_count": null,
   "metadata": {},
   "outputs": [],
   "source": [
    "### WARNING: un problème est qu'il y a beaucoup de valeurs uniques (21 pour pour fandango, 41 pour imdb)\n",
    "# un second problème est qu'il y a une grande différence entre fandango et imdb \n",
    "# => une solution est donc de créer une échelle commune pour comparer :\n",
    "# on va faire des classes (par exemple les notes entre 1 et 2, entre 2 et 3, entre 3 et 4 etc)\n",
    "# on pourra compter le nombre d'éléments dans chaque classe et les comparer\n",
    "# c'est le principe d'un histogramme"
   ]
  },
  {
   "cell_type": "markdown",
   "metadata": {},
   "source": [
    "## Les histogrammes avec Matplotlib"
   ]
  },
  {
   "cell_type": "code",
   "execution_count": null,
   "metadata": {},
   "outputs": [],
   "source": [
    "#Axes.hist(values,range=(a,b), bins) \n",
    "### Regarder l'aide pour voir le fonctionnement par défaut !"
   ]
  },
  {
   "cell_type": "markdown",
   "metadata": {},
   "source": [
    "- Créer un sous-graphique et assigner les objets Figure à la variable fig et Axes à la variable ax.\n",
    "- Générer un histogramme des valeurs de la colonne 'Fandango_Ratingvalue' en utilisant un range de 0 à 5.\n",
    "- Utiliser plt.show() pour afficher le graphique."
   ]
  },
  {
   "cell_type": "code",
   "execution_count": null,
   "metadata": {},
   "outputs": [],
   "source": [
    "import matplotlib.pyplot as plt\n",
    "\n",
    "fig, ax = plt.subplots()\n",
    "ax.hist(data_norm[\"Fandango_Ratingvalue\"], range = (0,5))\n",
    "plt.show()"
   ]
  },
  {
   "cell_type": "markdown",
   "metadata": {},
   "source": [
    "## Comparaison d'histogrammes"
   ]
  },
  {
   "cell_type": "markdown",
   "metadata": {},
   "source": [
    "__À vous !__\n",
    ">Tracer un graphique avec 4 sous-graphiques:\n",
    ">- Pour le sous-graphique associé à la variable ax1:\n",
    ">>- Générer un histogramme des valeurs de la colonne 'Fandango_Ratingvalue' en utilisant 20 classes (bins) et un intervalle de 0 à 5\n",
    ">- Pour le sous-graphique associé à la variable ax2:\n",
    ">>- Générer un histogramme des valeurs de la colonne 'RT_user_norm' en utilisant 20 classes (bins) et un intervalle de 0 à 5\n",
    ">- Pour le sous-graphique associé à la variable ax3:\n",
    ">>- Générer un histogramme des valeurs de la colonne 'Metacritic_user_nom' en utilisant 20 classes (bins) et un intervalle de 0 à 5\n",
    ">- Pour le sous-graphique associé à la variable ax4:\n",
    ">>- Générer un histogramme des valeurs de la colonne 'IMDB_norm' en utilisant 20 classes (bins) et un intervalle de 0 à 5\n",
    ">- Pour tous les graphiques définir l'intervalle sur l'axe y de 0 à 50 en utilisant Axes.set_ylim() et choisir un titre.\n",
    ">- Afficher les histogrammes."
   ]
  },
  {
   "cell_type": "code",
   "execution_count": null,
   "metadata": {},
   "outputs": [],
   "source": [
    "import matplotlib.pyplt as plt\n",
    "\n",
    "fig, ax = plt.subplots(size=(5,20))\n",
    "ax1 = fig.add_subplot(4,1,1)\n",
    "ax2 = fig.add_subplot(4,1,2)\n",
    "ax3 = fig.add_subplot(4,1,3)\n",
    "ax4 = fig.add_subplot(4,1,4)\n",
    "\n",
    "ax1.hist(data_norm['Fandango_Ratingvalue'], bins = 20, range=(0,5))\n",
    "ax1.set_title('Distribution des notes de fandango')\n",
    "ax1.set_ylim(0,50)\n",
    "\n",
    "ax2.hist(norm_reviews['RT_user_norm'], bins=20, range=(0,5))\n",
    "ax2.set_title('Distribution des notes de Rotten Tomatoes')\n",
    "ax2.set_ylim(0,50)\n",
    "\n",
    "ax3.hist(norm_reviews['Metacritic_user_nom'], bins=20, range=(0,5))\n",
    "ax3.set_title('Distribution des notes de Metacritic')\n",
    "ax3.set_ylim(0,50)\n",
    "\n",
    "ax4.hist(norm_reviews['IMDB_norm'], bins=20, range=(0,5))\n",
    "ax4.set_title('Distribution des notes de IMDB')\n",
    "ax4.set_ylim(0,50)\n",
    "\n",
    "plt.show()"
   ]
  },
  {
   "cell_type": "markdown",
   "metadata": {},
   "source": [
    "## Plusieurs diagrammes à boîtes"
   ]
  },
  {
   "cell_type": "code",
   "execution_count": null,
   "metadata": {},
   "outputs": [],
   "source": [
    "# méthode .boxplot()\n",
    "import matplotlib.pyplot as plt\n",
    "\n",
    "fig, ax = plt.subplots()\n",
    "\n",
    "ax.boxplot(data_norm['RT_user_norm'])\n",
    "ax.set_xticklabels(['Rotten tomatoes'])\n",
    "ax.set_ylim(0,5)\n",
    "plt.show()\n"
   ]
  },
  {
   "cell_type": "markdown",
   "metadata": {},
   "source": [
    "__À vous !__\n",
    ">- Créer un sous-graphique et assigner les objets Figure à la variable fig et Axes à la variable ax.\n",
    ">- Générer un diagramme à boîtes pour chaque colonne de mes_colonnes = ['RT_user_norm', 'Metacritic_user_nom', 'IMDB_norm', 'Fandango_Ratingvalue'].\n",
    ">- Définir pour chaque diagramme un intitulé correspondant au nom de la colonne num_cols et faire une rotation de cet intitulé.\n",
    ">- Définir l'intervalle de l'axe y de 0 à 5.\n",
    ">- Afficher le graphique."
   ]
  },
  {
   "cell_type": "code",
   "execution_count": null,
   "metadata": {},
   "outputs": [],
   "source": [
    "mes_colonnes = ['RT_user_norm', 'Metacritic_user_nom', 'IMDB_norm', 'Fandango_Ratingvalue']\n",
    "fig, ax = plt.subplots()\n",
    "ax.boxplot(data_norm[mes_colonnes].values)\n",
    "ax.set_xticklabels(mes_colonnes, rotation=70)\n",
    "ax.set_ylim(0,5)\n",
    "plt.show()"
   ]
  },
  {
   "cell_type": "code",
   "execution_count": null,
   "metadata": {},
   "outputs": [],
   "source": []
  }
 ],
 "metadata": {
  "kernelspec": {
   "display_name": "Python 3",
   "language": "python",
   "name": "python3"
  },
  "language_info": {
   "codemirror_mode": {
    "name": "ipython",
    "version": 3
   },
   "file_extension": ".py",
   "mimetype": "text/x-python",
   "name": "python",
   "nbconvert_exporter": "python",
   "pygments_lexer": "ipython3",
   "version": "3.7.3"
  }
 },
 "nbformat": 4,
 "nbformat_minor": 2
}

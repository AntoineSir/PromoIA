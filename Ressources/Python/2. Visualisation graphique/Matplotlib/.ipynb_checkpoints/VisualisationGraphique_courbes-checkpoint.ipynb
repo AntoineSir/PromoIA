{
 "cells": [
  {
   "cell_type": "markdown",
   "metadata": {},
   "source": [
    "# Visualisation graphique : les courbes"
   ]
  },
  {
   "cell_type": "markdown",
   "metadata": {},
   "source": [
    "## Présentation du jeu de données"
   ]
  },
  {
   "cell_type": "markdown",
   "metadata": {},
   "source": [
    "__À vous !__\n",
    ">- Importer les données 'unrate.csv' dans un dataframe.\n",
    ">- Regarder ce qu'il contient et notamment les types des différentes variables présentes :\n",
    ">>- Que dire du format des données de dates ?\n",
    ">>- Utiliser pandas.to_datetime() pour les convertir au format datetime64\n",
    "\n",
    ">La variable \"unrate\" correspond à _unemployment rate_ c'est-à-dire le taux de chômage."
   ]
  },
  {
   "cell_type": "code",
   "execution_count": null,
   "metadata": {},
   "outputs": [],
   "source": [
    "import pandas as pd\n",
    "data = pd.read_csv(\"Data/unrate.csv\")\n",
    "data.head(12)"
   ]
  },
  {
   "cell_type": "code",
   "execution_count": null,
   "metadata": {},
   "outputs": [],
   "source": [
    "data.dtypes"
   ]
  },
  {
   "cell_type": "code",
   "execution_count": null,
   "metadata": {},
   "outputs": [],
   "source": [
    "# on convertit nos données date au format datetime\n",
    "data['DATE'] = pd.to_datetime(data['DATE'])\n",
    "data.dtypes"
   ]
  },
  {
   "cell_type": "markdown",
   "metadata": {},
   "source": [
    "## Introduction à matplotlib"
   ]
  },
  {
   "cell_type": "code",
   "execution_count": null,
   "metadata": {},
   "outputs": [],
   "source": [
    "# pour intégrer l'affichage des graphiques dans le Notebook\n",
    "%matplotlib inline"
   ]
  },
  {
   "cell_type": "code",
   "execution_count": null,
   "metadata": {},
   "outputs": [],
   "source": [
    "# import de la bibliothèque pyplot de matplotlib\n",
    "import matplotlib.pyplot as plt"
   ]
  },
  {
   "cell_type": "code",
   "execution_count": null,
   "metadata": {},
   "outputs": [],
   "source": [
    "plt.plot() # génère un graphique avec les axes et les mesures sur les axes\n",
    "plt.show() # affiche le graphique à l'écran (en l'occurence vide)"
   ]
  },
  {
   "cell_type": "markdown",
   "metadata": {
    "collapsed": true
   },
   "source": [
    "## Ajouter des données à nos graphiques"
   ]
  },
  {
   "cell_type": "markdown",
   "metadata": {},
   "source": [
    "__À vous !__\n",
    ">- Générer un graphique linéaire permettant de visualiser les taux de chômage de 1948 (_ie_ les 12 premières valeurs du dataframe)\n",
    ">- Afficher le graphique"
   ]
  },
  {
   "cell_type": "code",
   "execution_count": null,
   "metadata": {},
   "outputs": [],
   "source": [
    "import matplotlib.pyplot as plt\n",
    "first_year = data[0:12]\n",
    "\n",
    "# syntaxe de plot() est plt.plot(valeurs_de_x, valeurs_de_y) : plot prend en argument les array ou les objets pd.series sans problème !\n",
    "plt.plot(first_year['DATE'], first_year['UNRATE'])\n",
    "plt.show()"
   ]
  },
  {
   "cell_type": "code",
   "execution_count": null,
   "metadata": {},
   "outputs": [],
   "source": [
    "# que se passe-t-il lorsqu'on ne met qu'une seule liste en paramètre ?\n",
    "plt.plot(first_year['UNRATE'])\n",
    "plt.show()"
   ]
  },
  {
   "cell_type": "markdown",
   "metadata": {},
   "source": [
    "## Créer une rotation sur les labels de l'axe des abscisses"
   ]
  },
  {
   "cell_type": "markdown",
   "metadata": {},
   "source": [
    "On peut avoir un problème d'affichage au niveau des axes des abscisses avec des labels qui se chevauchent...un solution possible est de faire pivoter les labels de l'axe des x.  \n",
    "Pour cela, utiliser la fonction pyplot.xticks() pour créer une roration de 90 degrés."
   ]
  },
  {
   "cell_type": "code",
   "execution_count": null,
   "metadata": {},
   "outputs": [],
   "source": [
    "plt.plot(first_year['DATE'], first_year['UNRATE'])\n",
    "plt.xticks(rotation=70) # essayer avec différentes valeurs d'angles pour obtenir l'affichage qui vous convient\n",
    "plt.show()"
   ]
  },
  {
   "cell_type": "markdown",
   "metadata": {},
   "source": [
    "## Personnaliser les courbes"
   ]
  },
  {
   "cell_type": "markdown",
   "metadata": {},
   "source": [
    "De nombreuses options d'affichage sont disponibles pour personnaliser vos courbes (et notamment vous permettre de les différencier lorsqu'on affichera plusieurs courbes sur un même graphique).  \n",
    "Jouer sur les différents paramètres suivants pour voir leurs effets (cf https://matplotlib.org/3.1.1/api/_as_gen/matplotlib.lines.Line2D.html)"
   ]
  },
  {
   "cell_type": "code",
   "execution_count": null,
   "metadata": {},
   "outputs": [],
   "source": [
    "import matplotlib.pyplot as plt\n",
    "plt.plot(first_year['DATE'], first_year['UNRATE'],\n",
    "         c = 'black',\n",
    "         ls = '-.', lw = 2,\n",
    "         marker = 'o', ms = 12, mec = 'red', mew = 3, mfc = 'green')\n",
    "plt.show()"
   ]
  },
  {
   "cell_type": "markdown",
   "metadata": {},
   "source": [
    "## Ajouter les intitulés des axes et un titre à notre graphique"
   ]
  },
  {
   "cell_type": "markdown",
   "metadata": {},
   "source": [
    "__À vous !__\n",
    ">- Générer le même graphique que précédemment en ajoutant les intitulés des axes x et y ainsi que le titre (fonctions xlabel, ylabel et title).\n",
    ">- Définir le nom de l'axe x par \"Mois\".\n",
    ">- Définir le nom de l'axe y par \"Taux de chômage (%)\".\n",
    ">- Définir le titre par \"Évolution du taux de chômage en 1948 aux USA\".\n",
    ">- Afficher le graphique."
   ]
  },
  {
   "cell_type": "code",
   "execution_count": null,
   "metadata": {},
   "outputs": [],
   "source": [
    "plt.plot(first_year['DATE'], first_year['UNRATE'])\n",
    "plt.xticks(rotation=70)\n",
    "plt.xlabel('Mois')\n",
    "plt.ylabel('Taux de chômage (en %)')\n",
    "plt.title('Évolution du taux de chômage en 1948 aux USA')\n",
    "plt.show()"
   ]
  },
  {
   "cell_type": "markdown",
   "metadata": {},
   "source": [
    "## Les classes matplotlib"
   ]
  },
  {
   "cell_type": "markdown",
   "metadata": {},
   "source": [
    "Pour un graphique seul, pas de problème car pyplot stocke et met à jour ce graphique puis on peut faire des modifications sur ce graphique.\n",
    "Pour tracer plusieurs graphiques, il faut être explicite et préciser lequel modifier. Il faut donc bien comprendre les classes matplotlib que pyplot utilise."
   ]
  },
  {
   "cell_type": "code",
   "execution_count": null,
   "metadata": {},
   "outputs": [],
   "source": [
    "# Un conteneur pour tous les graphiques créés : objet figure. \n",
    "\n",
    "# Un conteneur pour que le graphique soit positionné sur une grille\n",
    "\n",
    "# Les symboles visuels ajoutés sur le graphique : objet Axes"
   ]
  },
  {
   "cell_type": "markdown",
   "metadata": {},
   "source": [
    "## Position des graphiques"
   ]
  },
  {
   "cell_type": "markdown",
   "metadata": {},
   "source": [
    "Pour créer 6 graphiques sur 2 lignes et 3 colonnes."
   ]
  },
  {
   "cell_type": "code",
   "execution_count": null,
   "metadata": {},
   "outputs": [],
   "source": [
    "# Création d'un objet figure via pyplot.figure()\n",
    "graphes = plt.figure()\n",
    "\n",
    "# Pour ajouter des graphiques : figure.add_subplot(nrows,ncols,plot_number)\n",
    "# Cela retourne un objet Axes que l'on stocke\n",
    "# Objet Axes = conteneur avec ses propres composantes :\n",
    "### les valeurs, marqueurs des axes X et Y, les symboles visuels, lignes, quadrillage etc...\n",
    "ax1 = graphes.add_subplot(2,3,1)\n",
    "ax2 = graphes.add_subplot(2,3,2)\n",
    "ax3 = graphes.add_subplot(2,3,3)\n",
    "ax4 = graphes.add_subplot(2,3,4)\n",
    "ax5 = graphes.add_subplot(2,3,5)\n",
    "ax6 = graphes.add_subplot(2,3,6)\n",
    "\n",
    "### ATTENTION: le numéro de graphique se lit \"en ligne de gauche à droite\" donc ici :\n",
    "# le graphique 3 est celui en 1ère ligne 3ème colonne\n",
    "# le graphique 5 est celui en 2ère ligne 2ème colonne\n",
    "# etc...\n",
    "\n",
    "# Essayer de supprimer certains graphiques vous verrez ce qui se passe\n",
    "\n",
    "# Affichage\n",
    "plt.show()"
   ]
  },
  {
   "cell_type": "markdown",
   "metadata": {},
   "source": [
    "## Ajouter des données aux graphiques"
   ]
  },
  {
   "cell_type": "code",
   "execution_count": null,
   "metadata": {},
   "outputs": [],
   "source": [
    "# Pour ensuite ajouter des données sur nos graphiques, on doit préciser sur quels axes on souhaite ajouter nos données\n",
    "# On utilise donc une méthode des objets Axes, à savoir Axes.plot(x_values,y_values)"
   ]
  },
  {
   "cell_type": "markdown",
   "metadata": {},
   "source": [
    "__À vous !__\n",
    ">Créer 2 courbes linéaires dans une grille 2 lignes 1 colonne:\n",
    ">- Dans le sous-graphique du haut, tracer les données de 1948\n",
    ">- Dans le sous-graphique du bas, tracer les données de 1949\n",
    ">- Afficher les 2 graphiques"
   ]
  },
  {
   "cell_type": "code",
   "execution_count": null,
   "metadata": {},
   "outputs": [],
   "source": [
    "fig = plt.figure()\n",
    "\n",
    "ax1 = fig.add_subplot(2,1,1)\n",
    "ax2 = fig.add_subplot(2,1,2)\n",
    "\n",
    "ax1.plot(data[0:12]['DATE'], data[0:12]['UNRATE'])\n",
    "ax2.plot(data[12:24]['DATE'], data[12:24]['UNRATE'])\n",
    "\n",
    "plt.show()"
   ]
  },
  {
   "cell_type": "markdown",
   "metadata": {},
   "source": [
    "## Améliorer l'affichage"
   ]
  },
  {
   "cell_type": "markdown",
   "metadata": {},
   "source": [
    "__À vous !__\n",
    ">- Pour le précédent graphique, ajouter une largeur de 15 et une hauteur de 8 (option figsize). Et ajouter un titre pour les 2 graphiques:\n",
    ">>- \"Taux de chômage en 1948\"\n",
    ">>- \"Taux de chômage en 1949\"\n",
    ">- Ajouter aussi un titre global à la figure en haut :\n",
    ">>- \"Évolutions annuelles des taux de chômage en 1948 et 1949\"\n",
    ">- Jouer sur les différents paramètres de marges avec .sub_plots_adjust() pour espacer les graphiques comme vous les souhaitez\n",
    ">>- left et bottom : valeurs entre 0 et 1 qui indiquent où commencent les graphes par rapport à la figure.\n",
    ">>- right et top : valeurs entre 0 et 1 supérieures à left et bottom respectivement qui indiquent où finissent les graphes par rapport à la figure.\n",
    ">>- wspace et hspace : espace horizontal et vertical respectivement entre graphes, mais cette fois-ci en pouces (valeurs peuvent être supérieures à 1).\n",
    ">>- les valeurs par défaut sont left = 0.125, bottom = 0.1, right = 0.9, top = 0.9, wspace = 0.2 et hspace = 0.2"
   ]
  },
  {
   "cell_type": "code",
   "execution_count": null,
   "metadata": {},
   "outputs": [],
   "source": [
    "fig = plt.figure(figsize=(15,8))\n",
    "\n",
    "plt.subplots_adjust(hspace = 0.5)\n",
    "\n",
    "ax1 = fig.add_subplot(2,1,1)\n",
    "ax2 = fig.add_subplot(2,1,2)\n",
    "ax1.plot(data[0:12]['DATE'], data[0:12]['UNRATE'])\n",
    "ax1.set_title('Taux de chômage en 1948', fontsize = 16)\n",
    "ax2.plot(data[12:24]['DATE'], data[12:24]['UNRATE'])\n",
    "ax2.set_title('Taux de chômage en 1949', fontsize = 16)\n",
    "\n",
    "fig.suptitle('Évolutions annuelles des taux de chômage en 1948 et 1949',fontsize = 20)\n",
    "plt.show()"
   ]
  },
  {
   "cell_type": "markdown",
   "metadata": {},
   "source": [
    "## Comparaison de graphiques"
   ]
  },
  {
   "cell_type": "markdown",
   "metadata": {},
   "source": [
    "__À vous !__\n",
    "> À l'aide d'une boucle, créer une figure contenant 5 graphiques avec l'évolution annuelle du taux de chômage pour les 5 premières années de notre dataset"
   ]
  },
  {
   "cell_type": "code",
   "execution_count": null,
   "metadata": {},
   "outputs": [],
   "source": [
    "fig = plt.figure(figsize=(12,12))\n",
    "plt.gcf().subplots_adjust(hspace = 0.3)\n",
    "\n",
    "for i in range(5):\n",
    "    ax = fig.add_subplot(5,1,i+1)\n",
    "    debut = i*12\n",
    "    fin = (i+1)*12\n",
    "    ax.plot(data[debut:fin]['DATE'],data[debut:fin]['UNRATE'])\n",
    "    \n",
    "plt.show()"
   ]
  },
  {
   "cell_type": "markdown",
   "metadata": {},
   "source": [
    "## Superposition de courbes"
   ]
  },
  {
   "cell_type": "markdown",
   "metadata": {},
   "source": [
    "Le problème d'avoir un graphique pour chaque courbe est que cela devient vite illisible si on a beaucoup de courbes à afficher...une solution peut être d'afficher plusieurs courbes sur un même graphique.  \n",
    "Dans notre cas, si jamais on ne met en abscisses que le mois (au lieu de la date complète) on pourrait afficher les courbes de plusieurs années sur un même graphique.\n",
    "\n",
    "__À vous !__\n",
    ">- Récupérer dans l'objet datetime 'DATE' la valeur du mois seulement et le stocker dans une nouvelle variables 'MONTH'\n",
    ">- Définir la zone d'affichage à 6 pouces de large et 3 pouces de haut.\n",
    ">- Générer 2 courbes dans un seul graphique en utilisant la colonne 'MONTH' pour l'axe x à la place de la colonne 'DATE':\n",
    ">>- Une courbe avec les valeurs de 1948 de couleur 'red'\n",
    ">>- Une courbe avec les valeurs de 1949 de couleur 'blue'\n",
    ">- Utiliser plt.show() pour afficher les courbes."
   ]
  },
  {
   "cell_type": "code",
   "execution_count": null,
   "metadata": {},
   "outputs": [],
   "source": [
    "data['MONTH'] = data['DATE'].dt.month\n",
    "\n",
    "fig = plt.figure(figsize=(6,3))\n",
    "\n",
    "plt.plot(data[0:12]['MONTH'], data[0:12]['UNRATE'], c='red')\n",
    "plt.plot(data[12:24]['MONTH'], data[12:24]['UNRATE'], c='blue')\n",
    "\n",
    "plt.show()"
   ]
  },
  {
   "cell_type": "markdown",
   "metadata": {},
   "source": [
    "## Ajouter plus de courbes"
   ]
  },
  {
   "cell_type": "markdown",
   "metadata": {},
   "source": [
    "__À vous !__\n",
    ">- Définir la zone d'affichage du graphique à 10 pouces de large et 6 pouces de haut.\n",
    ">- Générer avec une boucle les courbes suivantes sur le même graphique:\n",
    ">>- 1948: courbe en rouge 'red'\n",
    ">>- 1949: courbe en bleu 'blue'\n",
    ">>- 1950: courbe en vert 'green'\n",
    ">>- 1951: courbe en orange 'orange'\n",
    ">>- 1952: courbe en noir 'black'\n",
    ">- Utiliser plt.show() pour afficher les courbes."
   ]
  },
  {
   "cell_type": "code",
   "execution_count": null,
   "metadata": {},
   "outputs": [],
   "source": [
    "fig = plt.figure(figsize=(10,6))\n",
    "colors = ['red','blue','green','orange','black']\n",
    "\n",
    "for i in range(5):\n",
    "    debut = i*12\n",
    "    fin = (i+1)*12\n",
    "    subset = data[debut:fin]    \n",
    "    plt.plot(subset['MONTH'],subset['UNRATE'], c=colors[i])\n",
    "    \n",
    "plt.show()"
   ]
  },
  {
   "cell_type": "markdown",
   "metadata": {},
   "source": [
    "## Ajouter une légende"
   ]
  },
  {
   "cell_type": "markdown",
   "metadata": {},
   "source": [
    "__À vous !__\n",
    ">- Modifier le code précédent pour inclure une légende précisant l'année pour chaque couleur (avec plt.legend et l'option label de plt.plot).\n",
    ">>- C'est-à-dire que la courbe des données de 1948 qui utilise la couleur rouge 'red' aura comme intitulé dans la légende '1948'\n",
    ">- Positionner la légende en haut à droite du graphique (voir l'aide positionner les légendes https://matplotlib.org/3.1.1/api/_as_gen/matplotlib.pyplot.legend.html)\n",
    ">- Afficher le graphique."
   ]
  },
  {
   "cell_type": "code",
   "execution_count": null,
   "metadata": {},
   "outputs": [],
   "source": [
    "fig = plt.figure(figsize=(10,6))\n",
    "colors = ['red','blue','green','orange','black']\n",
    "\n",
    "for i in range(5):\n",
    "    debut = i*12\n",
    "    fin = (i+1)*12\n",
    "    subset = data[debut:fin]\n",
    "    label = str(1948 + i)\n",
    "    plt.plot(subset['MONTH'],subset['UNRATE'], c=colors[i], label = label)\n",
    "    \n",
    "plt.legend(loc='upper left', bbox_to_anchor = (1,1))    \n",
    "plt.show()"
   ]
  },
  {
   "cell_type": "markdown",
   "metadata": {},
   "source": [
    "## Courbe finale"
   ]
  },
  {
   "cell_type": "markdown",
   "metadata": {},
   "source": [
    "__À vous !__\n",
    ">- Ajouter au graphique précédent :\n",
    ">>- le titre 'Evolution du taux de chômage de 1948 à 1952'\n",
    ">>- l'intitulé pour l'axe x 'Mois (de 1 à 12)'\n",
    ">>- l'intitulé pour l'axe y 'Taux de chômage (en %)'"
   ]
  },
  {
   "cell_type": "code",
   "execution_count": null,
   "metadata": {},
   "outputs": [],
   "source": [
    "fig = plt.figure(figsize=(10,6))\n",
    "colors = ['red','blue','green','orange','black']\n",
    "\n",
    "for i in range(5):\n",
    "    debut = i*12\n",
    "    fin = (i+1)*12\n",
    "    subset = data[debut:fin]\n",
    "    label = str(1948 + i)\n",
    "    plt.plot(subset['MONTH'],subset['UNRATE'], c=colors[i], label = label)\n",
    "    \n",
    "plt.title('Evolution du taux de chômage de 1948 à 1952')\n",
    "plt.xlabel('Mois (de 1 à 12)')\n",
    "plt.ylabel('Taux de chômage (en %)')\n",
    "plt.legend(loc='upper left', bbox_to_anchor = (1,1))    \n",
    "plt.show()"
   ]
  },
  {
   "cell_type": "code",
   "execution_count": null,
   "metadata": {},
   "outputs": [],
   "source": []
  }
 ],
 "metadata": {
  "kernelspec": {
   "display_name": "Python 3",
   "language": "python",
   "name": "python3"
  },
  "language_info": {
   "codemirror_mode": {
    "name": "ipython",
    "version": 3
   },
   "file_extension": ".py",
   "mimetype": "text/x-python",
   "name": "python",
   "nbconvert_exporter": "python",
   "pygments_lexer": "ipython3",
   "version": "3.7.3"
  }
 },
 "nbformat": 4,
 "nbformat_minor": 2
}

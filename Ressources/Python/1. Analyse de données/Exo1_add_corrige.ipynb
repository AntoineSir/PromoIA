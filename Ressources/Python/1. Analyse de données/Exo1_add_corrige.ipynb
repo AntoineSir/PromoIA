{
 "cells": [
  {
   "cell_type": "markdown",
   "metadata": {},
   "source": [
    "# Exercice : analyse de données ---------CORRIGÉ---------"
   ]
  },
  {
   "cell_type": "markdown",
   "metadata": {},
   "source": [
    "## Import des données"
   ]
  },
  {
   "cell_type": "markdown",
   "metadata": {},
   "source": [
    "Importer les 2 jeux de données all-ages.csv et recent-grads.csv"
   ]
  },
  {
   "cell_type": "code",
   "execution_count": null,
   "metadata": {},
   "outputs": [],
   "source": [
    "import pandas as pd\n",
    "\n",
    "all_ages = pd.read_csv(\"Data/all-ages.csv\")\n",
    "recent_grads = pd.read_csv(\"Data/recent-grads.csv\")"
   ]
  },
  {
   "cell_type": "code",
   "execution_count": null,
   "metadata": {},
   "outputs": [],
   "source": [
    "all_ages.head()"
   ]
  },
  {
   "cell_type": "code",
   "execution_count": null,
   "metadata": {},
   "outputs": [],
   "source": [
    "recent_grads.head()"
   ]
  },
  {
   "cell_type": "markdown",
   "metadata": {},
   "source": [
    "## Calculer le nombre d'étudiants par catégorie de Major (Major_category) dans chaque dataset"
   ]
  },
  {
   "cell_type": "markdown",
   "metadata": {},
   "source": [
    "#### Contraintes:\n",
    "- Définir une fonction permettant ce calcul et prenant commme paramètre un dataframe. Quel est l'intérêt d'une telle solution ?\n",
    "- Le refaire d'une seconde manière avec une méthode déjà vue et permettant d'obtenir des tableaux croisés à partir d'un dataframe...\n",
    "- Stocker les résultats dans 2 dictionnaires."
   ]
  },
  {
   "cell_type": "code",
   "execution_count": null,
   "metadata": {},
   "outputs": [],
   "source": [
    "### première méthode\n",
    "def major_cat_totals(df):\n",
    "    cats = df['Major_category'].unique()\n",
    "    total = {}\n",
    "    \n",
    "    for c in cats:\n",
    "        total[c] = df.loc[df[\"Major_category\"] == c,\"Total\"].sum()\n",
    "    return total"
   ]
  },
  {
   "cell_type": "code",
   "execution_count": null,
   "metadata": {
    "scrolled": true
   },
   "outputs": [],
   "source": [
    "aa_cat_tot = {}\n",
    "aa_cat_tot = major_cat_totals(all_ages)\n",
    "print(aa_cat_tot)"
   ]
  },
  {
   "cell_type": "code",
   "execution_count": null,
   "metadata": {},
   "outputs": [],
   "source": [
    "rg_cat_tot = {}\n",
    "rg_cat_tot = major_cat_totals(recent_grads)\n",
    "print(rg_cat_tot)"
   ]
  },
  {
   "cell_type": "code",
   "execution_count": null,
   "metadata": {},
   "outputs": [],
   "source": [
    "### seconde méthode\n",
    "### la \"difficulté\" ici est de récupérer les données de la sortie du pivot_table pour les stocker dans un dictionnaire\n",
    "import numpy as np\n",
    "temp = all_ages.pivot_table(index=\"Major_category\", values=\"Total\", aggfunc=np.sum)\n",
    "\n",
    "aa_cat_tot = {}\n",
    "for c in temp.index:\n",
    "    aa_cat_tot[c] = temp.at[c,\"Total\"]"
   ]
  },
  {
   "cell_type": "code",
   "execution_count": null,
   "metadata": {},
   "outputs": [],
   "source": [
    "print(aa_cat_tot)"
   ]
  },
  {
   "cell_type": "markdown",
   "metadata": {},
   "source": [
    "## Taux de jobs à faible salaire"
   ]
  },
  {
   "cell_type": "markdown",
   "metadata": {},
   "source": [
    "Utiliser les colonnes \"Low_wage_jobs\" et \"Total\" pour calculer la proportion de jeunes diplômés (donc recent_grads) qui ont du trouver des jobs à faible salaire. Interprétez ce résultat !"
   ]
  },
  {
   "cell_type": "code",
   "execution_count": null,
   "metadata": {},
   "outputs": [],
   "source": [
    "low_wage_proportion = recent_grads['Low_wage_jobs'].sum()/recent_grads['Total'].sum()\n",
    "print(low_wage_proportion)"
   ]
  },
  {
   "cell_type": "code",
   "execution_count": null,
   "metadata": {},
   "outputs": [],
   "source": [
    "### On a donc presque un jeune diplômé sur 10 qui se dirige vers un emploi à faible rémunération"
   ]
  },
  {
   "cell_type": "markdown",
   "metadata": {},
   "source": [
    "## Comparer les données : déterminer le nombre de Major pour lesquelles les jeunes diplômés ont un taux de chômage plus faible qu'en population générale"
   ]
  },
  {
   "cell_type": "markdown",
   "metadata": {},
   "source": [
    "Indications :\n",
    "- Créer un compteur\n",
    "- Utiliser une boucle for pour parcourir toutes les majors.\n",
    ">- Comparer les valeurs pour la colonne \"Unemployment_rate\" pour voir lequel des 2 DataFrames possèdent la valeur la plus basse\n",
    ">- Incrémenter le compteur si la valeur pour Unemployment_rate est plus petite dans le dataframe recent_grads que dans le dataframe all_ages\n",
    "- Afficher le résultat du compteur.\n",
    "- On pourra aussi éventuellement stocker dans une liste les majors concernées"
   ]
  },
  {
   "cell_type": "code",
   "execution_count": null,
   "metadata": {},
   "outputs": [],
   "source": [
    "cnt = 0\n",
    "lst = []\n",
    "\n",
    "for m in recent_grads['Major'].unique():\n",
    "    \n",
    "    rg_unemp_rate = recent_grads.loc[recent_grads['Major'] == m,'Unemployment_rate'].values\n",
    "    aa_unemp_rate = all_ages.loc[all_ages['Major'] == m,'Unemployment_rate'].values\n",
    "    \n",
    "    if rg_unemp_rate.size > 0 and aa_unemp_rate.size > 0:\n",
    "    \n",
    "        if rg_unemp_rate < aa_unemp_rate:\n",
    "            cnt += 1\n",
    "            lst.append(m)\n",
    "print(cnt)\n",
    "print(lst)"
   ]
  },
  {
   "cell_type": "code",
   "execution_count": null,
   "metadata": {},
   "outputs": [],
   "source": []
  }
 ],
 "metadata": {
  "kernelspec": {
   "display_name": "Python 3",
   "language": "python",
   "name": "python3"
  },
  "language_info": {
   "codemirror_mode": {
    "name": "ipython",
    "version": 3
   },
   "file_extension": ".py",
   "mimetype": "text/x-python",
   "name": "python",
   "nbconvert_exporter": "python",
   "pygments_lexer": "ipython3",
   "version": "3.7.3"
  }
 },
 "nbformat": 4,
 "nbformat_minor": 2
}

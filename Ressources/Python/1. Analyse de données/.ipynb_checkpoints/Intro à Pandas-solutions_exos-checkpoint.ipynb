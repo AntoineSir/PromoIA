{
 "cells": [
  {
   "cell_type": "markdown",
   "metadata": {},
   "source": [
    "### Exo : calculer le tarif moyen par classe. Retourner les résultats sous forme d'un dictionnaire"
   ]
  },
  {
   "cell_type": "code",
   "execution_count": null,
   "metadata": {},
   "outputs": [],
   "source": [
    "fares = {}\n",
    "for c in [1,2,3]:\n",
    "    fares[c] = titanic.loc[titanic[\"pclass\"]==c,\"fare\"].mean()\n",
    "fares"
   ]
  },
  {
   "cell_type": "markdown",
   "metadata": {},
   "source": [
    "### Exo : utiliser la méthode apply pour déterminer le nombre de valeurs manquantes dans chaque colonne"
   ]
  },
  {
   "cell_type": "markdown",
   "metadata": {},
   "source": [
    "Une indication : il faut d'abord définir une fonction"
   ]
  },
  {
   "cell_type": "code",
   "execution_count": null,
   "metadata": {},
   "outputs": [],
   "source": [
    "def count_na(series):\n",
    "    return series.isnull().sum()"
   ]
  },
  {
   "cell_type": "code",
   "execution_count": null,
   "metadata": {},
   "outputs": [],
   "source": [
    "titanic.apply(count_na, axis=0)"
   ]
  },
  {
   "cell_type": "markdown",
   "metadata": {},
   "source": [
    "### Exo : utiliser la méthode apply pour créer une nouvelle variable age_label dans le dataframe contenant 'minor' si la personne a moins de 18 ans, 'adult' si son age est supérieur ou égal à 18 ans et 'unknown' sinon "
   ]
  },
  {
   "cell_type": "markdown",
   "metadata": {},
   "source": [
    "Indications : Procéder par étape ! On définira d'abord une fonction, qu'on appliquera au dataframe et on stockera le résultat dans une nouvelle colonne"
   ]
  },
  {
   "cell_type": "code",
   "execution_count": null,
   "metadata": {},
   "outputs": [],
   "source": [
    "def minor(row):\n",
    "    if pd.isnull(row['age']):\n",
    "        return 'unknown'\n",
    "    elif row['age']<18:\n",
    "        return 'minor'\n",
    "    else:\n",
    "        return 'adult'"
   ]
  },
  {
   "cell_type": "code",
   "execution_count": null,
   "metadata": {},
   "outputs": [],
   "source": [
    "titanic[\"age_label\"]=titanic.apply(minor, axis=1)"
   ]
  },
  {
   "cell_type": "code",
   "execution_count": null,
   "metadata": {},
   "outputs": [],
   "source": [
    "titanic.head(16)"
   ]
  },
  {
   "cell_type": "markdown",
   "metadata": {},
   "source": [
    "### Exo : calculer le pourcentage de survie par groupe d'âge (majeur/mineur)"
   ]
  },
  {
   "cell_type": "markdown",
   "metadata": {},
   "source": [
    "Indication : l'exercice précédent a quasiment fait tout le boulot..."
   ]
  },
  {
   "cell_type": "code",
   "execution_count": null,
   "metadata": {},
   "outputs": [],
   "source": [
    "titanic.pivot_table(index =\"age_label\", values = \"survived\")"
   ]
  },
  {
   "cell_type": "code",
   "execution_count": null,
   "metadata": {},
   "outputs": [],
   "source": []
  }
 ],
 "metadata": {
  "kernelspec": {
   "display_name": "Python 3",
   "language": "python",
   "name": "python3"
  },
  "language_info": {
   "codemirror_mode": {
    "name": "ipython",
    "version": 3
   },
   "file_extension": ".py",
   "mimetype": "text/x-python",
   "name": "python",
   "nbconvert_exporter": "python",
   "pygments_lexer": "ipython3",
   "version": "3.7.3"
  }
 },
 "nbformat": 4,
 "nbformat_minor": 2
}

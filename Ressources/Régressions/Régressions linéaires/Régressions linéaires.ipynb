{
 "cells": [
  {
   "cell_type": "markdown",
   "metadata": {},
   "source": [
    "# Les régressions linéaires avec Python"
   ]
  },
  {
   "cell_type": "markdown",
   "metadata": {},
   "source": [
    "Présentation (non-exhaustive) des méthodes permettant d'implémenter une régression linéaire avec Python [Article avec toutes les méthodes et leur comparaison en temps d'exécution](https://www.freecodecamp.org/news/data-science-with-python-8-ways-to-do-linear-regression-and-measure-their-speed-b5577d75f8b/)."
   ]
  },
  {
   "cell_type": "markdown",
   "metadata": {},
   "source": [
    "Les points fondamentaux de toute modélisation :\n",
    "> 1. les données\n",
    "> 2. le modèle\n",
    "> 3. la fonction de coût\n",
    "> 4. l'optimisation\n",
    "> 5. l'évaluation"
   ]
  },
  {
   "cell_type": "markdown",
   "metadata": {},
   "source": [
    "## Régression linéaire simple"
   ]
  },
  {
   "cell_type": "markdown",
   "metadata": {},
   "source": [
    "### Le dataset"
   ]
  },
  {
   "cell_type": "code",
   "execution_count": null,
   "metadata": {},
   "outputs": [],
   "source": [
    "# Import des librairies\n",
    "import numpy as np\n",
    "import matplotlib.pyplot as plt"
   ]
  },
  {
   "cell_type": "code",
   "execution_count": null,
   "metadata": {},
   "outputs": [],
   "source": [
    "# Import du dataset salaires ou génération des données aléatoirement avec sklearn\n",
    "\n",
    "#dataset = np.genfromtxt('Régression linéaire simple/salaires.csv', delimiter = ',', skip_header=True)\n",
    "#x = dataset[:,:-1]\n",
    "#y = dataset[:,-1:]\n",
    "\n",
    "#possibilité de générer des données aléatoirement avec sklearn\n",
    "from sklearn.datasets import make_regression\n",
    "x, y= make_regression(n_samples = 100, n_features = 1, noise = 10)\n",
    "print(x.shape,y.shape)"
   ]
  },
  {
   "cell_type": "code",
   "execution_count": null,
   "metadata": {},
   "outputs": [],
   "source": [
    "# on modifie y.shape pour avoir y.shape[1]=1\n",
    "y = y.reshape(y.shape[0],1)\n",
    "y.shape"
   ]
  },
  {
   "cell_type": "code",
   "execution_count": null,
   "metadata": {},
   "outputs": [],
   "source": [
    "# Visualisation de nos données\n",
    "plt.scatter(x,y)"
   ]
  },
  {
   "cell_type": "markdown",
   "metadata": {},
   "source": [
    "### Avec scikit-learn"
   ]
  },
  {
   "cell_type": "code",
   "execution_count": null,
   "metadata": {},
   "outputs": [],
   "source": [
    "# Construction du modèle\n",
    "from sklearn.linear_model import LinearRegression\n",
    "model = LinearRegression()\n",
    "results = model.fit(x,y) #x,y tableaux de dimensions 2"
   ]
  },
  {
   "cell_type": "code",
   "execution_count": null,
   "metadata": {},
   "outputs": [],
   "source": [
    "# Évaluation du modèle\n",
    "model.score(x,y)"
   ]
  },
  {
   "cell_type": "code",
   "execution_count": null,
   "metadata": {
    "scrolled": true
   },
   "outputs": [],
   "source": [
    "# Récupération des coefficients\n",
    "print(results.intercept_, results.coef_)"
   ]
  },
  {
   "cell_type": "code",
   "execution_count": null,
   "metadata": {},
   "outputs": [],
   "source": [
    "# Nouvelles prédictions\n",
    "model.predict([[-3],[16],[25]]) #exemples de valeurs au format 2D-array"
   ]
  },
  {
   "cell_type": "code",
   "execution_count": null,
   "metadata": {},
   "outputs": [],
   "source": [
    "# Visualisation\n",
    "plt.scatter(x,y)\n",
    "plt.plot(x,model.predict(x),c='red')"
   ]
  },
  {
   "cell_type": "markdown",
   "metadata": {},
   "source": [
    "### Avec statsmodel"
   ]
  },
  {
   "cell_type": "code",
   "execution_count": null,
   "metadata": {},
   "outputs": [],
   "source": [
    "#Construction du modèle\n",
    "from statsmodels.api import OLS, add_constant\n",
    "X = add_constant(x) # pour ajouter une constante à notre modèle sinon il n'y en a pas par défaut\n",
    "model2 = OLS(y, X)\n",
    "results2 = model2.fit()"
   ]
  },
  {
   "cell_type": "code",
   "execution_count": null,
   "metadata": {},
   "outputs": [],
   "source": [
    "# Évaluation du modèle\n",
    "results2.summary()"
   ]
  },
  {
   "cell_type": "code",
   "execution_count": null,
   "metadata": {},
   "outputs": [],
   "source": [
    "# Récupération des coefficients\n",
    "results2.rsquared\n",
    "results2.params"
   ]
  },
  {
   "cell_type": "code",
   "execution_count": null,
   "metadata": {},
   "outputs": [],
   "source": [
    "# Nouvelles prédictions\n",
    "results2.predict([[1,-3],[1,16],[1,25]])"
   ]
  },
  {
   "cell_type": "markdown",
   "metadata": {},
   "source": [
    "### Avec le module stats de scipy"
   ]
  },
  {
   "cell_type": "code",
   "execution_count": null,
   "metadata": {},
   "outputs": [],
   "source": [
    "# stats.linregress(x,y) renvoie un quintuplet :\n",
    "# la pente\n",
    "# l'ordonnée à l'origine (= la constante)\n",
    "# le coef de corrélation (pour la régression linéaire, R² est le carré de cette valeur)\n",
    "# la p-value\n",
    "# l'erreur standard de l'estimation du gradient\n",
    "\n",
    "# stats.linregress prend en paramètres des array de dimension 1 donc il faut faire un reshape !!\n",
    "x = x.reshape((x.shape[0],))\n",
    "y = y.reshape((y.shape[0],))"
   ]
  },
  {
   "cell_type": "code",
   "execution_count": null,
   "metadata": {
    "scrolled": true
   },
   "outputs": [],
   "source": [
    "#Construction du modèle\n",
    "from scipy import stats\n",
    "model3 = stats.linregress(x,y)\n",
    "model3"
   ]
  },
  {
   "cell_type": "code",
   "execution_count": null,
   "metadata": {},
   "outputs": [],
   "source": [
    "# Évaluation du modèle\n",
    "model3.rvalue**2"
   ]
  },
  {
   "cell_type": "code",
   "execution_count": null,
   "metadata": {},
   "outputs": [],
   "source": [
    "# Récupération des coefficients\n",
    "print(model3.slope, model3.intercept, model3.rvalue)"
   ]
  },
  {
   "cell_type": "code",
   "execution_count": null,
   "metadata": {},
   "outputs": [],
   "source": [
    "# Nouvelles prédictions\n",
    "def predict(x):\n",
    "    return model3.slope * x + model3.intercept\n",
    "\n",
    "list(map(predict,[-3,16,25]))"
   ]
  },
  {
   "cell_type": "markdown",
   "metadata": {},
   "source": [
    "### Avec la fonction numpy polyfit"
   ]
  },
  {
   "cell_type": "code",
   "execution_count": null,
   "metadata": {},
   "outputs": [],
   "source": [
    "# Cette fonction fait une régression polynomiale de degré 1 et renvoie les coefficients\n",
    "# les coefs sont donnés dans l'ordre décroissant des puissances donc pour une régression linéaire :\n",
    "# d'abord le coefficient du x puis la constante\n",
    "# Comme stats.linregress, np.polyfit prend en paramètres des array de dimension 1 donc il faut faire un reshape !\n",
    "x = x.reshape((x.shape[0],))\n",
    "y = y.reshape((y.shape[0],))"
   ]
  },
  {
   "cell_type": "code",
   "execution_count": null,
   "metadata": {},
   "outputs": [],
   "source": [
    "# Construction du modèle et récupération des coefficients\n",
    "model4 = np.polyfit(x,y,1)\n",
    "model4"
   ]
  },
  {
   "cell_type": "code",
   "execution_count": null,
   "metadata": {},
   "outputs": [],
   "source": [
    "# Nouvelles prédictions\n",
    "poly = np.poly1d(model4) #renvoie la fonction polynôme associée\n",
    "poly([-3,16,25]) #donne les prédictions pour 2 et -2 par exemple"
   ]
  },
  {
   "cell_type": "code",
   "execution_count": null,
   "metadata": {},
   "outputs": [],
   "source": []
  }
 ],
 "metadata": {
  "kernelspec": {
   "display_name": "Python 3",
   "language": "python",
   "name": "python3"
  },
  "language_info": {
   "codemirror_mode": {
    "name": "ipython",
    "version": 3
   },
   "file_extension": ".py",
   "mimetype": "text/x-python",
   "name": "python",
   "nbconvert_exporter": "python",
   "pygments_lexer": "ipython3",
   "version": "3.7.3"
  }
 },
 "nbformat": 4,
 "nbformat_minor": 2
}

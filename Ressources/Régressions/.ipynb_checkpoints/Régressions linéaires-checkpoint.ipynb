{
 "cells": [
  {
   "cell_type": "code",
   "execution_count": null,
   "metadata": {},
   "outputs": [],
   "source": [
    "# Regression Linéaire Simple\n",
    "\n",
    "# Importer les librairies\n",
    "import numpy as np\n",
    "import matplotlib.pyplot as plt\n",
    "%matplotlib qt5\n",
    "\n",
    "# Importer le dataset\n",
    "dataset = np.genfromtxt('Salary_Data.csv', delimiter = ',', skip_header=True)\n",
    "X = dataset[:,:-1]\n",
    "y = dataset[:,-1:]\n",
    "\n",
    "# Diviser le dataset entre le Training set et le Test set\n",
    "from sklearn.model_selection import train_test_split\n",
    "X_train, X_test, y_train, y_test = train_test_split(X, y, test_size = 1/3, random_state = 0)\n",
    "\n",
    "# Construction du modèle\n",
    "from sklearn.linear_model import LinearRegression\n",
    "model = LinearRegression()\n",
    "results = model.fit(X_train, y_train)\n",
    "print(results.intercept_,results.coef_)\n",
    "\n",
    "# Faire de nouvelles prédictions\n",
    "y_pred = model.predict(X_test)\n",
    "\n",
    "# Visualiser les résultats\n",
    "fig, (ax1,ax2) = plt.subplots(1,2,figsize=(15,8))\n",
    "\n",
    "ax1.scatter(X_train, y_train, color = 'red')\n",
    "ax1.plot(X_train, model.predict(X_train), color = 'blue')\n",
    "ax1.set_title('échantillon d\\'entraînement')\n",
    "ax1.set_xlabel('Experience')\n",
    "ax1.set_ylabel('Salaire')\n",
    "\n",
    "ax2.scatter(X_test, y_test, color = 'red')\n",
    "ax2.plot(X_train, model.predict(X_train), color = 'blue')\n",
    "ax2.set_title('échantillon de test')\n",
    "ax2.set_xlabel('Experience')\n",
    "ax2.set_ylabel('Salaire')\n",
    "\n",
    "plt.suptitle('Salaire vs Experience', fontsize = 15)\n",
    "plt.show()\n",
    "\n",
    "\n",
    "# autre méthode : la libraire statsmodel\n",
    "from statsmodels.api import OLS, add_constant\n",
    "X2 = add_constant(X_train)\n",
    "model2 = OLS(y_train, X2)\n",
    "results2 = model2.fit()\n",
    "print(results2.summary())"
   ]
  }
 ],
 "metadata": {
  "kernelspec": {
   "display_name": "Python 3",
   "language": "python",
   "name": "python3"
  },
  "language_info": {
   "codemirror_mode": {
    "name": "ipython",
    "version": 3
   },
   "file_extension": ".py",
   "mimetype": "text/x-python",
   "name": "python",
   "nbconvert_exporter": "python",
   "pygments_lexer": "ipython3",
   "version": "3.7.3"
  }
 },
 "nbformat": 4,
 "nbformat_minor": 2
}

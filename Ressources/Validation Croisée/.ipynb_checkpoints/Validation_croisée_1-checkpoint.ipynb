{
 "cells": [
  {
   "cell_type": "markdown",
   "metadata": {},
   "source": [
    "# Validation croisée (cross-validation)"
   ]
  },
  {
   "cell_type": "code",
   "execution_count": 1,
   "metadata": {},
   "outputs": [],
   "source": [
    "import pandas as pd\n",
    "import numpy as np\n",
    "import matplotlib.pyplot as plt\n",
    "import seaborn as sns"
   ]
  },
  {
   "cell_type": "code",
   "execution_count": 2,
   "metadata": {},
   "outputs": [
    {
     "data": {
      "text/html": [
       "<div>\n",
       "<style scoped>\n",
       "    .dataframe tbody tr th:only-of-type {\n",
       "        vertical-align: middle;\n",
       "    }\n",
       "\n",
       "    .dataframe tbody tr th {\n",
       "        vertical-align: top;\n",
       "    }\n",
       "\n",
       "    .dataframe thead th {\n",
       "        text-align: right;\n",
       "    }\n",
       "</style>\n",
       "<table border=\"1\" class=\"dataframe\">\n",
       "  <thead>\n",
       "    <tr style=\"text-align: right;\">\n",
       "      <th></th>\n",
       "      <th>fixed acidity</th>\n",
       "      <th>volatile acidity</th>\n",
       "      <th>citric acid</th>\n",
       "      <th>residual sugar</th>\n",
       "      <th>chlorides</th>\n",
       "      <th>free sulfur dioxide</th>\n",
       "      <th>total sulfur dioxide</th>\n",
       "      <th>density</th>\n",
       "      <th>pH</th>\n",
       "      <th>sulphates</th>\n",
       "      <th>alcohol</th>\n",
       "      <th>quality</th>\n",
       "      <th>color</th>\n",
       "    </tr>\n",
       "  </thead>\n",
       "  <tbody>\n",
       "    <tr>\n",
       "      <th>0</th>\n",
       "      <td>7.4</td>\n",
       "      <td>0.70</td>\n",
       "      <td>0.00</td>\n",
       "      <td>1.9</td>\n",
       "      <td>0.076</td>\n",
       "      <td>11.0</td>\n",
       "      <td>34.0</td>\n",
       "      <td>0.9978</td>\n",
       "      <td>3.51</td>\n",
       "      <td>0.56</td>\n",
       "      <td>9.4</td>\n",
       "      <td>5</td>\n",
       "      <td>red</td>\n",
       "    </tr>\n",
       "    <tr>\n",
       "      <th>1</th>\n",
       "      <td>7.8</td>\n",
       "      <td>0.88</td>\n",
       "      <td>0.00</td>\n",
       "      <td>2.6</td>\n",
       "      <td>0.098</td>\n",
       "      <td>25.0</td>\n",
       "      <td>67.0</td>\n",
       "      <td>0.9968</td>\n",
       "      <td>3.20</td>\n",
       "      <td>0.68</td>\n",
       "      <td>9.8</td>\n",
       "      <td>5</td>\n",
       "      <td>red</td>\n",
       "    </tr>\n",
       "    <tr>\n",
       "      <th>2</th>\n",
       "      <td>7.8</td>\n",
       "      <td>0.76</td>\n",
       "      <td>0.04</td>\n",
       "      <td>2.3</td>\n",
       "      <td>0.092</td>\n",
       "      <td>15.0</td>\n",
       "      <td>54.0</td>\n",
       "      <td>0.9970</td>\n",
       "      <td>3.26</td>\n",
       "      <td>0.65</td>\n",
       "      <td>9.8</td>\n",
       "      <td>5</td>\n",
       "      <td>red</td>\n",
       "    </tr>\n",
       "    <tr>\n",
       "      <th>3</th>\n",
       "      <td>11.2</td>\n",
       "      <td>0.28</td>\n",
       "      <td>0.56</td>\n",
       "      <td>1.9</td>\n",
       "      <td>0.075</td>\n",
       "      <td>17.0</td>\n",
       "      <td>60.0</td>\n",
       "      <td>0.9980</td>\n",
       "      <td>3.16</td>\n",
       "      <td>0.58</td>\n",
       "      <td>9.8</td>\n",
       "      <td>6</td>\n",
       "      <td>red</td>\n",
       "    </tr>\n",
       "    <tr>\n",
       "      <th>4</th>\n",
       "      <td>7.4</td>\n",
       "      <td>0.70</td>\n",
       "      <td>0.00</td>\n",
       "      <td>1.9</td>\n",
       "      <td>0.076</td>\n",
       "      <td>11.0</td>\n",
       "      <td>34.0</td>\n",
       "      <td>0.9978</td>\n",
       "      <td>3.51</td>\n",
       "      <td>0.56</td>\n",
       "      <td>9.4</td>\n",
       "      <td>5</td>\n",
       "      <td>red</td>\n",
       "    </tr>\n",
       "  </tbody>\n",
       "</table>\n",
       "</div>"
      ],
      "text/plain": [
       "   fixed acidity  volatile acidity  citric acid  residual sugar  chlorides  \\\n",
       "0            7.4              0.70         0.00             1.9      0.076   \n",
       "1            7.8              0.88         0.00             2.6      0.098   \n",
       "2            7.8              0.76         0.04             2.3      0.092   \n",
       "3           11.2              0.28         0.56             1.9      0.075   \n",
       "4            7.4              0.70         0.00             1.9      0.076   \n",
       "\n",
       "   free sulfur dioxide  total sulfur dioxide  density    pH  sulphates  \\\n",
       "0                 11.0                  34.0   0.9978  3.51       0.56   \n",
       "1                 25.0                  67.0   0.9968  3.20       0.68   \n",
       "2                 15.0                  54.0   0.9970  3.26       0.65   \n",
       "3                 17.0                  60.0   0.9980  3.16       0.58   \n",
       "4                 11.0                  34.0   0.9978  3.51       0.56   \n",
       "\n",
       "   alcohol  quality color  \n",
       "0      9.4        5   red  \n",
       "1      9.8        5   red  \n",
       "2      9.8        5   red  \n",
       "3      9.8        6   red  \n",
       "4      9.4        5   red  "
      ]
     },
     "execution_count": 2,
     "metadata": {},
     "output_type": "execute_result"
    }
   ],
   "source": [
    "# Import des bases sur le vin\n",
    "reds = pd.read_csv('winequality-red.csv',sep=\";\")\n",
    "reds[\"color\"]='red'\n",
    "whites = pd.read_csv('winequality-white.csv', sep=\";\")\n",
    "whites[\"color\"] = 'white'\n",
    "wines = pd.concat([reds,whites],axis=0)\n",
    "wines.reset_index(drop=True, inplace=True)\n",
    "wines.head()"
   ]
  },
  {
   "cell_type": "code",
   "execution_count": 3,
   "metadata": {},
   "outputs": [],
   "source": [
    "# Matrice X et vecteur y : on va essayer de prédire la qualité d'un vin\n",
    "X = wines.drop(['quality', 'color'], axis=1)\n",
    "y = wines['quality']"
   ]
  },
  {
   "cell_type": "code",
   "execution_count": 4,
   "metadata": {},
   "outputs": [
    {
     "data": {
      "image/png": "[encoded data removed]",
      "text/plain": [
       "<Figure size 1152x864 with 11 Axes>"
      ]
     },
     "metadata": {
      "needs_background": "light"
     },
     "output_type": "display_data"
    }
   ],
   "source": [
    "# Affichage des histogrammes des variables\n",
    "fig = plt.figure(figsize=(16, 12))\n",
    "for i in range(X.shape[1]):\n",
    "    ax = fig.add_subplot(3,4, (i+1))\n",
    "    ax.hist(X.iloc[:, i], bins=50, color='steelblue', density=True, edgecolor='none')\n",
    "    ax.set_title(wines.columns[i], fontsize=14)"
   ]
  },
  {
   "cell_type": "markdown",
   "metadata": {},
   "source": [
    "On va discrétiser la variable Y pour avoir un problème de classification : les vins classés \"bons\", \"biens\" et ceux classés \"bofs\"."
   ]
  },
  {
   "cell_type": "code",
   "execution_count": 5,
   "metadata": {},
   "outputs": [
    {
     "data": {
      "image/png": "[encoded data removed]",
      "text/plain": [
       "<Figure size 432x288 with 1 Axes>"
      ]
     },
     "metadata": {
      "needs_background": "light"
     },
     "output_type": "display_data"
    }
   ],
   "source": [
    "vals = wines[\"quality\"].value_counts()\n",
    "plt.bar(vals.index,vals);"
   ]
  },
  {
   "cell_type": "markdown",
   "metadata": {},
   "source": [
    "Vu la répartition, on va faire 3 classes :\n",
    "- bons : notes 7, 8 et 9\n",
    "- biens : note 6\n",
    "- bofs : notes 3, 4 et 5"
   ]
  },
  {
   "cell_type": "code",
   "execution_count": 6,
   "metadata": {},
   "outputs": [],
   "source": [
    "y_class = np.where(y==6,1,0)\n",
    "y_class[np.where(y>6)] = 2"
   ]
  },
  {
   "cell_type": "code",
   "execution_count": 7,
   "metadata": {},
   "outputs": [],
   "source": [
    "#Train/test sets\n",
    "from sklearn.model_selection import train_test_split\n",
    "X_train, X_test, y_train, y_test = train_test_split(X, y_class,test_size=0.3)"
   ]
  },
  {
   "cell_type": "code",
   "execution_count": 8,
   "metadata": {},
   "outputs": [],
   "source": [
    "# Standardisation\n",
    "from sklearn.preprocessing import StandardScaler\n",
    "sc = StandardScaler()\n",
    "X_train = sc.fit_transform(X_train)\n",
    "X_test = sc.transform(X_test)"
   ]
  },
  {
   "cell_type": "code",
   "execution_count": 13,
   "metadata": {},
   "outputs": [
    {
     "data": {
      "text/plain": [
       "{'mean_fit_time': array([0.00169082, 0.00148954, 0.00138245, 0.00137558, 0.00136518,\n",
       "        0.00140533, 0.00136824, 0.00137572, 0.00157585, 0.00137105,\n",
       "        0.00138106, 0.00145259, 0.00153928, 0.00135984, 0.00136728,\n",
       "        0.00135608, 0.0013711 , 0.00154114, 0.00160832, 0.00162959]),\n",
       " 'std_fit_time': array([2.57473583e-04, 2.47564126e-04, 3.62645866e-05, 2.99450698e-05,\n",
       "        4.63097021e-05, 1.13352287e-04, 2.95479024e-05, 4.01567670e-05,\n",
       "        4.50357527e-04, 1.51665702e-05, 4.49424018e-05, 1.04453637e-04,\n",
       "        3.91587645e-04, 1.23845544e-05, 1.98718131e-05, 2.96324274e-05,\n",
       "        2.57674788e-05, 3.38190952e-04, 3.02674556e-04, 2.15444822e-04]),\n",
       " 'mean_score_time': array([0.03506017, 0.03692145, 0.03979025, 0.04140944, 0.04272738,\n",
       "        0.04382863, 0.05155678, 0.04600801, 0.04678426, 0.04707093,\n",
       "        0.04736052, 0.05189738, 0.0491859 , 0.04954   , 0.04987497,\n",
       "        0.0505878 , 0.05176673, 0.05262761, 0.05810719, 0.05983586]),\n",
       " 'std_score_time': array([0.00336781, 0.00118041, 0.00100183, 0.00056776, 0.0009416 ,\n",
       "        0.0006499 , 0.00363711, 0.00055591, 0.00151108, 0.00091612,\n",
       "        0.00052182, 0.00241422, 0.00105619, 0.00080999, 0.00071757,\n",
       "        0.00113787, 0.00288114, 0.00272161, 0.00136986, 0.00155142]),\n",
       " 'param_n_neighbors': masked_array(data=[1, 2, 3, 4, 5, 6, 7, 8, 9, 10, 11, 12, 13, 14, 15, 16,\n",
       "                    17, 18, 19, 20],\n",
       "              mask=[False, False, False, False, False, False, False, False,\n",
       "                    False, False, False, False, False, False, False, False,\n",
       "                    False, False, False, False],\n",
       "        fill_value='?',\n",
       "             dtype=object),\n",
       " 'params': [{'n_neighbors': 1},\n",
       "  {'n_neighbors': 2},\n",
       "  {'n_neighbors': 3},\n",
       "  {'n_neighbors': 4},\n",
       "  {'n_neighbors': 5},\n",
       "  {'n_neighbors': 6},\n",
       "  {'n_neighbors': 7},\n",
       "  {'n_neighbors': 8},\n",
       "  {'n_neighbors': 9},\n",
       "  {'n_neighbors': 10},\n",
       "  {'n_neighbors': 11},\n",
       "  {'n_neighbors': 12},\n",
       "  {'n_neighbors': 13},\n",
       "  {'n_neighbors': 14},\n",
       "  {'n_neighbors': 15},\n",
       "  {'n_neighbors': 16},\n",
       "  {'n_neighbors': 17},\n",
       "  {'n_neighbors': 18},\n",
       "  {'n_neighbors': 19},\n",
       "  {'n_neighbors': 20}],\n",
       " 'split0_test_score': array([0.58681319, 0.55274725, 0.55494505, 0.55384615, 0.55384615,\n",
       "        0.56153846, 0.56593407, 0.57472527, 0.55934066, 0.54615385,\n",
       "        0.54615385, 0.54285714, 0.54285714, 0.54395604, 0.54835165,\n",
       "        0.55164835, 0.55054945, 0.55384615, 0.54945055, 0.56153846]),\n",
       " 'split1_test_score': array([0.62527473, 0.59450549, 0.56813187, 0.5967033 , 0.58681319,\n",
       "        0.60769231, 0.60989011, 0.60549451, 0.59340659, 0.60769231,\n",
       "        0.5978022 , 0.6032967 , 0.60769231, 0.59230769, 0.59010989,\n",
       "        0.59340659, 0.59450549, 0.59340659, 0.59230769, 0.58901099]),\n",
       " 'split2_test_score': array([0.65346535, 0.58635864, 0.59735974, 0.61716172, 0.60616062,\n",
       "        0.59955996, 0.58745875, 0.59625963, 0.5819582 , 0.58635864,\n",
       "        0.58635864, 0.58745875, 0.58635864, 0.58305831, 0.58305831,\n",
       "        0.57975798, 0.58305831, 0.59625963, 0.5929593 , 0.58525853]),\n",
       " 'split3_test_score': array([0.66666667, 0.62816282, 0.64136414, 0.62156216, 0.62486249,\n",
       "        0.62046205, 0.62816282, 0.62926293, 0.63806381, 0.63036304,\n",
       "        0.6039604 , 0.61166117, 0.61936194, 0.60726073, 0.63036304,\n",
       "        0.62376238, 0.62266227, 0.61936194, 0.62376238, 0.61936194]),\n",
       " 'split4_test_score': array([0.63916392, 0.58305831, 0.57975798, 0.60066007, 0.59075908,\n",
       "        0.59185919, 0.60836084, 0.59955996, 0.60176018, 0.60506051,\n",
       "        0.60616062, 0.59955996, 0.59185919, 0.60066007, 0.59405941,\n",
       "        0.59955996, 0.60836084, 0.59625963, 0.60066007, 0.59625963]),\n",
       " 'mean_test_score': array([0.63426435, 0.58895975, 0.58829998, 0.59797669, 0.59247856,\n",
       "        0.59621729, 0.59995601, 0.60105564, 0.59489773, 0.59511766,\n",
       "        0.58808005, 0.58895975, 0.58961953, 0.58544095, 0.58917968,\n",
       "        0.58961953, 0.59181878, 0.59181878, 0.59181878, 0.59027931]),\n",
       " 'std_test_score': array([0.02748063, 0.02416926, 0.02996614, 0.02400642, 0.02351125,\n",
       "        0.019763  , 0.0213495 , 0.01751565, 0.02586227, 0.02819382,\n",
       "        0.02206965, 0.02434022, 0.02613377, 0.02228185, 0.02617431,\n",
       "        0.02374157, 0.02454644, 0.0211807 , 0.02406603, 0.01862559]),\n",
       " 'rank_test_score': array([ 1, 16, 18,  4,  8,  5,  3,  2,  7,  6, 19, 16, 13, 20, 15, 13,  9,\n",
       "         9,  9, 12], dtype=int32)}"
      ]
     },
     "execution_count": 13,
     "metadata": {},
     "output_type": "execute_result"
    }
   ],
   "source": [
    "from sklearn.model_selection import GridSearchCV\n",
    "from sklearn.neighbors import KNeighborsClassifier\n",
    "\n",
    "# Fixer les valeurs des hyperparamètres à tester\n",
    "param_grid = {'n_neighbors': list(range(1,21))}\n",
    "\n",
    "\n",
    "# GridSearchCV : création de modèle avec recherche d'hyperparamètre par validation croisée\n",
    "knn = GridSearchCV(KNeighborsClassifier(), param_grid, cv=5, scoring='accuracy')\n",
    "knn.fit(X_train, y_train)\n",
    "\n",
    "knn.cv_results_"
   ]
  },
  {
   "cell_type": "code",
   "execution_count": 12,
   "metadata": {},
   "outputs": [
    {
     "name": "stdout",
     "output_type": "stream",
     "text": [
      "Meilleur(s) hyperparamètre(s) sur le jeu d'entraînement:\n",
      "{'n_neighbors': 1}\n",
      "Résultats de la validation croisée :\n",
      "'accuracy' = 0.634 (+/-0.055) for {'n_neighbors': 1}\n",
      "'accuracy' = 0.589 (+/-0.048) for {'n_neighbors': 2}\n",
      "'accuracy' = 0.588 (+/-0.060) for {'n_neighbors': 3}\n",
      "'accuracy' = 0.598 (+/-0.048) for {'n_neighbors': 4}\n",
      "'accuracy' = 0.592 (+/-0.047) for {'n_neighbors': 5}\n",
      "'accuracy' = 0.596 (+/-0.040) for {'n_neighbors': 6}\n",
      "'accuracy' = 0.600 (+/-0.043) for {'n_neighbors': 7}\n",
      "'accuracy' = 0.601 (+/-0.035) for {'n_neighbors': 8}\n",
      "'accuracy' = 0.595 (+/-0.052) for {'n_neighbors': 9}\n",
      "'accuracy' = 0.595 (+/-0.056) for {'n_neighbors': 10}\n",
      "'accuracy' = 0.588 (+/-0.044) for {'n_neighbors': 11}\n",
      "'accuracy' = 0.589 (+/-0.049) for {'n_neighbors': 12}\n",
      "'accuracy' = 0.590 (+/-0.052) for {'n_neighbors': 13}\n",
      "'accuracy' = 0.585 (+/-0.045) for {'n_neighbors': 14}\n",
      "'accuracy' = 0.589 (+/-0.052) for {'n_neighbors': 15}\n",
      "'accuracy' = 0.590 (+/-0.047) for {'n_neighbors': 16}\n",
      "'accuracy' = 0.592 (+/-0.049) for {'n_neighbors': 17}\n",
      "'accuracy' = 0.592 (+/-0.042) for {'n_neighbors': 18}\n",
      "'accuracy' = 0.592 (+/-0.048) for {'n_neighbors': 19}\n",
      "'accuracy' = 0.590 (+/-0.037) for {'n_neighbors': 20}\n"
     ]
    }
   ],
   "source": [
    "# Afficher le(s) hyperparamètre(s) optimaux\n",
    "print(\"Meilleur(s) hyperparamètre(s) sur le jeu d'entraînement:\")\n",
    "print(knn.best_params_)\n",
    "\n",
    "# Afficher les performances correspondantes\n",
    "print(\"Résultats de la validation croisée :\")\n",
    "for mean, std, params in zip(\n",
    "        knn.cv_results_['mean_test_score'], # score moyen\n",
    "        knn.cv_results_['std_test_score'],  # écart-type du score\n",
    "        knn.cv_results_['params']           # valeur de l'hyperparamètre\n",
    "    ):\n",
    "\n",
    "    print(\"'accuracy' = {:.3f} (+/-{:.03f}) for {}\".format(mean,std*2,params))"
   ]
  },
  {
   "cell_type": "code",
   "execution_count": 10,
   "metadata": {},
   "outputs": [
    {
     "name": "stdout",
     "output_type": "stream",
     "text": [
      "\n",
      "Sur le jeu de test : 0.655\n"
     ]
    }
   ],
   "source": [
    "y_pred = knn.predict(X_test)\n",
    "\n",
    "from sklearn.metrics import accuracy_score\n",
    "print(\"\\nSur le jeu de test : {:.3f}\".format(accuracy_score(y_test, y_pred)))"
   ]
  },
  {
   "cell_type": "code",
   "execution_count": null,
   "metadata": {},
   "outputs": [],
   "source": []
  }
 ],
 "metadata": {
  "kernelspec": {
   "display_name": "Python 3",
   "language": "python",
   "name": "python3"
  },
  "language_info": {
   "codemirror_mode": {
    "name": "ipython",
    "version": 3
   },
   "file_extension": ".py",
   "mimetype": "text/x-python",
   "name": "python",
   "nbconvert_exporter": "python",
   "pygments_lexer": "ipython3",
   "version": "3.7.3"
  }
 },
 "nbformat": 4,
 "nbformat_minor": 4
}

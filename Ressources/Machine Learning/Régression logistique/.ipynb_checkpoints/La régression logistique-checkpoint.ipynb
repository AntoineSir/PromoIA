{
 "cells": [
  {
   "cell_type": "markdown",
   "metadata": {},
   "source": [
    "# La régression logistique"
   ]
  },
  {
   "cell_type": "markdown",
   "metadata": {},
   "source": [
    "## Pourquoi la régression logistique ?"
   ]
  },
  {
   "cell_type": "markdown",
   "metadata": {},
   "source": [
    "La régression logistique est un __modèle linéaire généralisé__ qui permet de répondre au cas où la variable dépendante (celle qu'on cherche à expliquer) est qualitative. Les variables explicatives (ou indépendantes) peuvent être quantitative ou qualitative.  \n",
    "Il existe trois types de régressions logistiques :\n",
    "- la régression logistique ordinaire ou régression logistique binaire lorsque la variable d’intérêt est binaire (oui/non, vrai/faux)\n",
    "- la régression logistique multinomiale qui est une extension aux variables qualitatives à trois modalités ou plus\n",
    "- la régression logistique ordinale qui correspond au cas où la variable qualitative au moins 3 modalités ordonnées hiérarchiquement"
   ]
  },
  {
   "cell_type": "markdown",
   "metadata": {},
   "source": [
    "Exemples de problèmes :\n",
    "- déterminer si un objet est défectueux en fonction par exemple du matériau utilisé, de la température de fabrication, de l'humidité, etc...\n",
    "- déterminer si un client a cliqué sur l'offre promotionnelle contenue dans un email selon différentes caractéristiques individuelles (âge, sexe, urbain/rural, etc...).Plus généralement les problèmes de segmentation de clients\n",
    "- déterminer si un email est un SPAM ou non\n",
    "- en médicine : déterminer si une tumeur est maligne/bénine, si un médicament permet la guérison ou non, etc...\n",
    "\n",
    "$\\Rightarrow$ ce sont des problèmes de __classification__"
   ]
  },
  {
   "cell_type": "markdown",
   "metadata": {},
   "source": [
    "## Intuition de la régression logistique"
   ]
  },
  {
   "cell_type": "markdown",
   "metadata": {},
   "source": [
    "### Importer et afficher les données email_offer.csv"
   ]
  },
  {
   "cell_type": "code",
   "execution_count": null,
   "metadata": {},
   "outputs": [],
   "source": [
    "import pandas as pd\n",
    "data = pd.read_csv('Data/email_offer.csv')\n",
    "data.head()"
   ]
  },
  {
   "cell_type": "markdown",
   "metadata": {},
   "source": [
    "### Tracer le scatter plot de y (TookAction) en fonction de x (Age)"
   ]
  },
  {
   "cell_type": "code",
   "execution_count": null,
   "metadata": {},
   "outputs": [],
   "source": [
    "import matplotlib.pyplot as plt\n",
    "plt.scatter(data.Age,data.TookAction)\n",
    "plt.show()"
   ]
  },
  {
   "cell_type": "markdown",
   "metadata": {},
   "source": [
    "### Entrainer un modèle de régression linéaire et afficher la droite de régression sur le scatter plot"
   ]
  },
  {
   "cell_type": "code",
   "execution_count": null,
   "metadata": {},
   "outputs": [],
   "source": [
    "# Les données\n",
    "x = data['Age'].values.reshape(-1,1)\n",
    "y = data['TookAction']\n",
    "\n",
    "# Construction du modèle\n",
    "from sklearn.linear_model import LinearRegression\n",
    "model = LinearRegression()\n",
    "model.fit(x,y)\n",
    "\n",
    "# Visualisation\n",
    "plt.scatter(x,y)\n",
    "plt.plot(x,model.predict(x),c='red')\n",
    "plt.show()"
   ]
  },
  {
   "cell_type": "markdown",
   "metadata": {},
   "source": [
    "### Coder la fonction sigmoïde et afficher son graphe"
   ]
  },
  {
   "cell_type": "code",
   "execution_count": null,
   "metadata": {},
   "outputs": [],
   "source": [
    "import numpy as np\n",
    "from math import exp\n",
    "sig = lambda x : 1/(1+exp(-x))\n",
    "x_values = np.arange(-10,10,0.1)\n",
    "plt.plot(x_values,list(map(sig,x_values)))\n",
    "plt.show()"
   ]
  },
  {
   "cell_type": "markdown",
   "metadata": {},
   "source": [
    "## Une première régression logistique"
   ]
  },
  {
   "cell_type": "markdown",
   "metadata": {},
   "source": [
    "### Construire un premier modèle de régression logistique avec uniquement l'âge comme variable explicative"
   ]
  },
  {
   "cell_type": "code",
   "execution_count": null,
   "metadata": {},
   "outputs": [],
   "source": [
    "x = data['Age'].values.reshape(-1,1)\n",
    "y = data['TookAction']\n",
    "\n",
    "# Modèle de régression logistique\n",
    "from sklearn.linear_model import LogisticRegression\n",
    "reg_log = LogisticRegression(solver='lbfgs', multi_class='auto',random_state = 0)\n",
    "reg_log.fit(x, y)\n",
    "\n",
    "# Prédictions des probabilités\n",
    "prob_pred = reg_log.predict_proba(x)\n",
    "\n",
    "# Prédictions des résultats du Test set\n",
    "y_pred = reg_log.predict(x)\n",
    "\n",
    "# Matrice de confusion\n",
    "from sklearn.metrics import confusion_matrix\n",
    "cm = confusion_matrix(y, y_pred)\n",
    "print(cm)"
   ]
  },
  {
   "cell_type": "markdown",
   "metadata": {},
   "source": [
    "### Afficher sur un même graphique, le scatter plot, la droite de régression et les probabilités"
   ]
  },
  {
   "cell_type": "code",
   "execution_count": null,
   "metadata": {
    "scrolled": true
   },
   "outputs": [],
   "source": [
    "plt.scatter(x,y)\n",
    "plt.plot(x,model.predict(x),c='red')\n",
    "plt.plot(sorted(x),reg_log.predict_proba(sorted(x))[:,1],c='green')\n",
    "plt.show()"
   ]
  },
  {
   "cell_type": "markdown",
   "metadata": {},
   "source": [
    "### Construire un second modèle de régression logistique avec cette fois l'âge et le genre comme variables explicatives et visualiser sur les résultats sur le même graphique que précédemment"
   ]
  },
  {
   "cell_type": "code",
   "execution_count": null,
   "metadata": {},
   "outputs": [],
   "source": [
    "X = data[['Age','Gender']]\n",
    "y = data['TookAction']\n",
    "\n",
    "# Variable Genre catégorique\n",
    "dummies = pd.get_dummies(X.Gender)\n",
    "X = pd.concat([X,dummies], axis=1)\n",
    "X.drop(['Gender','Male'],inplace=True,axis=1)\n",
    "\n",
    "# Modèle de régression logistique sur le training set\n",
    "from sklearn.linear_model import LogisticRegression\n",
    "reg_log2 = LogisticRegression(solver='lbfgs', multi_class='auto', penalty ='none', random_state = 0)\n",
    "reg_log2.fit(X, y)\n",
    "\n",
    "# Matrice de confusion\n",
    "from sklearn.metrics import confusion_matrix\n",
    "cm = confusion_matrix(y, reg_log2.predict(X))\n",
    "print(cm)\n",
    "\n",
    "# Visualisation des probabilités prédites\n",
    "plt.scatter(x,y)\n",
    "plt.plot(x,model.predict(x),c='red')\n",
    "plt.plot(sorted(x),reg_log.predict_proba(sorted(x))[:,1],c='green')\n",
    "plt.scatter(sorted(X.Age),reg_log2.predict_proba(X.sort_values('Age'))[:,1],c='purple')\n",
    "plt.show()"
   ]
  },
  {
   "cell_type": "markdown",
   "metadata": {},
   "source": [
    "## Évaluation du modèle"
   ]
  },
  {
   "cell_type": "markdown",
   "metadata": {},
   "source": [
    "### Matrice de confusion"
   ]
  },
  {
   "cell_type": "code",
   "execution_count": null,
   "metadata": {},
   "outputs": [],
   "source": [
    "#affichage plus \"joli\" de la matrice de confusion\n",
    "cm = pd.DataFrame(cm, columns=['prédit ' + str(_) for _ in reg_log2.classes_])\n",
    "cm.index = ['vrai ' + str(_) for _ in reg_log2.classes_]\n",
    "cm"
   ]
  },
  {
   "cell_type": "markdown",
   "metadata": {},
   "source": [
    "### Affichage des probabilités"
   ]
  },
  {
   "cell_type": "code",
   "execution_count": null,
   "metadata": {},
   "outputs": [],
   "source": [
    "proba_1 = reg_log2.predict_proba(X)[:, 1]\n",
    "pr = pd.DataFrame(proba_1, columns=['proba'])\n",
    "pr['Action'] = y.values\n",
    "\n",
    "fig, ax = plt.subplots(1,1,figsize=(9,5))\n",
    "\n",
    "pr[pr.Action == 1]['proba'].hist(bins=25, label='Action', alpha=0.5, ax=ax)\n",
    "pr[pr.Action == 0]['proba'].hist(bins=25, label='No action', alpha=0.5, ax=ax)\n",
    "ax.plot([0.5, 0.5], [0, 1000], 'g--', label=\"frontière ?\")\n",
    "ax.set_yscale('log') #l'échelle logarithmique permet de mieux voir les probabilités qui sont faibles\n",
    "ax.set_title('Distribution des probabilités des deux classes\\néchelle logarithmique')\n",
    "ax.legend();"
   ]
  },
  {
   "cell_type": "markdown",
   "metadata": {},
   "source": [
    "### Courbe ROC et AUC"
   ]
  },
  {
   "cell_type": "code",
   "execution_count": null,
   "metadata": {},
   "outputs": [],
   "source": [
    "from sklearn.metrics import roc_auc_score, roc_curve, auc\n",
    "proba = reg_log2.predict_proba(X)\n",
    "fpr0, tpr0, thresholds0 = roc_curve(y, proba[:, 0], pos_label=reg_log2.classes_[0], drop_intermediate=False)"
   ]
  },
  {
   "cell_type": "code",
   "execution_count": null,
   "metadata": {},
   "outputs": [],
   "source": [
    "tp = pd.DataFrame(dict(fpr=fpr0, tpr=tpr0, threshold=thresholds0)).copy()\n",
    "tp.drop(0, axis=0, inplace=True) #suppression du 1er seuil fixé arbitrairement à 2\n",
    "tp.head(3)"
   ]
  },
  {
   "cell_type": "code",
   "execution_count": null,
   "metadata": {},
   "outputs": [],
   "source": [
    "ax = tp.plot(x=\"threshold\", y=['fpr', 'tpr'], figsize=(6,6))\n",
    "ax.set_title(\"Evolution de FPR, TPR\\nen fonction du seuil au delà duquel\\n\" + \n",
    "             \"la réponse du classifieur est validée\");"
   ]
  },
  {
   "cell_type": "code",
   "execution_count": null,
   "metadata": {},
   "outputs": [],
   "source": [
    "fig, ax = plt.subplots(1, 1, figsize=(6,6))\n",
    "ax.plot([0, 1], [0, 1], 'k--')\n",
    "aucf = auc(fpr0, tpr0)\n",
    "ax.plot(fpr0, tpr0, label='auc=%1.5f' % aucf)\n",
    "ax.set_title('Courbe ROC')\n",
    "ax.text(0.5, 0.3, \"plus mauvais que\\nle hasard dans\\ncette zone\")\n",
    "ax.legend();"
   ]
  },
  {
   "cell_type": "code",
   "execution_count": null,
   "metadata": {},
   "outputs": [],
   "source": [
    "from sklearn.metrics import precision_recall_curve\n",
    "precision, recall, thresholds = precision_recall_curve(y, probas[:, 0], pos_label=reg_log2.classes_[0])\n",
    "\n",
    "pr = pd.DataFrame(dict(precision=precision, recall=recall, \n",
    "                             threshold=[0] + list(thresholds)))\n",
    "\n",
    "ax = pr.plot(x=\"threshold\", y=['precision', 'recall'], figsize=(6,6))\n",
    "ax.set_title(\"Evolution de la précision et du rappel\\nen fonction du seuil au delà duquel\\n\" + \n",
    "             \"la réponse du classifieur est validée\");"
   ]
  },
  {
   "cell_type": "markdown",
   "metadata": {},
   "source": [
    "## Interprétation des coefficients"
   ]
  },
  {
   "cell_type": "code",
   "execution_count": null,
   "metadata": {},
   "outputs": [],
   "source": [
    "### Affichage des coefficients obtenus avec sklearn sous forme d'un dataframe\n",
    "coef = pd.DataFrame(np.concatenate([reg_log2.intercept_.reshape(-1,1), reg_log2.coef_],axis=1),\n",
    "             index = [\"Coefficients\"],\n",
    "             columns = [\"constante\"]+list(X.columns)).T\n",
    "\n",
    "# Calcul de l'exponentiel pour avoir les odds-ratio\n",
    "coef[\"OR\"] = np.exp(coef.Coefficients)\n",
    "coef"
   ]
  },
  {
   "cell_type": "markdown",
   "metadata": {},
   "source": [
    "Interprétation :\n",
    "- si on augmente l'âge d'un an, alors la probabilité de cliquer augmente 140%\n",
    "- Une femme a 85 fois moins de chances de cliquer qu'un homme (1/0.0118)"
   ]
  },
  {
   "cell_type": "code",
   "execution_count": null,
   "metadata": {},
   "outputs": [],
   "source": [
    "### Construction du même modèle avec statsmodels\n",
    "import statsmodels.api as sm\n",
    "X = sm.add_constant(X) #rappel: par défaut statsmodel ne met pas de constante dans les modèles\n",
    "reg_log3 = sm.Logit(y, X)\n",
    "res = reg_log3.fit()\n",
    "res.summary()"
   ]
  },
  {
   "cell_type": "code",
   "execution_count": null,
   "metadata": {},
   "outputs": [],
   "source": [
    "#Comparaison avec le modèle où on remplace Female par Male\n",
    "X = data[['Age','Gender']]\n",
    "dummies = pd.get_dummies(X.Gender)\n",
    "X = pd.concat([X,dummies], axis=1)\n",
    "X.drop(['Gender','Female'],inplace=True,axis=1)\n",
    "\n",
    "X = sm.add_constant(X)\n",
    "reg_log4 = sm.Logit(y, X)\n",
    "res = reg_log4.fit()\n",
    "res.summary()"
   ]
  },
  {
   "cell_type": "code",
   "execution_count": null,
   "metadata": {},
   "outputs": [],
   "source": [
    "np.exp(res.params)"
   ]
  },
  {
   "cell_type": "markdown",
   "metadata": {},
   "source": [
    "Interprétation : les hommes on 85 fois plus de chances de cliquer que les femmes"
   ]
  },
  {
   "cell_type": "code",
   "execution_count": null,
   "metadata": {},
   "outputs": [],
   "source": []
  }
 ],
 "metadata": {
  "kernelspec": {
   "display_name": "Python 3",
   "language": "python",
   "name": "python3"
  },
  "language_info": {
   "codemirror_mode": {
    "name": "ipython",
    "version": 3
   },
   "file_extension": ".py",
   "mimetype": "text/x-python",
   "name": "python",
   "nbconvert_exporter": "python",
   "pygments_lexer": "ipython3",
   "version": "3.7.3"
  }
 },
 "nbformat": 4,
 "nbformat_minor": 2
}

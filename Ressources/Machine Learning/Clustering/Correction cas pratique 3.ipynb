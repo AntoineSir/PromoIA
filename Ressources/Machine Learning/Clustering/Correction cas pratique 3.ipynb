{
 "cells": [
  {
   "cell_type": "markdown",
   "metadata": {},
   "source": [
    "## Correction cas pratique 3\n",
    "\n",
    "On commence par les premiers traitements : "
   ]
  },
  {
   "cell_type": "code",
   "execution_count": 19,
   "metadata": {},
   "outputs": [],
   "source": [
    "import numpy as np \n",
    "import matplotlib.pyplot as plt\n",
    "import seaborn as sns\n",
    "import pandas as pd\n",
    "from sklearn.preprocessing import StandardScaler\n",
    "sc = StandardScaler()\n",
    "# import du modèle\n",
    "from sklearn.linear_model import LogisticRegression \n",
    "# import ACP\n",
    "from sklearn.decomposition import PCA\n",
    "\n",
    "from keras.datasets import mnist\n",
    "(X_train, y_train), (X_test, y_test) = mnist.load_data()\n",
    "\n",
    "X_train = X_train.reshape(60000,-1)\n",
    "X_train = sc.fit_transform(X_train)\n",
    "X_test = X_test.reshape(10000,-1)\n",
    "X_test = sc.fit_transform(X_test)"
   ]
  },
  {
   "cell_type": "code",
   "execution_count": 20,
   "metadata": {},
   "outputs": [
    {
     "data": {
      "text/plain": [
       "(60000, 784)"
      ]
     },
     "execution_count": 20,
     "metadata": {},
     "output_type": "execute_result"
    }
   ],
   "source": [
    "X_train.shape"
   ]
  },
  {
   "cell_type": "markdown",
   "metadata": {},
   "source": [
    "La régression logistique sur l'ensemble des données était faite ainsi ( on sort le temps d'exécution avec `%%time`): "
   ]
  },
  {
   "cell_type": "code",
   "execution_count": 21,
   "metadata": {},
   "outputs": [
    {
     "name": "stdout",
     "output_type": "stream",
     "text": [
      "Wall time: 2min 9s\n"
     ]
    }
   ],
   "source": [
    "%%time\n",
    "# instanciation du modèle\n",
    "reglog = LogisticRegression(solver='lbfgs', max_iter = 1000)\n",
    "# entrainement du modèle \n",
    "reglog.fit(X_train, y_train)\n",
    "# prédictions\n",
    "y_pred = reglog.predict(X_test) # de tout le set de test\n"
   ]
  },
  {
   "cell_type": "markdown",
   "metadata": {},
   "source": [
    "La précision du modèle est de : "
   ]
  },
  {
   "cell_type": "code",
   "execution_count": 22,
   "metadata": {},
   "outputs": [
    {
     "data": {
      "text/plain": [
       "0.9208"
      ]
     },
     "execution_count": 22,
     "metadata": {},
     "output_type": "execute_result"
    }
   ],
   "source": [
    "reglog.score(X_test, y_test)"
   ]
  },
  {
   "cell_type": "markdown",
   "metadata": {},
   "source": [
    "Pour utiliser la logique ACP, on n'a qu'à transformer X_train et X_test : "
   ]
  },
  {
   "cell_type": "code",
   "execution_count": 23,
   "metadata": {},
   "outputs": [
    {
     "data": {
      "text/plain": [
       "98"
      ]
     },
     "execution_count": 23,
     "metadata": {},
     "output_type": "execute_result"
    }
   ],
   "source": [
    "pca = PCA(0.70)  # 70% de la variance expliquée\n",
    "pca.fit(X_train) # On fitte sur X_train et on transforme x_train et X_test\n",
    "projected_x_train = pca.transform(X_train) # pca.fit_transform = pca.fit() + pca.transform()\n",
    "projected_x_test = pca.transform(X_test)\n",
    "pca.n_components_"
   ]
  },
  {
   "cell_type": "markdown",
   "metadata": {},
   "source": [
    "Pour 70% de la variance, on a 98 composantes. C'est bien moins que les 784 après le reshape"
   ]
  },
  {
   "cell_type": "markdown",
   "metadata": {},
   "source": [
    "Le modèle qui tourne sur les X transformés ainsi donne : "
   ]
  },
  {
   "cell_type": "code",
   "execution_count": 24,
   "metadata": {},
   "outputs": [
    {
     "name": "stdout",
     "output_type": "stream",
     "text": [
      "Wall time: 48.4 s\n"
     ]
    }
   ],
   "source": [
    "%%time\n",
    "# On remet le PCA pour comparer de manière égale\n",
    "pca = PCA(0.70)  # 70% de la variance expliquée\n",
    "pca.fit(X_train) # On fitte sur X_train et on transforme x_train et X_test\n",
    "projected_x_train = pca.transform(X_train) # pca.fit_transform = pca.fit() + pca.transform()\n",
    "projected_x_test = pca.transform(X_test)\n",
    "\n",
    "# instanciation du modèle\n",
    "reglog = LogisticRegression(solver='lbfgs', max_iter = 1000)\n",
    "# entrainement du modèle \n",
    "reglog.fit(projected_x_train, y_train)\n",
    "# prédictions\n",
    "y_pred = reglog.predict(projected_x_test) # de tout le set de test"
   ]
  },
  {
   "cell_type": "markdown",
   "metadata": {},
   "source": [
    "On gagne beaucoup de temps! La précision est de :"
   ]
  },
  {
   "cell_type": "code",
   "execution_count": 25,
   "metadata": {},
   "outputs": [
    {
     "data": {
      "text/plain": [
       "0.9204"
      ]
     },
     "execution_count": 25,
     "metadata": {},
     "output_type": "execute_result"
    }
   ],
   "source": [
    "reglog.score(projected_x_test, y_test)"
   ]
  },
  {
   "cell_type": "markdown",
   "metadata": {},
   "source": [
    "On peut tester avec moins de variance expliquée : "
   ]
  },
  {
   "cell_type": "code",
   "execution_count": 26,
   "metadata": {},
   "outputs": [
    {
     "name": "stdout",
     "output_type": "stream",
     "text": [
      "Wall time: 37.4 s\n"
     ]
    }
   ],
   "source": [
    "%%time\n",
    "# On remet le PCA pour comparer de manière égale\n",
    "pca = PCA(0.65)  # 65% de la variance expliquée\n",
    "pca.fit(X_train) # On fitte sur X_train et on transforme x_train et X_test\n",
    "projected_x_train = pca.transform(X_train) # pca.fit_transform = pca.fit() + pca.transform()\n",
    "projected_x_test = pca.transform(X_test)\n",
    "\n",
    "# instanciation du modèle\n",
    "reglog = LogisticRegression(solver='lbfgs', max_iter = 1000)\n",
    "# entrainement du modèle \n",
    "reglog.fit(projected_x_train, y_train)\n",
    "# prédictions\n",
    "y_pred = reglog.predict(projected_x_test) # de tout le set de test"
   ]
  },
  {
   "cell_type": "code",
   "execution_count": 27,
   "metadata": {},
   "outputs": [
    {
     "data": {
      "text/plain": [
       "0.9176"
      ]
     },
     "execution_count": 27,
     "metadata": {},
     "output_type": "execute_result"
    }
   ],
   "source": [
    "reglog.score(projected_x_test, y_test)"
   ]
  },
  {
   "cell_type": "markdown",
   "metadata": {},
   "source": [
    "Enfin, on peut tester en gardant une plus grande partie de la variance : \n"
   ]
  },
  {
   "cell_type": "code",
   "execution_count": 28,
   "metadata": {},
   "outputs": [
    {
     "data": {
      "text/plain": [
       "236"
      ]
     },
     "execution_count": 28,
     "metadata": {},
     "output_type": "execute_result"
    }
   ],
   "source": [
    "pca = PCA(0.90)  # 90% de la variance expliquée\n",
    "pca.fit(X_train) # On fitte sur X_train et on transforme x_train et X_test\n",
    "projected_x_train = pca.transform(X_train) # pca.fit_transform = pca.fit() + pca.transform()\n",
    "projected_x_test = pca.transform(X_test)\n",
    "pca.n_components_"
   ]
  },
  {
   "cell_type": "markdown",
   "metadata": {},
   "source": [
    "Ce qui donne :"
   ]
  },
  {
   "cell_type": "code",
   "execution_count": 29,
   "metadata": {},
   "outputs": [
    {
     "name": "stdout",
     "output_type": "stream",
     "text": [
      "Wall time: 1min 2s\n"
     ]
    }
   ],
   "source": [
    "%%time\n",
    "# On remet le PCA pour comparer de manière égale\n",
    "pca = PCA(0.90)  # 90% de la variance expliquée\n",
    "pca.fit(X_train) # On fitte sur X_train et on transforme x_train et X_test\n",
    "projected_x_train = pca.transform(X_train) # pca.fit_transform = pca.fit() + pca.transform()\n",
    "projected_x_test = pca.transform(X_test)\n",
    "\n",
    "# instanciation du modèle\n",
    "reglog = LogisticRegression(solver='lbfgs', max_iter = 1000)\n",
    "# entrainement du modèle \n",
    "reglog.fit(projected_x_train, y_train)\n",
    "# prédictions\n",
    "y_pred = reglog.predict(projected_x_test) # de tout le set de test"
   ]
  },
  {
   "cell_type": "code",
   "execution_count": 30,
   "metadata": {},
   "outputs": [
    {
     "data": {
      "text/plain": [
       "0.9273"
      ]
     },
     "execution_count": 30,
     "metadata": {},
     "output_type": "execute_result"
    }
   ],
   "source": [
    "reglog.score(projected_x_test, y_test)"
   ]
  },
  {
   "cell_type": "markdown",
   "metadata": {},
   "source": [
    "A noter que si on prend une plus grosse variance on a..."
   ]
  },
  {
   "cell_type": "code",
   "execution_count": 31,
   "metadata": {},
   "outputs": [
    {
     "data": {
      "text/plain": [
       "0.9258"
      ]
     },
     "execution_count": 31,
     "metadata": {},
     "output_type": "execute_result"
    }
   ],
   "source": [
    "# On remet le PCA pour comparer de manière égale\n",
    "pca = PCA(0.98)  # 98% de la variance expliquée\n",
    "pca.fit(X_train) # On fitte sur X_train et on transforme x_train et X_test\n",
    "projected_x_train = pca.transform(X_train) # pca.fit_transform = pca.fit() + pca.transform()\n",
    "projected_x_test = pca.transform(X_test)\n",
    "\n",
    "# instanciation du modèle\n",
    "reglog = LogisticRegression(solver='lbfgs', max_iter = 1000)\n",
    "# entrainement du modèle \n",
    "reglog.fit(projected_x_train, y_train)\n",
    "# prédictions\n",
    "y_pred = reglog.predict(projected_x_test) # de tout le set de test\n",
    "\n",
    "reglog.score(projected_x_test, y_test)"
   ]
  },
  {
   "cell_type": "markdown",
   "metadata": {},
   "source": [
    "... un moins bon résultat! C'est l'overfitting qui a mieux été contrôlé par l'ACP avec une variance expliquée plus faible."
   ]
  }
 ],
 "metadata": {
  "kernelspec": {
   "display_name": "Python 3",
   "language": "python",
   "name": "python3"
  },
  "language_info": {
   "codemirror_mode": {
    "name": "ipython",
    "version": 3
   },
   "file_extension": ".py",
   "mimetype": "text/x-python",
   "name": "python",
   "nbconvert_exporter": "python",
   "pygments_lexer": "ipython3",
   "version": "3.7.0"
  }
 },
 "nbformat": 4,
 "nbformat_minor": 2
}

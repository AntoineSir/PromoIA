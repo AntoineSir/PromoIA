{
 "cells": [
  {
   "cell_type": "markdown",
   "metadata": {},
   "source": [
    "# Exercice loi des grands nombres"
   ]
  },
  {
   "cell_type": "markdown",
   "metadata": {},
   "source": [
    "La notation mathématique peut paraître \"barbare\" $$\\lim\\limits_{n \\rightarrow +\\infty} \\hat{X}_n = E(X)$$\n",
    "En réalité, le principe est très simple : plus l'échantillon grandi, plus la moyenne de l'échantillon est proche de l'espérance c'est-à-dire la \"vraie\" moyenne.\n",
    "\n",
    "*Exemple \"pile ou face\" :*\n",
    "- sur 10 tirages on peut très bien avoir 7 piles/3 faces\n",
    "- sur 100 tirages, peu probable d'avoir 70 piles/ 30 faces, on sera plus proche de 55 piles / 45 faces par exemple\n",
    "- sur 1000 tirages, c'est quasi impossible d'avoir 700 faces et 300 piles à moins que la pièce soit pipée...on sera plus autour de 520/480 par exemple"
   ]
  },
  {
   "cell_type": "markdown",
   "metadata": {},
   "source": [
    "La loi normale centrée réduite (c'est à dire une loi normale d'espérance 0 et de variance 1)\n",
    "<img src=\"normale_0_1.png\">"
   ]
  },
  {
   "cell_type": "markdown",
   "metadata": {},
   "source": [
    "On va tester la loi des grands nombre pour un échantillon de taille *n* suivant une loi normale centrée réduite :\n",
    "- créer une échantillon de taille n qui suit une loi normale centrée réduite *indication: on utilisera la fonction randn()*\n",
    "- calculer le nombre d'éléments de l'échantillon compris entre -1 et 1 diviser ce nombre par n (cela donne donc la probabilité empirique d'être compris entre -1 et 1)\n",
    "- selon la distribution de la loi normale centrée réduite, on sait que l'espérance est de 68,3% et selon la loi des grands nombre notre moyenne doit tendre vers cette espérance lorsque n augmente : vérifier ce dernier point"
   ]
  },
  {
   "cell_type": "code",
   "execution_count": 2,
   "metadata": {},
   "outputs": [],
   "source": [
    "import numpy as np\n",
    "\n",
    "def lln(n):\n",
    "    liste = np.random.randn(n)\n",
    "    cpt = 0\n",
    "    for nb in liste:\n",
    "        if -1<nb<1: #if -1<i and i<1\n",
    "            cpt+=1  #cpt = cpt+1\n",
    "    return cpt/n*100"
   ]
  },
  {
   "cell_type": "code",
   "execution_count": 5,
   "metadata": {},
   "outputs": [
    {
     "name": "stdout",
     "output_type": "stream",
     "text": [
      "Pour n =  1 , la moyenne vaut  72.0\n",
      "Pour n =  2 , la moyenne vaut  59.5\n",
      "Pour n =  5 , la moyenne vaut  66.0\n",
      "Pour n =  10 , la moyenne vaut  69.3\n",
      "Pour n =  20 , la moyenne vaut  69.0\n",
      "Pour n =  50 , la moyenne vaut  68.3\n",
      "Pour n =  100 , la moyenne vaut  68.4\n",
      "Pour n =  200 , la moyenne vaut  68.285\n",
      "Pour n =  500 , la moyenne vaut  67.94800000000001\n",
      "Pour n =  1000 , la moyenne vaut  68.312\n",
      "Pour n =  2000 , la moyenne vaut  68.33899999999998\n",
      "Pour n =  5000 , la moyenne vaut  68.3048\n",
      "Pour n =  10000 , la moyenne vaut  68.3172\n",
      "Pour n =  20000 , la moyenne vaut  68.28285\n",
      "Pour n =  50000 , la moyenne vaut  68.2863\n"
     ]
    }
   ],
   "source": [
    "for i in range(0,5):\n",
    "    for j in [1,2,5]:\n",
    "        n = j*10**i\n",
    "        probas = []\n",
    "        for nb_tirages in range(100):\n",
    "            probas.append(lln(n))\n",
    "        print(\"Pour n = \",n,\", la moyenne vaut \", np.mean(probas))"
   ]
  },
  {
   "cell_type": "code",
   "execution_count": 22,
   "metadata": {},
   "outputs": [
    {
     "name": "stdout",
     "output_type": "stream",
     "text": [
      "1 100.0\n",
      "2 50.0\n",
      "5 40.0\n",
      "10 70.0\n",
      "20 65.0\n",
      "50 78.0\n",
      "100 76.0\n",
      "500 66.60000000000001\n",
      "1000 69.89999999999999\n",
      "10000 68.35\n"
     ]
    }
   ],
   "source": [
    "l=[1,2,5,10,20,50,100,500,1000,10000]\n",
    "for n in l:\n",
    "    print(n, lln(n))"
   ]
  },
  {
   "cell_type": "code",
   "execution_count": 26,
   "metadata": {},
   "outputs": [
    {
     "name": "stdout",
     "output_type": "stream",
     "text": [
      "69.1\n",
      "67.80000000000001\n",
      "70.6\n",
      "68.10000000000001\n",
      "67.0\n",
      "67.4\n",
      "69.19999999999999\n",
      "70.8\n",
      "69.89999999999999\n",
      "68.5\n"
     ]
    }
   ],
   "source": [
    "i=0\n",
    "while i <10:\n",
    "    print(lln(1000))\n",
    "    i+=1"
   ]
  },
  {
   "cell_type": "code",
   "execution_count": null,
   "metadata": {},
   "outputs": [],
   "source": []
  }
 ],
 "metadata": {
  "kernelspec": {
   "display_name": "Python 3",
   "language": "python",
   "name": "python3"
  },
  "language_info": {
   "codemirror_mode": {
    "name": "ipython",
    "version": 3
   },
   "file_extension": ".py",
   "mimetype": "text/x-python",
   "name": "python",
   "nbconvert_exporter": "python",
   "pygments_lexer": "ipython3",
   "version": "3.7.3"
  }
 },
 "nbformat": 4,
 "nbformat_minor": 2
}

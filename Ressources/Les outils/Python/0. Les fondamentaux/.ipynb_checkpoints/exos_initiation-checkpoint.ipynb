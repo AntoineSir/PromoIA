{
 "cells": [
  {
   "cell_type": "markdown",
   "metadata": {},
   "source": [
    "Initiation à ```python```\n",
    "============"
   ]
  },
  {
   "cell_type": "markdown",
   "metadata": {},
   "source": [
    "Jupyter\n",
    "--------\n",
    "\n",
    "Jupyter est un service Web permettant de faire des notebooks. Ces notebooks facilitent le développement intéractif et sont de bons outils d'exploration données entre autres.\n",
    "\n",
    "Quelques raccourcis utiles pour l'utilisation de jupyter\n",
    "\n",
    "En mode navigation:\n",
    "* ```Shift + Enter``` : Lancer une cellule \n",
    "* ```Enter``` : Passer en mode édition\n",
    "* ```M``` : Passer la cellule en mode Markdown\n",
    "* ```Y``` : Passer la cellule en mode code\n",
    "* ```A``` : Insérer une cellule Au-dessus (Above)\n",
    "* ```B``` : Insérer une cellule en Bas (Below)\n",
    "* ```O``` : Permet de fermer la sortie d'une cellule, utile quand celui-ci prend trop de place par exemple\n",
    "\n",
    "En mode édition: \n",
    "* ```Shift + Enter``` : Lancer une cellule \n",
    "* ```Esc``` : Retour au mode de navigation entre les cellules\n",
    "* ```Shift``` : Autocomplétion\n",
    "* ```Shift+Tab``` : Documentation/aide de la fonction ou méthode utilisée. Premier ```Tab``` résumé de la documentation, deuxième ```Tab``` documentation complète\n",
    "* ```Alt+flèche``` : Aller au début ou en fin de ligne"
   ]
  },
  {
   "cell_type": "markdown",
   "metadata": {},
   "source": [
    "Exo 1\n",
    "------\n",
    "Assigner la variable ```preums``` à 125 et ```deuz``` à 15 puis mettre la division dans une troisième variable du nom de votre choix. Imprimer cette variable."
   ]
  },
  {
   "cell_type": "code",
   "execution_count": null,
   "metadata": {},
   "outputs": [],
   "source": []
  },
  {
   "cell_type": "markdown",
   "metadata": {},
   "source": [
    "Exo 2\n",
    "---------\n",
    "Créer un string de votre choix, remplacer les 8ième et 9ième éléments par \"42\" en utilisant le slicing avec l'opérateur ```\":\"``` et la concaténation. Imprimer ce string."
   ]
  },
  {
   "cell_type": "code",
   "execution_count": null,
   "metadata": {},
   "outputs": [],
   "source": []
  },
  {
   "cell_type": "markdown",
   "metadata": {},
   "source": [
    "Exo 3\n",
    "----------\n",
    "\n",
    "Vérifier que la longueur de ```mon_string``` est supérieure à 42, sinon réassigner la variable ```mon_string``` à \"Tant pis\" et imprimer ```mon_string```. Tester avec plusieurs valeurs pour ```mon_string```"
   ]
  },
  {
   "cell_type": "code",
   "execution_count": null,
   "metadata": {},
   "outputs": [],
   "source": [
    "mon_string = \"bonjour, appuyer sans cesse sur shift+enter m'épuise\""
   ]
  },
  {
   "cell_type": "code",
   "execution_count": null,
   "metadata": {},
   "outputs": [],
   "source": []
  },
  {
   "cell_type": "markdown",
   "metadata": {},
   "source": [
    "Exo 4\n",
    "-------\n",
    "Compter le nombre de voyelles dans ```mon_string```. \n",
    "\n",
    "Indice: Plus haut on avait vu une condition qui permettait de voir si une lettre était présente dans un string."
   ]
  },
  {
   "cell_type": "code",
   "execution_count": null,
   "metadata": {},
   "outputs": [],
   "source": []
  },
  {
   "cell_type": "markdown",
   "metadata": {},
   "source": [
    "Exo 5\n",
    "----------\n",
    "Créer une fonction ```python_c_est_la_vie``` qui prend en paramètre un string ```le_string``` et un chiffre ```n``` par défaut à 5. La fonction va imprimer chaque nième élément du string. \n",
    "\n",
    "Indice: l'opérateur ```\"%\"``` permet d'obtenir le reste de la division euclidienne."
   ]
  },
  {
   "cell_type": "code",
   "execution_count": null,
   "metadata": {},
   "outputs": [],
   "source": []
  },
  {
   "cell_type": "markdown",
   "metadata": {},
   "source": [
    "Exo 6\n",
    "-------"
   ]
  },
  {
   "cell_type": "markdown",
   "metadata": {},
   "source": [
    "À partir de la liste ```poprock``` ajouter les années d'activité qui suivent la virgule dans une liste ```annees_actives```. Imprimer chaque élément de ```annees_actives```. \n",
    "\n",
    "*Indice*: Plusieurs manières de le faire, une bonne idée est d'utiliser la méthode ```.split()``` des strings. Pour voir la doc: ```help(str.split)```"
   ]
  },
  {
   "cell_type": "code",
   "execution_count": null,
   "metadata": {},
   "outputs": [],
   "source": [
    "poprock = [\"The Beatles, 1960-1970\", \n",
    "           \"The Rolling Stones, depuis 1962\", \n",
    "           \"Pink Floyd, 1965-1995\", \n",
    "           \"Led Zeppelin, 1968-1980\",\n",
    "           \"The Who, 1964-1983\",\n",
    "           \"Queen, depuis 1971\",\n",
    "           \"Depeche Mode, depuis 1980\", \n",
    "           \"Radiohead, depuis 1985\", \n",
    "           \"The Smiths, 1982-1987\",\n",
    "           \"The Libertines, 1997-2004\", \n",
    "           \"Arctic Monkeys, 2002-2014\"]"
   ]
  },
  {
   "cell_type": "code",
   "execution_count": null,
   "metadata": {},
   "outputs": [],
   "source": []
  },
  {
   "cell_type": "markdown",
   "metadata": {},
   "source": [
    "Exo 7\n",
    "-------------\n",
    "A partir de la liste ```poprock``` créer un dictionaire contenant en clé le nom du groupe et en valeur les dates d'activité. Imprimer chaque élément de ce dictionaire."
   ]
  },
  {
   "cell_type": "code",
   "execution_count": null,
   "metadata": {},
   "outputs": [],
   "source": []
  }
 ],
 "metadata": {
  "kernelspec": {
   "display_name": "Python 3",
   "language": "python",
   "name": "python3"
  },
  "language_info": {
   "codemirror_mode": {
    "name": "ipython",
    "version": 3
   },
   "file_extension": ".py",
   "mimetype": "text/x-python",
   "name": "python",
   "nbconvert_exporter": "python",
   "pygments_lexer": "ipython3",
   "version": "3.7.3"
  }
 },
 "nbformat": 4,
 "nbformat_minor": 2
}

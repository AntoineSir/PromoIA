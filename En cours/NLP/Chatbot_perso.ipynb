{
 "cells": [
  {
   "cell_type": "markdown",
   "metadata": {},
   "source": [
    "## Chatbot perso\n",
    "\n",
    "Faites un chatbot qui :  \n",
    "- Répond à l'utilisateur si celui-ci le salue  \n",
    "- Répond à l'utilisateur si celui-ci lui demande comment il va  \n",
    "- Donne son nom si l'utilisateur lui demande  \n",
    "- Donne son âge si l'utilisateur lui demande  \n",
    "- Donne sa chanson préférée si l'utilisateur lui demande  \n",
    "- Dit où il vit si l'utilisateur lui demande  \n",
    "- Dit ce qu'il fait dans la vie si l'utilisateur lui demande  \n",
    "- Ferme quand l'utilisateur lui dit au revoir  \n",
    "- ... donne d'autres informations qui vous semblent intéressantes?\n",
    "\n",
    "Pensez à varier à chaque fois les réponses pour le rendre plus \"réel\". N'oubliez pas de proposer une ou plusieurs réponses types dans le cas où l'utilisateur rentre une question non comprise par le chatbot! \n",
    "\n",
    "__Rappel__ : Vous pouvez coder le chatbot vous même en utilisant la librairie `re` pour traiter les expressions régulières et la librairie `random` pour choisir une réponse au hasard parmi plusieurs possibilités. Cette option est plus \"souple\" et vous permet d'avoir plus la main sur l'ensemble des paramètres.  \n",
    "Si vous ne vous sentez pas assez à l'aise, vous pouvez utiliser la fonction `Chat` de `nltk.chat.util` sur le modèle de ce que je vous ai présenté. "
   ]
  },
  {
   "cell_type": "code",
   "execution_count": null,
   "metadata": {},
   "outputs": [],
   "source": []
  }
 ],
 "metadata": {
  "kernelspec": {
   "display_name": "Python 3",
   "language": "python",
   "name": "python3"
  },
  "language_info": {
   "codemirror_mode": {
    "name": "ipython",
    "version": 3
   },
   "file_extension": ".py",
   "mimetype": "text/x-python",
   "name": "python",
   "nbconvert_exporter": "python",
   "pygments_lexer": "ipython3",
   "version": "3.7.0"
  }
 },
 "nbformat": 4,
 "nbformat_minor": 2
}

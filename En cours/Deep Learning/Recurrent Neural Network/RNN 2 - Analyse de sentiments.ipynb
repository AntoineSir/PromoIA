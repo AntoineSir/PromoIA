{
 "cells": [
  {
   "cell_type": "markdown",
   "metadata": {},
   "source": [
    "# **Recurrent Neural Network - Analyse de sentiments**\n",
    "\n",
    "Le but de cet exercice est la classification binaire (positive ou négative) de reviews en utilisant un RNN sur un dataset de commentaires IMDB que vous trouverez dans le dossier data."
   ]
  },
  {
   "cell_type": "code",
   "execution_count": 1,
   "metadata": {},
   "outputs": [],
   "source": [
    "# import des librairies\n",
    "import string\n",
    "from collections import Counter\n",
    "import pandas as pd\n",
    "import numpy as np\n",
    "import matplotlib.pyplot as plt\n",
    "\n",
    "from keras.preprocessing.sequence import pad_sequences\n",
    "from keras import Sequential\n",
    "from keras.layers import Embedding, LSTM, Dense, Dropout\n",
    "\n",
    "from sklearn.model_selection import train_test_split"
   ]
  },
  {
   "cell_type": "markdown",
   "metadata": {},
   "source": [
    "## **1. Import des données et preprocessing**\n",
    "\n",
    "1. Importer les 2 fichiers \".txt\" de data/imdb\n",
    "2. Vérifier ce qu'il y a dedans si c'est pas déjà fait...\n",
    "3. Un peu de preprocessing de texte, allez on va chercher dans sa petite mémoire et sinon dans son gros ordinateur :\n",
    ">- convertir en minuscules\n",
    ">- retirer la ponctuation\n",
    ">- créer une liste des reviews et déterminer combien il y en a. Pareil pour les labels. Inch'Allah y en aura autant."
   ]
  },
  {
   "cell_type": "code",
   "execution_count": 2,
   "metadata": {},
   "outputs": [],
   "source": [
    "# lire les \".txt\"\n",
    "with open('data/imdb/reviews.txt', 'r') as f:\n",
    "    reviews_str = f.read()\n",
    "with open('data/imdb/labels.txt', 'r') as f:\n",
    "    labels_str = f.read()"
   ]
  },
  {
   "cell_type": "code",
   "execution_count": 3,
   "metadata": {},
   "outputs": [
    {
     "data": {
      "text/plain": [
       "(str,\n",
       " 33678267,\n",
       " 'bromwell high is a cartoon comedy . it ran at the same time as some other programs about school life')"
      ]
     },
     "execution_count": 3,
     "metadata": {},
     "output_type": "execute_result"
    }
   ],
   "source": [
    "# reviews\n",
    "type(reviews_str), len(reviews_str), reviews_str[:100]"
   ]
  },
  {
   "cell_type": "code",
   "execution_count": 4,
   "metadata": {},
   "outputs": [
    {
     "data": {
      "text/plain": [
       "(str,\n",
       " 225000,\n",
       " 'positive\\nnegative\\npositive\\nnegative\\npositive\\nnegative\\npositive\\nnegative\\npositive\\nnegative\\npositive\\nn')"
      ]
     },
     "execution_count": 4,
     "metadata": {},
     "output_type": "execute_result"
    }
   ],
   "source": [
    "# labels\n",
    "type(labels_str), len(labels_str), labels_str[:100]"
   ]
  },
  {
   "cell_type": "code",
   "execution_count": 5,
   "metadata": {},
   "outputs": [],
   "source": [
    "# en minuscules\n",
    "reviews_str = reviews_str.lower()"
   ]
  },
  {
   "cell_type": "code",
   "execution_count": 6,
   "metadata": {},
   "outputs": [],
   "source": [
    "# sans ponctuation\n",
    "reviews_str = reviews_str.translate(str.maketrans('', '', string.punctuation))"
   ]
  },
  {
   "cell_type": "code",
   "execution_count": 7,
   "metadata": {},
   "outputs": [
    {
     "data": {
      "text/plain": [
       "25001"
      ]
     },
     "execution_count": 7,
     "metadata": {},
     "output_type": "execute_result"
    }
   ],
   "source": [
    "# split et nb de review\n",
    "reviews = reviews_str.split('\\n')\n",
    "len(reviews)"
   ]
  },
  {
   "cell_type": "code",
   "execution_count": 8,
   "metadata": {},
   "outputs": [
    {
     "data": {
      "text/plain": [
       "25001"
      ]
     },
     "execution_count": 8,
     "metadata": {},
     "output_type": "execute_result"
    }
   ],
   "source": [
    "# split et nb de label\n",
    "labels = labels_str.split('\\n')\n",
    "len(labels)"
   ]
  },
  {
   "cell_type": "markdown",
   "metadata": {},
   "source": [
    "## **2. Tokenisation ou encodage**\n",
    "\n",
    "Le but est de remplacer les mots des reviews par des entiers. Si vous voulez faire à votre sauce, vous y êtes encouragés !\n",
    "\n",
    "Sinon, les quelques étapes décrites ci-dessous vous permettront de le faire :\n",
    ">- compter l'ensemble des mots (vous pouvez utiliser `Counter` de la librairie `collections` qui est une des plus rapide dans ce domaine)\n",
    ">- les trier par ordre décroissant d'occurrences\n",
    ">- créer un dictionnaire `word_mapping` où les clés sont les mots et les valeurs l'entier associé (votre dico doit être `{'the': 1, 'and': 2, 'a': 3, 'of': 4,..., 'muppified': 74070, 'whelk': 74071, 'hued': 74072}}`). C'est volontaire que ça commence à 1 car on utilisera le \"0\" comme caractère pour remplir les reviews les plus courtes afin qu'elles aient toutes la même taille...\n",
    ">- encoder les mots (c'est-à-dire les remplacer par l'entier qui les représente)\n",
    ">- encoder les labels (ça c'est fastoche, on se débrouille)"
   ]
  },
  {
   "cell_type": "code",
   "execution_count": 9,
   "metadata": {},
   "outputs": [],
   "source": [
    "# comptage des mots et tri par occurrence\n",
    "words = ' '.join(reviews).split()\n",
    "word_count = Counter(words)\n",
    "sorted_words = sorted(word_count, key=word_count.get, reverse=True)"
   ]
  },
  {
   "cell_type": "code",
   "execution_count": 10,
   "metadata": {},
   "outputs": [],
   "source": [
    "# dictionnaire de correspondance mot = entier\n",
    "word_mapping = {w:i+1 for i,w in enumerate(sorted_words)}"
   ]
  },
  {
   "cell_type": "code",
   "execution_count": 11,
   "metadata": {},
   "outputs": [
    {
     "name": "stdout",
     "output_type": "stream",
     "text": [
      "[[21025, 308, 6, 3, 1050, 207, 8, 2138, 32, 1, 171, 57, 15, 49, 81, 5785, 44, 382, 110, 140, 15, 5194, 60, 154, 9, 1, 4975, 5852, 475, 71, 5, 260, 12, 21025, 308, 13, 1978, 6, 74, 2395, 5, 613, 73, 6, 5194, 1, 24103, 5, 1983, 10166, 1, 5786, 1499, 36, 51, 66, 204, 145, 67, 1199, 5194, 19869, 1, 37442, 4, 1, 221, 883, 31, 2988, 71, 4, 1, 5787, 10, 686, 2, 67, 1499, 54, 10, 216, 1, 383, 9, 62, 3, 1406, 3686, 783, 5, 3483, 180, 1, 382, 10, 1212, 13583, 32, 308, 3, 349, 341, 2913, 10, 143, 127, 5, 7690, 30, 4, 129, 5194, 1406, 2326, 5, 21025, 308, 10, 528, 12, 109, 1448, 4, 60, 543, 102, 12, 21025, 308, 6, 227, 4146, 48, 3, 2211, 12, 8, 215, 23], [63, 4, 3, 125, 36, 47, 7472, 1395, 16, 3, 4181, 505, 45, 17, 3, 622, 134, 12, 6, 3, 1279, 457, 4, 1721, 207, 3, 10624, 7373, 300, 6, 667, 83, 35, 2116, 1086, 2989, 34, 1, 898, 46417, 4, 8, 13, 5096, 464, 8, 2656, 1721, 1, 221, 57, 17, 58, 794, 1297, 832, 228, 8, 43, 98, 123, 1469, 59, 147, 38, 1, 963, 142, 29, 667, 123, 1, 13584, 410, 61, 94, 1774, 306, 755, 5, 3, 819, 10396, 22, 3, 1724, 635, 8, 13, 128, 73, 21, 233, 102, 17, 49, 50, 617, 34, 682, 85, 28785, 28786, 682, 374, 3341, 11398, 2, 16371, 7946, 51, 29, 108, 3324]]\n"
     ]
    }
   ],
   "source": [
    "# encodage des mots\n",
    "reviews_num = [list(map(lambda w: word_mapping[w], rvw.split())) for rvw in reviews]\n",
    "print(reviews_num[:2])"
   ]
  },
  {
   "cell_type": "code",
   "execution_count": 12,
   "metadata": {},
   "outputs": [],
   "source": [
    "# encodage des labels\n",
    "labels_num = [1*(label == 'positive') for label in labels]"
   ]
  },
  {
   "cell_type": "markdown",
   "metadata": {},
   "source": [
    "## **3. Longueur des séquences**\n",
    "\n",
    "Il s'agit ici d'analyser la longueur des reviews pour déterminer éventuellement des outliers et choisir ce qu'on en fait. On va aussi \"uniformiser\" la longueur des séquence.\n",
    "\n",
    "1. Avec la méthode de votre choix (graphique, stats desc...), étudier la longueur des reviews\n",
    "2. Déterminer s'il y a des outliers et ce que vous souhaitez en faire (si vous les décidez de les supprimer, attention de bien supprimer aussi les labels correspondants...)\n",
    "3. Ça a été évoqué un peu plus haut, on veut que nos reviews aient toutes la même taille pour faciliter l'entraînement du réseau. Par conséquent on va ajouter des 0 aux reviews les plus courtes et tronquer les reviews les plus longues (*padding/truncating*, si vous vous souvenez bien on a vu il y a peu le *zero-padding* dans un certain cas...bon ben c'est pareil).  \n",
    ">- définir une fonction `trunc_pad(review_list, length)` :\n",
    ">>- qui prend en paramètres la liste des reviews (chaque review étant encodée en une liste d'entiers) et une longueur donnée\n",
    ">>- et qui retourne un array 2D avec (en ligne) les reviews trop longues tronquées et des 0 à gauche pour les reviews trop courtes. Avant de vous lancer et pour vous assurer d'avoir compris, quelles dimensions doit avoir votre array en sortie ?\n",
    ">>- tester votre fonction avec une longueur fixée à 250 et afficher les 5 premières valeurs des 5 premières reviews. Vous devez obtenir ça:  \n",
    "\\[[    0     0     0     0     0]  \n",
    "[    0     0     0     0     0]  \n",
    "[22382    42 46418    15   706]  \n",
    "[ 4505   505    15     3  3342]  \n",
    "[    0     0     0     0     0]\\]\n",
    ">- maintenant, que c'est fait, je peux vous le dire, il y a une fonction dans `keras.preprocessing` qui permet de le faire. La trouver et comparer les temps d'éxecution des 2 fonctions."
   ]
  },
  {
   "cell_type": "code",
   "execution_count": 13,
   "metadata": {},
   "outputs": [
    {
     "data": {
      "text/plain": [
       "count    25001.000000\n",
       "mean       240.798208\n",
       "std        179.020628\n",
       "min          0.000000\n",
       "25%        130.000000\n",
       "50%        179.000000\n",
       "75%        293.000000\n",
       "max       2514.000000\n",
       "dtype: float64"
      ]
     },
     "execution_count": 13,
     "metadata": {},
     "output_type": "execute_result"
    },
    {
     "data": {
      "image/png": "[encoded data removed]",
      "text/plain": [
       "<Figure size 432x288 with 1 Axes>"
      ]
     },
     "metadata": {
      "needs_background": "light"
     },
     "output_type": "display_data"
    }
   ],
   "source": [
    "# la longueur des reviews\n",
    "reviews_len = list(map(len, reviews_num))\n",
    "pd.Series(reviews_len).hist();\n",
    "pd.Series(reviews_len).describe()"
   ]
  },
  {
   "cell_type": "code",
   "execution_count": 14,
   "metadata": {},
   "outputs": [
    {
     "data": {
      "text/plain": [
       "1"
      ]
     },
     "execution_count": 14,
     "metadata": {},
     "output_type": "execute_result"
    }
   ],
   "source": [
    "# nombre de review de taille 0 : une seule\n",
    "Counter(reviews_len)[0]"
   ]
  },
  {
   "cell_type": "code",
   "execution_count": 15,
   "metadata": {},
   "outputs": [],
   "source": [
    "# suppression de la review de taille 0\n",
    "idx0 = np.where(np.array(reviews_len)==0)[0][0]\n",
    "del reviews_num[idx0]\n",
    "del labels_num[idx0]\n",
    "\n",
    "# autre méthode un peu plus lente\n",
    "#reviews_num = [reviews_num[i] for i,l in enumerate(reviews_len) if l>0]\n",
    "#labels_num = [labels_num[i] for i,l in enumerate(reviews_len) if l> 0]"
   ]
  },
  {
   "cell_type": "code",
   "execution_count": 16,
   "metadata": {},
   "outputs": [],
   "source": [
    "# la fonction padding/truncating avec en sortie un array de taille (nombre_de_reviews, taille_fixée_des_séquences)\n",
    "seq_len = 500 # la variable seq_len contient pour la suite la longueur fixée des séquences\n",
    "def trunc_pad(review_list=reviews_num, length=seq_len):\n",
    "    output = np.zeros((len(review_list), length), dtype = int)\n",
    "    \n",
    "    for i,rvw in enumerate(review_list):\n",
    "        rvw_len = len(rvw)\n",
    "        output[i,-rvw_len:] = np.array(rvw)[:length]\n",
    "    \n",
    "    return output"
   ]
  },
  {
   "cell_type": "code",
   "execution_count": 17,
   "metadata": {},
   "outputs": [
    {
     "name": "stdout",
     "output_type": "stream",
     "text": [
      "[[    0     0     0     0     0]\n",
      " [    0     0     0     0     0]\n",
      " [22382    42 46418    15   706]\n",
      " [ 4505   505    15     3  3342]\n",
      " [    0     0     0     0     0]]\n"
     ]
    }
   ],
   "source": [
    "# test et affichage\n",
    "print(trunc_pad(length=250)[:5,:5])"
   ]
  },
  {
   "cell_type": "code",
   "execution_count": 18,
   "metadata": {},
   "outputs": [
    {
     "name": "stdout",
     "output_type": "stream",
     "text": [
      "CPU times: user 469 ms, sys: 29.8 ms, total: 498 ms\n",
      "Wall time: 465 ms\n"
     ]
    }
   ],
   "source": [
    "%%time\n",
    "X = pad_sequences(reviews_num, maxlen=seq_len)"
   ]
  },
  {
   "cell_type": "code",
   "execution_count": 19,
   "metadata": {},
   "outputs": [
    {
     "name": "stdout",
     "output_type": "stream",
     "text": [
      "CPU times: user 410 ms, sys: 51.4 ms, total: 462 ms\n",
      "Wall time: 460 ms\n"
     ]
    }
   ],
   "source": [
    "%%time\n",
    "X = trunc_pad(review_list=reviews_num, length=seq_len)"
   ]
  },
  {
   "cell_type": "markdown",
   "metadata": {},
   "source": [
    "## **4. Échantillons d'entraînement, de validation et de test**\n",
    "\n",
    "Découper les données en train, validation et test sets de la manière qui vous plaira. Tant que c'est juste et cohérent bien sûr.  \n",
    "Il faut qu'il y ait 20000 observations dans le train, 2500 dans le validation et 2500 dans le test. "
   ]
  },
  {
   "cell_type": "code",
   "execution_count": 20,
   "metadata": {},
   "outputs": [
    {
     "data": {
      "text/plain": [
       "((25000, 500), (25000,))"
      ]
     },
     "execution_count": 20,
     "metadata": {},
     "output_type": "execute_result"
    }
   ],
   "source": [
    "y = np.array(labels_num)\n",
    "X.shape, y.shape"
   ]
  },
  {
   "cell_type": "code",
   "execution_count": 21,
   "metadata": {},
   "outputs": [
    {
     "name": "stdout",
     "output_type": "stream",
     "text": [
      "CPU times: user 35.7 ms, sys: 15.9 ms, total: 51.6 ms\n",
      "Wall time: 51.4 ms\n"
     ]
    }
   ],
   "source": [
    "%%time\n",
    "# méthode sklearn\n",
    "X2, X_test, y2, y_test = train_test_split(X, y, test_size = 2500)\n",
    "X_train, X_val, y_train, y_val = train_test_split(X2, y2, test_size = 2500)"
   ]
  },
  {
   "cell_type": "code",
   "execution_count": 22,
   "metadata": {},
   "outputs": [
    {
     "name": "stdout",
     "output_type": "stream",
     "text": [
      "CPU times: user 15.8 ms, sys: 15.9 ms, total: 31.7 ms\n",
      "Wall time: 30.2 ms\n"
     ]
    }
   ],
   "source": [
    "%%time\n",
    "# méthode \"à la main\" : on a 25000 observations, on en met 20000 dans le train, 2500 dans le validation et 2500 dans le test\n",
    "# sans oublier d'introduire de l'aléatoire : pour ça on va shuffle les vecteurs X et y mais attention il faut les mélanger de la même manière...\n",
    "idx_shuffled = np.arange(25000)\n",
    "np.random.shuffle(idx_shuffled)\n",
    "X_shuffled = X[idx_shuffled]\n",
    "y_shuffled = y[idx_shuffled]\n",
    "\n",
    "train_size = 20000\n",
    "X_train, X2 = X_shuffled[:train_size], X_shuffled[train_size:]\n",
    "y_train, y2 = y_shuffled[:train_size], y_shuffled[train_size:]\n",
    "\n",
    "test_size = 2500\n",
    "X_val, X_test = X2[:test_size], X2[test_size:]\n",
    "y_val, y_test = y2[:test_size], y2[test_size:]"
   ]
  },
  {
   "cell_type": "code",
   "execution_count": 23,
   "metadata": {},
   "outputs": [
    {
     "name": "stdout",
     "output_type": "stream",
     "text": [
      "(20000, 500) (2500, 500) (2500, 500)\n",
      "(20000,) (2500,) (2500,)\n"
     ]
    }
   ],
   "source": [
    "# on check les shapes\n",
    "print(X_train.shape, X_val.shape, X_test.shape)\n",
    "print(y_train.shape, y_val.shape, y_test.shape)"
   ]
  },
  {
   "cell_type": "markdown",
   "metadata": {},
   "source": [
    "## **5. Petite paranthèse sur le _word embedding_**\n",
    "\n",
    "Le [*word embedding*](https://fr.wikipedia.org/wiki/Word_embedding) consiste à transformer des mots sous forme de vecteurs de nombres. Bon ça on peut le faire relativement facilement, vous venez d'ailleurs de le faire avec la représentation du lexique des reviews en nombres entiers. Pour passer à un vecteur il suffirait juste de faire un one-hot-encoding.\n",
    "\n",
    "Il y a plusieurs problèmes à cette solution (même si on l'utilise parfois dans du NLP simple) :\n",
    "- la dimension de l'espace engendré\n",
    "- l'absence totale de notion de similarité (avec la représentation one-hot, 2 mots qui n'ont rien à voir sont aussi différents que 2 mots tout à fait synonyme)\n",
    "- le fait que les vecteurs contiennent quasiment que des 0 (sparse matrix)\n",
    "\n",
    "Donc le *word embedding* s'attaque à ce problème avec pour objectifs de :\n",
    "1. représenter les mots sous forme de vecteurs de nombres réels (et non entiers, on passe donc à un espace continu et plus discret)\n",
    "2. conserver la notion de similarité c'est-à-dire que 2 vecteurs qui sont proches doivent représenter des mots \"sémantiquement proches\"\n",
    "3. de les représenter dans un espace de plus petite dimension (en fonction de votre vocabulaire, soit le nombre de mots dans votre problème, ça peut aller très vite, généralement plusieurs milliers ou 10aines de milliers)\n",
    "\n",
    "Le principe est de s'intéresser au contexte des mots, c'est-à-dire, quels mots sont associés ensemble en s'appuyant sur la co-occurrence.\n",
    "Différents modèles de word embedding existent : [word2vec](https://fr.wikipedia.org/wiki/Word2vec), \n",
    "\n",
    "En pratique avec `keras`, que se passe-t-il lorsqu'on ajout une couche [*embedding*](https://keras.io/api/layers/core_layers/embedding/) ? Un exemple juste en dessous.\n",
    "\n",
    "Un peu de visionnage pour y voir plus clair si ça vous intéresse :\n",
    "- https://www.youtube.com/watch?v=Eku_pbZ3-Mw\n",
    "- https://www.youtube.com/watch?v=oUpuABKoElw\n",
    "- https://www.youtube.com/watch?v=5PL0TmQhItY\n",
    "\n",
    "Et un peu de lecture :\n",
    "- https://www.analyticsvidhya.com/blog/2017/06/word-embeddings-count-word2veec/\n",
    "- https://towardsdatascience.com/why-do-we-use-embeddings-in-nlp-2f20e1b632d2\n",
    "- https://towardsdatascience.com/word-embeddings-for-nlp-5b72991e01d4\n",
    "- https://proceedings.neurips.cc/paper/2013/file/9aa42b31882ec039965f3c4923ce901b-Paper.pdf\n",
    "- https://medium.com/rasa-blog/supervised-word-vectors-from-scratch-in-rasa-nlu-6daf794efcd8\n",
    "- https://web.stanford.edu/~jurafsky/slp3/6.pdf"
   ]
  },
  {
   "cell_type": "code",
   "execution_count": 24,
   "metadata": {},
   "outputs": [],
   "source": [
    "# on prend quelques phrases\n",
    "t1 = \"i hope to see you again\"\n",
    "t2 = \"you wish to see me soon\"\n",
    "t3 = \"i wish we will meet again\""
   ]
  },
  {
   "cell_type": "code",
   "execution_count": 25,
   "metadata": {},
   "outputs": [
    {
     "data": {
      "text/plain": [
       "({'i': 0,\n",
       "  'to': 1,\n",
       "  'see': 2,\n",
       "  'you': 3,\n",
       "  'again': 4,\n",
       "  'wish': 5,\n",
       "  'hope': 6,\n",
       "  'me': 7,\n",
       "  'soon': 8,\n",
       "  'we': 9,\n",
       "  'will': 10,\n",
       "  'meet': 11},\n",
       " 12)"
      ]
     },
     "execution_count": 25,
     "metadata": {},
     "output_type": "execute_result"
    }
   ],
   "source": [
    "# si on reprend en gros nos étapes de preprocessing\n",
    "cnts = Counter(t1.split() + t2.split() + t3.split())\n",
    "dico = {w:i for i,w in enumerate(sorted(cnts, key=cnts.get, reverse=True))}\n",
    "dico, len(dico)"
   ]
  },
  {
   "cell_type": "code",
   "execution_count": 26,
   "metadata": {},
   "outputs": [
    {
     "data": {
      "text/plain": [
       "([0, 6, 1, 2, 3, 4], [3, 5, 1, 2, 7, 8], [0, 5, 9, 10, 11, 4])"
      ]
     },
     "execution_count": 26,
     "metadata": {},
     "output_type": "execute_result"
    }
   ],
   "source": [
    "# et donc on peut les représenter comme ça\n",
    "t1_int = [dico[w] for w in t1.split()]\n",
    "t2_int = [dico[w] for w in t2.split()]\n",
    "t3_int = [dico[w] for w in t3.split()]\n",
    "t1_int, t2_int, t3_int"
   ]
  },
  {
   "cell_type": "code",
   "execution_count": 27,
   "metadata": {},
   "outputs": [
    {
     "data": {
      "text/plain": [
       "(array([[[-0.02313391, -0.00737948],\n",
       "         [ 0.01848278, -0.01095483],\n",
       "         [ 0.0044451 ,  0.00905938],\n",
       "         [ 0.03042718, -0.01061307],\n",
       "         [ 0.0430409 , -0.00418841],\n",
       "         [-0.01192189,  0.02178173]]], dtype=float32),\n",
       " array([[[ 0.0430409 , -0.00418841],\n",
       "         [-0.01960553,  0.03789306],\n",
       "         [ 0.0044451 ,  0.00905938],\n",
       "         [ 0.03042718, -0.01061307],\n",
       "         [ 0.03431991,  0.02336348],\n",
       "         [-0.03446075,  0.03879006]]], dtype=float32),\n",
       " array([[[-0.02313391, -0.00737948],\n",
       "         [-0.01960553,  0.03789306],\n",
       "         [-0.02391529,  0.00860884],\n",
       "         [ 0.02560779,  0.00216025],\n",
       "         [ 0.02318671, -0.02602875],\n",
       "         [-0.01192189,  0.02178173]]], dtype=float32))"
      ]
     },
     "execution_count": 27,
     "metadata": {},
     "output_type": "execute_result"
    }
   ],
   "source": [
    "# on crée un modèle avec une couche embedding\n",
    "# input_dim : taille du vocabulaire = nombre de mots dans le lexique, ici c'est 9\n",
    "# output_dim : taille des vecteurs utilisée pour représenter les mots, ici 2 car on a que 9 mots mais on choisit souvent 32/64 selon la taille du vocabulaire\n",
    "# input_length : taille des séquences d'input, ici c'est 6\n",
    "model_emb = Sequential()\n",
    "model_emb.add(Embedding(input_dim=12, output_dim=2, input_length=6))\n",
    "\n",
    "model_emb.compile('rmsprop', 'mse')\n",
    "out1 = model_emb.predict([t1_int]) # les crochets pour ajouter une dimension car le modèle est entraîné sur des inputs à 2 dimensions\n",
    "out2 = model_emb.predict([t2_int])\n",
    "out3 = model_emb.predict([t3_int])\n",
    "out1, out2, out3"
   ]
  },
  {
   "cell_type": "markdown",
   "metadata": {},
   "source": [
    "## **6. Création, entraînement et évaluation du modèle**\n",
    "\n",
    "Créer un premier modèle, que vous serez tout à fait libre et même cordialement conviés à améliorer par la suite, avec :\n",
    "- une couche Embedding\n",
    "- une couche LSTM"
   ]
  },
  {
   "cell_type": "code",
   "execution_count": 28,
   "metadata": {},
   "outputs": [
    {
     "name": "stdout",
     "output_type": "stream",
     "text": [
      "Model: \"sequential_1\"\n",
      "_________________________________________________________________\n",
      "Layer (type)                 Output Shape              Param #   \n",
      "=================================================================\n",
      "embedding_1 (Embedding)      (None, 500, 64)           4740672   \n",
      "_________________________________________________________________\n",
      "lstm (LSTM)                  (None, 100)               66000     \n",
      "_________________________________________________________________\n",
      "dense (Dense)                (None, 1)                 101       \n",
      "=================================================================\n",
      "Total params: 4,806,773\n",
      "Trainable params: 4,806,773\n",
      "Non-trainable params: 0\n",
      "_________________________________________________________________\n"
     ]
    }
   ],
   "source": [
    "model=Sequential()\n",
    "\n",
    "model.add(Embedding(input_dim=len(word_mapping)+1, output_dim=64, input_length=seq_len))\n",
    "model.add(LSTM(units=100))\n",
    "model.add(Dense(1, activation='sigmoid'))\n",
    "\n",
    "model.summary()"
   ]
  },
  {
   "cell_type": "code",
   "execution_count": 29,
   "metadata": {},
   "outputs": [],
   "source": [
    "model.compile(loss='binary_crossentropy', optimizer='adam', metrics=['accuracy'])"
   ]
  },
  {
   "cell_type": "code",
   "execution_count": 30,
   "metadata": {},
   "outputs": [
    {
     "name": "stdout",
     "output_type": "stream",
     "text": [
      "Epoch 1/3\n",
      "625/625 [==============================] - 668s 1s/step - loss: 0.4631 - accuracy: 0.7829 - val_loss: 0.3629 - val_accuracy: 0.8464\n",
      "Epoch 2/3\n",
      "625/625 [==============================] - 615s 985ms/step - loss: 0.2630 - accuracy: 0.8992 - val_loss: 0.3006 - val_accuracy: 0.8768\n",
      "Epoch 3/3\n",
      "625/625 [==============================] - 632s 1s/step - loss: 0.1466 - accuracy: 0.9488 - val_loss: 0.3395 - val_accuracy: 0.8720\n"
     ]
    },
    {
     "data": {
      "text/plain": [
       "<tensorflow.python.keras.callbacks.History at 0x7f7dfe5d54f0>"
      ]
     },
     "execution_count": 30,
     "metadata": {},
     "output_type": "execute_result"
    }
   ],
   "source": [
    "model.fit(X_train, y_train, validation_data=(X_val, y_val), batch_size=32, epochs=3)"
   ]
  },
  {
   "cell_type": "code",
   "execution_count": 31,
   "metadata": {},
   "outputs": [
    {
     "name": "stdout",
     "output_type": "stream",
     "text": [
      "Accuracy: 0.8668000102043152\n"
     ]
    }
   ],
   "source": [
    "scores = model.evaluate(X_test, y_test, verbose=0)\n",
    "print('Accuracy:', scores[1])"
   ]
  },
  {
   "cell_type": "code",
   "execution_count": null,
   "metadata": {},
   "outputs": [],
   "source": []
  }
 ],
 "metadata": {
  "kernelspec": {
   "display_name": "Python 3",
   "language": "python",
   "name": "python3"
  },
  "language_info": {
   "codemirror_mode": {
    "name": "ipython",
    "version": 3
   },
   "file_extension": ".py",
   "mimetype": "text/x-python",
   "name": "python",
   "nbconvert_exporter": "python",
   "pygments_lexer": "ipython3",
   "version": "3.8.5"
  }
 },
 "nbformat": 4,
 "nbformat_minor": 4
}

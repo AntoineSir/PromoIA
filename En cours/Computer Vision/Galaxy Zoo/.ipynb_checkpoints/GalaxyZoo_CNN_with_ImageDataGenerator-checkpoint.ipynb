{
 "cells": [
  {
   "cell_type": "markdown",
   "metadata": {},
   "source": [
    "# Chargement des id et des probas"
   ]
  },
  {
   "cell_type": "code",
   "execution_count": 1,
   "metadata": {},
   "outputs": [
    {
     "data": {
      "text/html": [
       "<div>\n",
       "<style scoped>\n",
       "    .dataframe tbody tr th:only-of-type {\n",
       "        vertical-align: middle;\n",
       "    }\n",
       "\n",
       "    .dataframe tbody tr th {\n",
       "        vertical-align: top;\n",
       "    }\n",
       "\n",
       "    .dataframe thead th {\n",
       "        text-align: right;\n",
       "    }\n",
       "</style>\n",
       "<table border=\"1\" class=\"dataframe\">\n",
       "  <thead>\n",
       "    <tr style=\"text-align: right;\">\n",
       "      <th></th>\n",
       "      <th>GalaxyID</th>\n",
       "      <th>Class1.1</th>\n",
       "      <th>Class1.2</th>\n",
       "      <th>Class1.3</th>\n",
       "    </tr>\n",
       "  </thead>\n",
       "  <tbody>\n",
       "    <tr>\n",
       "      <th>0</th>\n",
       "      <td>100008</td>\n",
       "      <td>0.383147</td>\n",
       "      <td>0.616853</td>\n",
       "      <td>0.000000</td>\n",
       "    </tr>\n",
       "    <tr>\n",
       "      <th>1</th>\n",
       "      <td>100023</td>\n",
       "      <td>0.327001</td>\n",
       "      <td>0.663777</td>\n",
       "      <td>0.009222</td>\n",
       "    </tr>\n",
       "    <tr>\n",
       "      <th>2</th>\n",
       "      <td>100053</td>\n",
       "      <td>0.765717</td>\n",
       "      <td>0.177352</td>\n",
       "      <td>0.056931</td>\n",
       "    </tr>\n",
       "    <tr>\n",
       "      <th>3</th>\n",
       "      <td>100078</td>\n",
       "      <td>0.693377</td>\n",
       "      <td>0.238564</td>\n",
       "      <td>0.068059</td>\n",
       "    </tr>\n",
       "    <tr>\n",
       "      <th>4</th>\n",
       "      <td>100090</td>\n",
       "      <td>0.933839</td>\n",
       "      <td>0.000000</td>\n",
       "      <td>0.066161</td>\n",
       "    </tr>\n",
       "    <tr>\n",
       "      <th>...</th>\n",
       "      <td>...</td>\n",
       "      <td>...</td>\n",
       "      <td>...</td>\n",
       "      <td>...</td>\n",
       "    </tr>\n",
       "    <tr>\n",
       "      <th>61573</th>\n",
       "      <td>999948</td>\n",
       "      <td>0.510379</td>\n",
       "      <td>0.489621</td>\n",
       "      <td>0.000000</td>\n",
       "    </tr>\n",
       "    <tr>\n",
       "      <th>61574</th>\n",
       "      <td>999950</td>\n",
       "      <td>0.901216</td>\n",
       "      <td>0.098784</td>\n",
       "      <td>0.000000</td>\n",
       "    </tr>\n",
       "    <tr>\n",
       "      <th>61575</th>\n",
       "      <td>999958</td>\n",
       "      <td>0.202841</td>\n",
       "      <td>0.777376</td>\n",
       "      <td>0.019783</td>\n",
       "    </tr>\n",
       "    <tr>\n",
       "      <th>61576</th>\n",
       "      <td>999964</td>\n",
       "      <td>0.091000</td>\n",
       "      <td>0.909000</td>\n",
       "      <td>0.000000</td>\n",
       "    </tr>\n",
       "    <tr>\n",
       "      <th>61577</th>\n",
       "      <td>999967</td>\n",
       "      <td>0.767000</td>\n",
       "      <td>0.140000</td>\n",
       "      <td>0.093000</td>\n",
       "    </tr>\n",
       "  </tbody>\n",
       "</table>\n",
       "<p>61578 rows × 4 columns</p>\n",
       "</div>"
      ],
      "text/plain": [
       "       GalaxyID  Class1.1  Class1.2  Class1.3\n",
       "0        100008  0.383147  0.616853  0.000000\n",
       "1        100023  0.327001  0.663777  0.009222\n",
       "2        100053  0.765717  0.177352  0.056931\n",
       "3        100078  0.693377  0.238564  0.068059\n",
       "4        100090  0.933839  0.000000  0.066161\n",
       "...         ...       ...       ...       ...\n",
       "61573    999948  0.510379  0.489621  0.000000\n",
       "61574    999950  0.901216  0.098784  0.000000\n",
       "61575    999958  0.202841  0.777376  0.019783\n",
       "61576    999964  0.091000  0.909000  0.000000\n",
       "61577    999967  0.767000  0.140000  0.093000\n",
       "\n",
       "[61578 rows x 4 columns]"
      ]
     },
     "execution_count": 1,
     "metadata": {},
     "output_type": "execute_result"
    }
   ],
   "source": [
    "import pandas as pd\n",
    "df = pd.read_csv(\"data/training_solutions_rev1.csv\", usecols=[0,1,2,3])\n",
    "df"
   ]
  },
  {
   "cell_type": "markdown",
   "metadata": {},
   "source": [
    "# Suppression de la classe 3 qui n'a que 73 images..."
   ]
  },
  {
   "cell_type": "code",
   "execution_count": 2,
   "metadata": {},
   "outputs": [
    {
     "data": {
      "text/plain": [
       "(61519, 3)"
      ]
     },
     "execution_count": 2,
     "metadata": {},
     "output_type": "execute_result"
    }
   ],
   "source": [
    "df = df.drop(df[(df['Class1.3'] > df['Class1.2']) & (df['Class1.3'] > df['Class1.1'])].index)\n",
    "df = df.drop(['Class1.3'], axis=1)\n",
    "df.shape"
   ]
  },
  {
   "cell_type": "markdown",
   "metadata": {},
   "source": [
    "# Échantillons test et d'entraînement"
   ]
  },
  {
   "cell_type": "code",
   "execution_count": 3,
   "metadata": {},
   "outputs": [
    {
     "data": {
      "text/plain": [
       "((39987, 3), (21532, 3))"
      ]
     },
     "execution_count": 3,
     "metadata": {},
     "output_type": "execute_result"
    }
   ],
   "source": [
    "from sklearn.model_selection import train_test_split\n",
    "df_train, df_test = train_test_split(df, test_size=.35)\n",
    "df_train.shape, df_test.shape"
   ]
  },
  {
   "cell_type": "markdown",
   "metadata": {},
   "source": [
    "# Création d'un second dossier data en modifiant l'arborescence pour pouvoir utiliser ImageDataGenerator"
   ]
  },
  {
   "cell_type": "code",
   "execution_count": 5,
   "metadata": {},
   "outputs": [
    {
     "data": {
      "text/plain": [
       "51856    data2/training_set/class2/855595.jpg\n",
       "27222    data2/training_set/class2/498801.jpg\n",
       "6729     data2/training_set/class2/199427.jpg\n",
       "53879    data2/training_set/class2/885753.jpg\n",
       "352      data2/training_set/class2/105117.jpg\n",
       "                         ...                 \n",
       "11935    data2/training_set/class2/276836.jpg\n",
       "12957    data2/training_set/class2/291905.jpg\n",
       "53064    data2/training_set/class2/873872.jpg\n",
       "60239    data2/training_set/class2/980469.jpg\n",
       "21664    data2/training_set/class2/416436.jpg\n",
       "Name: GalaxyID, Length: 22532, dtype: object"
      ]
     },
     "execution_count": 5,
     "metadata": {},
     "output_type": "execute_result"
    }
   ],
   "source": [
    "import os\n",
    "import shutil\n",
    "\n",
    "# Si existant on supprime le dossier\n",
    "if os.path.exists('data2'):\n",
    "    shutil.rmtree('data2')\n",
    "\n",
    "# Création des dossiers avec l'arborescence souhaitée\n",
    "os.mkdir('data2')\n",
    "\n",
    "os.mkdir('data2/training_set')\n",
    "os.mkdir('data2/training_set/class1')\n",
    "os.mkdir('data2/training_set/class2')\n",
    "\n",
    "os.mkdir('data2/test_set')\n",
    "os.mkdir('data2/test_set/class1')\n",
    "os.mkdir('data2/test_set/class2')\n",
    "\n",
    "# copie des images du test set   \n",
    "df_test.GalaxyID[(df['Class1.1'] > df['Class1.2'])].apply(lambda x: shutil.copy(f'data/images_training_rev1/{x}.jpg',\n",
    "                                                                                f'data2/test_set/class1/{x}.jpg'))\n",
    "df_test.GalaxyID[(df['Class1.2'] > df['Class1.1'])].apply(lambda x: shutil.copy(f'data/images_training_rev1/{x}.jpg',\n",
    "                                                                                f'data2/test_set/class2/{x}.jpg'))\n",
    "\n",
    "# copie des images du training set\n",
    "df_train.GalaxyID[(df['Class1.1'] > df['Class1.2'])].apply(lambda x: shutil.copy(f'data/images_training_rev1/{x}.jpg',\n",
    "                                                                                 f'data2/training_set/class1/{x}.jpg'))\n",
    "df_train.GalaxyID[(df['Class1.2'] > df['Class1.1'])].apply(lambda x: shutil.copy(f'data/images_training_rev1/{x}.jpg',\n",
    "                                                                                 f'data2/training_set/class2/{x}.jpg'))"
   ]
  },
  {
   "cell_type": "markdown",
   "metadata": {},
   "source": [
    "# CNN par Transfer Learning"
   ]
  },
  {
   "cell_type": "code",
   "execution_count": 6,
   "metadata": {},
   "outputs": [
    {
     "name": "stdout",
     "output_type": "stream",
     "text": [
      "Found 39978 images belonging to 2 classes.\n",
      "Found 21528 images belonging to 2 classes.\n",
      "Epoch 1/8\n",
      "625/625 [==============================] - 1121s 2s/step - loss: 0.5218 - accuracy: 0.7470 - val_loss: 0.4779 - val_accuracy: 0.7803\n",
      "Epoch 2/8\n",
      "625/625 [==============================] - 1075s 2s/step - loss: 0.4848 - accuracy: 0.7738 - val_loss: 0.4610 - val_accuracy: 0.7924\n",
      "Epoch 3/8\n",
      "625/625 [==============================] - 1071s 2s/step - loss: 0.4741 - accuracy: 0.7792 - val_loss: 0.6376 - val_accuracy: 0.6934\n",
      "Epoch 4/8\n",
      "625/625 [==============================] - 1065s 2s/step - loss: 0.4699 - accuracy: 0.7805 - val_loss: 0.4861 - val_accuracy: 0.7757\n",
      "Epoch 5/8\n",
      "625/625 [==============================] - 1127s 2s/step - loss: 0.4633 - accuracy: 0.7841 - val_loss: 0.4484 - val_accuracy: 0.7974\n",
      "Epoch 6/8\n",
      "625/625 [==============================] - 1556s 2s/step - loss: 0.4585 - accuracy: 0.7879 - val_loss: 0.4566 - val_accuracy: 0.7919\n",
      "Epoch 7/8\n",
      "625/625 [==============================] - 1247s 2s/step - loss: 0.4576 - accuracy: 0.7889 - val_loss: 0.4553 - val_accuracy: 0.7922\n",
      "Epoch 8/8\n",
      "625/625 [==============================] - 1143s 2s/step - loss: 0.4494 - accuracy: 0.7921 - val_loss: 0.4618 - val_accuracy: 0.7880\n"
     ]
    },
    {
     "data": {
      "text/plain": [
       "<tensorflow.python.keras.callbacks.History at 0x7f76b0035700>"
      ]
     },
     "execution_count": 6,
     "metadata": {},
     "output_type": "execute_result"
    }
   ],
   "source": [
    "from keras.applications.vgg16 import VGG16\n",
    "from keras.layers import Dense, Flatten\n",
    "from keras.models import Model\n",
    "from keras.preprocessing.image import ImageDataGenerator\n",
    "\n",
    "classifier_vgg16 = VGG16(weights='imagenet', include_top=False, input_shape=(64, 64, 3))\n",
    "\n",
    "for layer in classifier_vgg16.layers:\n",
    "    layer.trainable = False\n",
    "\n",
    "flat = Flatten()(classifier_vgg16.output)\n",
    "classif = Dense(128, activation='relu', kernel_initializer='he_uniform')(flat)\n",
    "output = Dense(1, activation='sigmoid')(classif)\n",
    "\n",
    "classifier_vgg16 = Model(inputs=classifier_vgg16.inputs, outputs=output)\n",
    "\n",
    "classifier_vgg16.compile(optimizer='adam', loss='binary_crossentropy', metrics=['accuracy'])\n",
    "\n",
    "# Entraînement\n",
    "train_datagen = ImageDataGenerator(rescale = 1./255,\n",
    "                                   shear_range = 0.2,\n",
    "                                   zoom_range = 0.2,\n",
    "                                   horizontal_flip = True)\n",
    "\n",
    "test_datagen = ImageDataGenerator(rescale = 1./255)\n",
    "\n",
    "training_set = train_datagen.flow_from_directory('data2/training_set',\n",
    "                                                 target_size = (64, 64),\n",
    "                                                 color_mode = 'rgb',\n",
    "                                                 batch_size = 64,\n",
    "                                                 class_mode = 'binary')\n",
    "\n",
    "test_set = test_datagen.flow_from_directory('data2/test_set',\n",
    "                                            target_size = (64, 64),\n",
    "                                            color_mode = 'rgb',\n",
    "                                            batch_size = 64,\n",
    "                                            class_mode = 'binary')\n",
    "\n",
    "classifier_vgg16.fit(training_set,\n",
    "                     steps_per_epoch = 625, #39987/64\n",
    "                     epochs = 8,\n",
    "                     validation_data = test_set,\n",
    "                     validation_steps = 337) #21532/64"
   ]
  },
  {
   "cell_type": "code",
   "execution_count": null,
   "metadata": {},
   "outputs": [],
   "source": []
  }
 ],
 "metadata": {
  "kernelspec": {
   "display_name": "Python 3",
   "language": "python",
   "name": "python3"
  },
  "language_info": {
   "codemirror_mode": {
    "name": "ipython",
    "version": 3
   },
   "file_extension": ".py",
   "mimetype": "text/x-python",
   "name": "python",
   "nbconvert_exporter": "python",
   "pygments_lexer": "ipython3",
   "version": "3.8.5"
  },
  "toc": {
   "base_numbering": 1,
   "nav_menu": {},
   "number_sections": true,
   "sideBar": true,
   "skip_h1_title": false,
   "title_cell": "Table of Contents",
   "title_sidebar": "Contents",
   "toc_cell": false,
   "toc_position": {},
   "toc_section_display": true,
   "toc_window_display": false
  }
 },
 "nbformat": 4,
 "nbformat_minor": 4
}

{
 "cells": [
  {
   "cell_type": "markdown",
   "metadata": {},
   "source": [
    "## Les pipelines\n",
    "Laurent Cetinsoy\n",
    "\n",
    "A quoi ça sert ? Bah je sais pas, c'est le but de ce notebook. \n",
    "\n",
    "\n",
    "Une pipeline est une chaîne de traitement, découpées en petites étapes (\"steps\") intermédiares. Une fois une pipeline définie il est possible de les publier et de les lancer de manière régulière comme avec Airflow ou un cron ou à chaque fois qu'un événement donné se produit. \n",
    "\n",
    "Tout ce les trucs liés aux pipelines sont dans le module azureml.pipeline. \n",
    "\n",
    "Reférences utiles :\n",
    "- https://docs.microsoft.com/en-us/python/api/azureml-pipeline-core/azureml.pipeline.core?view=azure-ml-py\n",
    "\n"
   ]
  },
  {
   "cell_type": "markdown",
   "metadata": {},
   "source": [
    "Un objet de type Pipeline représente une pipeline (sans dec) et est constitué de plusieurs PipelineStep.\n",
    "Quelles sont les principaux types de Pipeline ? "
   ]
  },
  {
   "cell_type": "markdown",
   "metadata": {},
   "source": [
    "https://docs.microsoft.com/fr-fr/azure/machine-learning/concept-ml-pipelines"
   ]
  },
  {
   "cell_type": "markdown",
   "metadata": {},
   "source": [
    "Quelles sont les principales méthodes de la classe Pipeline ? "
   ]
  },
  {
   "cell_type": "code",
   "execution_count": null,
   "metadata": {},
   "outputs": [],
   "source": []
  },
  {
   "cell_type": "markdown",
   "metadata": {},
   "source": [
    "Quels sont les arguments du constructeur de la classe Pipeline (cf : https://docs.microsoft.com/fr-fr/python/api/azureml-pipeline-core/azureml.pipeline.core.pipeline(class)?view=azure-ml-py)"
   ]
  },
  {
   "cell_type": "code",
   "execution_count": null,
   "metadata": {},
   "outputs": [],
   "source": []
  },
  {
   "cell_type": "markdown",
   "metadata": {},
   "source": [
    "Quelles sont les principales classes filles de la classe PipelineStep ?\n",
    "\n",
    "cf : https://docs.microsoft.com/en-us/python/api/azureml-pipeline-core/azureml.pipeline.core.pipelinestep?view=azure-ml-py"
   ]
  },
  {
   "cell_type": "markdown",
   "metadata": {},
   "source": []
  },
  {
   "cell_type": "markdown",
   "metadata": {},
   "source": [
    "Quelles sont les principales méthodes de la classe PipelineStep et de ses classes filles ? "
   ]
  },
  {
   "cell_type": "code",
   "execution_count": null,
   "metadata": {},
   "outputs": [],
   "source": []
  },
  {
   "cell_type": "code",
   "execution_count": null,
   "metadata": {},
   "outputs": [],
   "source": [
    "#chargement workspace\n",
    "from azureml.core import Workspace\n",
    "ws = Workspace.from_config(\"config.json\")"
   ]
  },
  {
   "cell_type": "code",
   "execution_count": null,
   "metadata": {},
   "outputs": [],
   "source": [
    "#chargement comptue target si existe et création sinon\n",
    "from azureml.core.compute import AmlCompute, ComputeTarget\n",
    "from azureml.core.compute_target import ComputeTargetException\n",
    "\n",
    "try:\n",
    "    cpu_cluster = ComputeTarget(ws,\"elkalkul\")\n",
    "    print(\"CT existante\")\n",
    "except ComputeTargetException:\n",
    "    compute_config = AmlCompute.provisioning_configuration(vm_size='STANDARD_D2_V2', max_nodes=4)\n",
    "    cpu_cluster = ComputeTarget.create(ws, \"elkalkul\", compute_config)\n",
    "    print(\"CT créée\")"
   ]
  },
  {
   "cell_type": "markdown",
   "metadata": {},
   "source": [
    "## Création, publication et orchestration de notre première pipeline"
   ]
  },
  {
   "cell_type": "markdown",
   "metadata": {},
   "source": [
    "### PythonScriptStep\n",
    "\n",
    "\n",
    "Avec la classe PythonScriptStep, faire un step qui execute le script coucou.py que vous aurez créé et qui affiche \"coucou\" "
   ]
  },
  {
   "cell_type": "code",
   "execution_count": null,
   "metadata": {},
   "outputs": [],
   "source": [
    "from azureml.pipeline.steps import PythonScriptStep\n",
    "test_step = PythonScriptStep(\n",
    "    script_name=\"coucou.py\",\n",
    "    source_directory=\".\",\n",
    "    compute_target=cpu_cluster\n",
    ")"
   ]
  },
  {
   "cell_type": "markdown",
   "metadata": {},
   "source": [
    "Si vous avez déjà créé une AciTargetCompute, récupérer une référence dessus. Sinon en créé un "
   ]
  },
  {
   "cell_type": "code",
   "execution_count": null,
   "metadata": {},
   "outputs": [],
   "source": [
    "#fait plus haut"
   ]
  },
  {
   "cell_type": "markdown",
   "metadata": {},
   "source": [
    "Créer une ComputeTarget qui pointe vers votre AciTargetCompute"
   ]
  },
  {
   "cell_type": "code",
   "execution_count": null,
   "metadata": {},
   "outputs": [],
   "source": [
    "#fait plus haut"
   ]
  },
  {
   "cell_type": "markdown",
   "metadata": {},
   "source": [
    "Créer une pipeline qui contient le step précédent"
   ]
  },
  {
   "cell_type": "code",
   "execution_count": null,
   "metadata": {},
   "outputs": [],
   "source": [
    "from azureml.pipeline.core import Pipeline\n",
    "first_pipe = Pipeline(ws, steps=[test_step])"
   ]
  },
  {
   "cell_type": "markdown",
   "metadata": {},
   "source": [
    "Publier la pipeline"
   ]
  },
  {
   "cell_type": "code",
   "execution_count": null,
   "metadata": {},
   "outputs": [],
   "source": [
    "published_pipe = first_pipe.publish(name=\"pipe_2\", description=\"My 2nd pipeline\")"
   ]
  },
  {
   "cell_type": "markdown",
   "metadata": {},
   "source": [
    "Afficher la liste de toutes les Pipelines \"publiées\" de votre workspace avec la méthode **list** de la classe PublishedPipeline."
   ]
  },
  {
   "cell_type": "code",
   "execution_count": null,
   "metadata": {},
   "outputs": [],
   "source": [
    "published_pipe.list(ws)"
   ]
  },
  {
   "cell_type": "markdown",
   "metadata": {},
   "source": [
    "Créer une experience et soumettre la pipeline. Vérifier que la pipeline s'est executée sur le portail azure"
   ]
  },
  {
   "cell_type": "code",
   "execution_count": null,
   "metadata": {},
   "outputs": [],
   "source": [
    "from azureml.core.experiment import Experiment\n",
    "pipe_exp = Experiment(ws, \"pipeline_experiment_2\")\n",
    "pipe_run = pipe_exp.submit(published_pipe)"
   ]
  },
  {
   "cell_type": "markdown",
   "metadata": {},
   "source": [
    "Quelle différence entre une pipeline et une pipeline publiée ?"
   ]
  },
  {
   "cell_type": "code",
   "execution_count": null,
   "metadata": {},
   "outputs": [],
   "source": []
  },
  {
   "cell_type": "markdown",
   "metadata": {},
   "source": [
    "Faire en sorte que la pipeline s'execute toutes les minutes avec la classe Schedule (cf https://docs.microsoft.com/en-us/python/api/azureml-pipeline-core/azureml.pipeline.core.schedule(class)?view=azure-ml-py)"
   ]
  },
  {
   "cell_type": "code",
   "execution_count": null,
   "metadata": {},
   "outputs": [],
   "source": [
    "from azureml.pipeline.core import Schedule, ScheduleRecurrence\n",
    "recurrence = ScheduleRecurrence(frequency=\"Minute\", interval=1)\n",
    "schedule = Schedule.create(ws,\n",
    "                           name=\"TestSchedule\",\n",
    "                           pipeline_id=\"56bef8a5-58d4-4d2d-b73e-090a7a8eba73\",\n",
    "                           experiment_name=\"pipeline_experiment_2\",\n",
    "                           recurrence=recurrence)\n",
    "type(schedule)"
   ]
  },
  {
   "cell_type": "code",
   "execution_count": null,
   "metadata": {},
   "outputs": [],
   "source": [
    "Schedule.list(ws)"
   ]
  },
  {
   "cell_type": "code",
   "execution_count": null,
   "metadata": {},
   "outputs": [],
   "source": [
    "for s in Schedule.list(ws):\n",
    "    s.disable()\n",
    "    \n",
    "Schedule.list(ws)"
   ]
  },
  {
   "cell_type": "markdown",
   "metadata": {},
   "source": [
    "Bonus : Modifier la pipeline pour qu'elle fasse quelque chose d'un peu plus utile (entraînement d'un modèle simple avec register par exemple ou upload d'un dataset)"
   ]
  },
  {
   "cell_type": "code",
   "execution_count": null,
   "metadata": {},
   "outputs": [],
   "source": [
    "from azureml.core import Environment \n",
    "Environment.list(ws).keys()"
   ]
  },
  {
   "cell_type": "code",
   "execution_count": null,
   "metadata": {},
   "outputs": [],
   "source": [
    "from azureml.core.runconfig import RunConfiguration\n",
    "from azureml.core.conda_dependencies import CondaDependencies\n",
    "from azureml.core import Environment \n",
    "\n",
    "aml_run_config = RunConfiguration()\n",
    "aml_run_config.target = cpu_cluster\n",
    "\n",
    "# Si on veut un environnement déjà existant\n",
    "# pour récupérer la liste des environnements:\n",
    "# Environment.list(ws).keys()\n",
    "USE_CURATED_ENV = True\n",
    "if USE_CURATED_ENV :\n",
    "    curated_environment = Environment.get(workspace=ws, name=\"AzureML-Tutorial\")\n",
    "    aml_run_config.environment = curated_environment\n",
    "    \n",
    "#sinon on choisit soi même ses packages, par exemple\n",
    "else:\n",
    "    aml_run_config.environment.python.user_managed_dependencies = False\n",
    "    aml_run_config.environment.python.conda_dependencies = CondaDependencies.create(\n",
    "    conda_packages=['pandas','scikit-learn'], \n",
    "    pip_packages=['azureml-sdk', 'azureml-dataprep[fuse,pandas]'], \n",
    "    pin_sdk_version=False)"
   ]
  },
  {
   "cell_type": "code",
   "execution_count": null,
   "metadata": {},
   "outputs": [],
   "source": [
    "from azureml.pipeline.steps import PythonScriptStep\n",
    "reg_step = PythonScriptStep(\n",
    "    script_name=\"train.py\",\n",
    "    source_directory=\".\",\n",
    "    runconfig=aml_run_config,\n",
    "    compute_target=cpu_cluster\n",
    ")"
   ]
  },
  {
   "cell_type": "code",
   "execution_count": null,
   "metadata": {},
   "outputs": [],
   "source": [
    "from azureml.pipeline.core import Pipeline\n",
    "reg_pipe = Pipeline(ws, steps=[reg_step])"
   ]
  },
  {
   "cell_type": "markdown",
   "metadata": {},
   "source": [
    "Republier la pipeline et l'executer"
   ]
  },
  {
   "cell_type": "code",
   "execution_count": null,
   "metadata": {},
   "outputs": [],
   "source": [
    "published_pipe = reg_pipe.publish(name=\"reg_pipe\", description=\"My regression pipeline\")"
   ]
  },
  {
   "cell_type": "code",
   "execution_count": null,
   "metadata": {},
   "outputs": [],
   "source": [
    "from azureml.core.experiment import Experiment\n",
    "pipe_exp = Experiment(ws, \"exp_reg_pipe\")\n",
    "pipe_run = pipe_exp.submit(published_pipe)"
   ]
  }
 ],
 "metadata": {
  "kernelspec": {
   "display_name": "Python 3",
   "language": "python",
   "name": "python3"
  },
  "language_info": {
   "codemirror_mode": {
    "name": "ipython",
    "version": 3
   },
   "file_extension": ".py",
   "mimetype": "text/x-python",
   "name": "python",
   "nbconvert_exporter": "python",
   "pygments_lexer": "ipython3",
   "version": "3.7.7"
  }
 },
 "nbformat": 4,
 "nbformat_minor": 4
}

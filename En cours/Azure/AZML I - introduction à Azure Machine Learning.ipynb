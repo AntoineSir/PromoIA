{
 "cells": [
  {
   "cell_type": "markdown",
   "metadata": {},
   "source": [
    "# Introduction à Azure Machine learning\n",
    "Laurent Cetinsoy \n",
    "\n",
    "Azure machine learning (azml), c'est bien, on est tous d'accord. \n",
    "\n",
    "Le but de ce notebook est d'acquérir les premières bases. \n",
    "\n",
    "Azml permet de faire plusieurs choses : \n",
    "\n",
    "- sauvegarder et historiser les résultats d'entraînement de modèles ou autre\n",
    "\n",
    "- sauvegarder et se constituer une base de donnée de modèles entraîné\n",
    "\n",
    "- Mettre en production facilement des modèles entraîné et les rendre accessible via des web services\n",
    "\n",
    "- faire du AutoML\n",
    "\n",
    "- Faire des modèles via interface graphique\n",
    "\n",
    "Il est possible d'utiliser azml via le portail et les éditeurs graphiques ou de les utiliser via des librairies (sdk) python ou R (je crois, mais qui veut faire du R anw à part Samira ? )\n",
    "\n",
    "Dans ce notebook on va apprendre à utiliser les bases du SDK \n",
    "\n",
    "Le notebook est utilisable sur votre pc ou sur une VM \n"
   ]
  },
  {
   "cell_type": "markdown",
   "metadata": {},
   "source": [
    "**La liste des principales classe du coeur de la librairie sont disponibles ici :**\n",
    "\n",
    "https://docs.microsoft.com/fr-fr/python/api/azureml-core/azureml.core?view=azure-ml-py"
   ]
  },
  {
   "cell_type": "markdown",
   "metadata": {},
   "source": [
    "voilà un superbe diagramme qui résume un peu le tout graphiquement : \n",
    "\n",
    "https://app.diagrams.net/?lightbox=1&highlight=0000ff&edit=_blank&layers=1&nav=1#R7Vzbcts2EP0aTZ2HeCheROlRlpy2U2fqqZKm7UsGIiEKNgSwICjL%2BfriQvAG2lEcSbQy9YNNLEkI2LO7OLuAPPBmm93PDKTr9zSGeOA68W7gzQeuG4ah%2BC0Fj1owcnwtSBiKtWhYCRboCyyETiHNUQyzxoOcUsxR2hRGlBAY8YYMMEYfmo%2BtKG5%2BagoSaAkWEcC29BOK%2BVpLx4FTyX%2BBKFmbTx46xZ0NMA8XgmwNYvpQE3nXA2%2FGKOX6arObQSx1Z%2FSi33v3xN1yYAwSvs8L7B%2B4Wn74%2BNGbXn14eDdfjvFi%2B3ZYdJPxRzNjGAsFFE3K%2BJomlAB8XUmvGM1JDGW3jmhVz9xQmgrhUAjvIOePBZog51SI1nyDi7twh%2Fhfteu%2FZVeXQdGa74qeVePRNAhnj39VD8rm3%2FV71WuqZd7T85OTelJvRgc0ZxF8TlmF%2FQGWQP7ccxW8wi0g3UAxIPEigxhwtG0OBBQGmpTPVRiKiwLGb4HU6xNS59IN6qjui6kYdR3USxE3nsdVtW4hQ0JrkPUH9rhXrIN%2BsX4R1E33vZyMvP%2Bh3gPqsF%2BowxdhHTrjFtph8D%2Fae6Ct%2B90CnBefdCs6cm5%2Bn01v5LwfBZJk4EoZ%2BJIzuMFvs%2FjeshDBOVJ5mTIawUwM8uphjThcpECp6EFQtibeSxDdJ8pqfs85RgQW8mI4kHG4ex4BW2PmBUOECibohUX7oeJV5TPrGqcaOUdSsmspeQ44yCIkZoQyDp9UZ77B04hTYZxXUiVI0MUbsIT4lmaIIwGMN19SzulGPIDljatSrTOK5XuiN2%2Blfmp9TDFK5LuctlChGotZyXGdA0HiNyHxRzYk3ikRGVuIzDDNYyG6UGYuebXsJINsiyL4ZlCS61pUxFgkBzL6Gbgi1cdXbf8ACvWDpkKHwZ42Pj6WRk0eVVPpwB1h8bFXMdqKy0ReThvKlYHEMU8tmXnISMQ4aq929CZyMc4ohiY4tVB7qp8nnA0RsQyINWshHE4laz3GMM9pOYzXge%2BkA9%2FS0w4PsB3FPsAdt9TJpbChJ1CEmwgStdBacWiD4ljTCJihL2CpupKhJ6UCFDWR4GoQzGVfgjlkmkQcypVcv6lqf2Sp2u%2FQtHs0RfuWohcgF3NMAIuF%2FlxHFiqEqQ9m3mA64Qz9m0vBmeMwNK8UOLihb5t8eFIgRhYQH1NMQQMEGisYxlg1JacESnBNNDznD4w3bPEpkyF8LRYdDxh7%2BX4vsgu1AEAiJ8eoXMtz0kSoXyhWCOM6KxtHMIokexBr2D2s3VmOA7m%2BHwQ8d9yMbu54aIMXnBK8LiZ1gvyyShXHYasw0HuiOBmcQ6Y4sZxuLlwgITIatgCt4Bp%2BnUb14hejNoF2e08SR334xQHN%2BCmN722exau3MpBWSAVhE6lyx8Z0od2meKsFQjmM78DFLpFMhRrf3%2FwAVl%2Fqsj%2Br77ewXC81fmVf6JCe4v6YnmJniNe7FAv2tEQYcc2HfwCv8ZwODnVar%2FHPxWtqvGsyatKuvjfeXO8caJcZZT0J5cKdMpWE6qyTUA6zJaX3snEBtjCqpiVPLGzSnMsa5vl73tiuzZzY80ILjo7C5C3OMwRzpioEgCCdgDIFVvxTXuHXXbYU2psOvqsy2s%2Brw0sx6muZdGMqUmY5P22LmdxDchbz33qblSuHNtWj0U5DJQzyQp0nkjU0VdRpg7KoQOll4J41cOnt0tmlrysHV2WOwsvrji93LdSFqpBr7ceAZEaitytOMAdfzmGuPzkn8qP%2FfC9%2BCZXjiBKteWCmaIZ68GGdaxmuvkc27oh1w%2BMFO7vOprxbLByJDlNzNYVHoGgozfUcM6TcXa7fMGUi0p2v7g2zbpVAO7YvO%2Fcvj1ZE8%2FohgP0fjXP3rZV5Xq%2BszS6WfaLsPlP06rt42AGseRw0jblrb%2FGkpMoMoKatGxlf9AYxzAyLpZnOIcuVOsUQEdOIMMiyH2EjLBw18Akmdrp54mjTS2nyFUQbb98zXF7QZ7Tx7BLl9S5VmTOxN%2BhPHW48N7x8dRHHrkP1dp7V3Hm1x9E9d18v6LVSYoZZ84I%2FVGrUuweMnFdn%2F3ZVqSO3WjG6%2BSwytBVKLqK1RN9kmw8VmXH09vrkTv0RA3YSpi5dnTUbqXpvhaI1UpWPu4ySN6%2B8nhExCFRKfRGxinmoiRCabyHIW6p48%2BJs9DUeQmsd2gyDwOYhw66E1BDMw5ttYJltJqIS%2F4xpkiCSXMiSByJxUc0pbQ98UbWcf%2FOfdPkBqtURkqaFCoopFszI7FOMwEbqmiyzVOlT11LEKKEKaWRLUWkOdHmn7jLZsk3gDMBuZwWh14G2iWNN1nm0IGWXHzqcVEAvPVQAulEQqFwgkwfmyvNyGvSYkuJMVnGet4%2BQwoEaLbijulhXnCKDHMgGUH9UWBGWdJLwKPMqDHWUSwUTkMNAqvypfUhbuzJynYitEEHfpr8zsP6g9Z2B0O%2Bo8HSet50cy%2Fr9fr4x2T%2Fd9Pelm36vJR4zzOejU%2BklRnBNtohRojOz0l%2BW3%2By3t414V3Aw6ZvMrEmw%2FknOhWjwXG3KiBvSgUF9U6HoIIUkBmJZzHS8LDcPGocoHRmkljCjqHOx2ysInJqCT5qr29DppOAdy9vx%2FLuLgp9DqGwdnBv2Twt9%2B8R88f8B%2Bi59%2BG2z6%2F2YoW9T6F%2FJCjJJhmcq1etda%2B3F%2BDVozf4qQEdMvpG73p%2FgcvH894%2Bs91rk1cRiTB8VfdW7560QrIN3TKN79Qys77q%2FleouuJzkklwwt5enpievlozb8PdeLvE7Tn1ILEKghANVD5BrpgZSfxNBYbmxvpeQR1zvj7YX1stBR6nq3DYvPGfSAG8STizsvC7sXrB5IZrVfzXRhxirfw3jXf8H"
   ]
  },
  {
   "cell_type": "markdown",
   "metadata": {},
   "source": [
    "## Workspace \n",
    "\n",
    "Un workspace azml est tout simplement un espace de travail dans lequel seront regroupés les informations et outils. On peut en créer autant qu'on veut. Soit via le portail. Soit via le SDK\n",
    "\n",
    "Connectez vous sur le portail et créer un workspace. Aller dessus et cliquer sur \"Download configuration\" et le mettre dans le même dosser que ce beau notebook"
   ]
  },
  {
   "cell_type": "markdown",
   "metadata": {},
   "source": [
    "Une fois que c'est fait. Créer une variable workspace à l'aide de la méthode from_config de la class Workspace et le stocker dans la variable **ws**"
   ]
  },
  {
   "cell_type": "code",
   "execution_count": 1,
   "metadata": {},
   "outputs": [],
   "source": [
    "from azureml.core import Workspace"
   ]
  },
  {
   "cell_type": "code",
   "execution_count": 2,
   "metadata": {},
   "outputs": [],
   "source": [
    "ws = Workspace.from_config(\"config.json\")"
   ]
  },
  {
   "cell_type": "markdown",
   "metadata": {},
   "source": [
    "Afficher les détail du workspace avec la méthode get_details()"
   ]
  },
  {
   "cell_type": "code",
   "execution_count": 3,
   "metadata": {},
   "outputs": [
    {
     "data": {
      "text/plain": [
       "{'id': '/subscriptions/50f55159-0c1b-4154-9452-e079e6b5e663/resourceGroups/AZML/providers/Microsoft.MachineLearningServices/workspaces/AZML1',\n",
       " 'name': 'AZML1',\n",
       " 'location': 'francecentral',\n",
       " 'type': 'Microsoft.MachineLearningServices/workspaces',\n",
       " 'tags': {},\n",
       " 'sku': 'Basic',\n",
       " 'workspaceid': '72323e56-d933-4fb7-baf3-4df99afb556f',\n",
       " 'description': '',\n",
       " 'friendlyName': 'AZML1',\n",
       " 'creationTime': '2020-07-23T07:04:20.9492237+00:00',\n",
       " 'keyVault': '/subscriptions/50f55159-0c1b-4154-9452-e079e6b5e663/resourcegroups/azml/providers/microsoft.keyvault/vaults/azml11896339130',\n",
       " 'applicationInsights': '/subscriptions/50f55159-0c1b-4154-9452-e079e6b5e663/resourcegroups/azml/providers/microsoft.insights/components/azml18112192977',\n",
       " 'identityPrincipalId': '301204a0-b322-462b-927e-95ffc4a92070',\n",
       " 'identityTenantId': '1d719a42-0e65-4ed7-ad1a-9434ee408dec',\n",
       " 'identityType': 'SystemAssigned',\n",
       " 'storageAccount': '/subscriptions/50f55159-0c1b-4154-9452-e079e6b5e663/resourcegroups/azml/providers/microsoft.storage/storageaccounts/azml19567555313',\n",
       " 'hbiWorkspace': False,\n",
       " 'discoveryUrl': 'https://francecentral.experiments.azureml.net/discovery'}"
      ]
     },
     "execution_count": 3,
     "metadata": {},
     "output_type": "execute_result"
    }
   ],
   "source": [
    "ws.get_details()"
   ]
  },
  {
   "cell_type": "markdown",
   "metadata": {},
   "source": [
    "Création via python : Créer un nouveau workspace via le python sdk (et donc sans faire \"new workspace\" dans le portial) a l'aide de la méthode create de la classe Workspace. Vérifiez qu'il existe bien sur le portail.\n"
   ]
  },
  {
   "cell_type": "code",
   "execution_count": null,
   "metadata": {},
   "outputs": [],
   "source": [
    "ws2 = Workspace.create(name='azml1_lk',\n",
    "                       subscription_id='50f55159-0c1b-4154-9452-e079e6b5e663',\n",
    "                       resource_group='AZML',\n",
    "                       location = 'northeurope')"
   ]
  },
  {
   "cell_type": "markdown",
   "metadata": {},
   "source": [
    "A l'aide de la méthode de classe list de Workspace, afficher la liste de tous les workspace de votre souscription"
   ]
  },
  {
   "cell_type": "code",
   "execution_count": 5,
   "metadata": {},
   "outputs": [
    {
     "data": {
      "text/plain": [
       "{'AnneGilletWS': [Workspace.create(name='AnneGilletWS', subscription_id='50f55159-0c1b-4154-9452-e079e6b5e663', resource_group='benanmep')],\n",
       " 'DaMachineOfTheYear': [Workspace.create(name='DaMachineOfTheYear', subscription_id='50f55159-0c1b-4154-9452-e079e6b5e663', resource_group='benanmep')],\n",
       " 'tchoupi': [Workspace.create(name='tchoupi', subscription_id='50f55159-0c1b-4154-9452-e079e6b5e663', resource_group='benanmep')]}"
      ]
     },
     "execution_count": 5,
     "metadata": {},
     "output_type": "execute_result"
    }
   ],
   "source": [
    "Workspace.list(subscription_id=\"50f55159-0c1b-4154-9452-e079e6b5e663\", resource_group='benanmep')"
   ]
  },
  {
   "cell_type": "markdown",
   "metadata": {},
   "source": [
    "A l'aide de la méthode write_config, générer le fichier json de config pour ce workspace numéro 2 "
   ]
  },
  {
   "cell_type": "code",
   "execution_count": 6,
   "metadata": {},
   "outputs": [
    {
     "name": "stdout",
     "output_type": "stream",
     "text": [
      "total 12\r\n",
      "drwxr-xr-x 2 elka elka 4096 juil.  8 15:44 .\r\n",
      "drwxr-xr-x 6 elka elka 4096 juil. 23 10:13 ..\r\n",
      "-rw-r--r-- 1 elka elka  157 juil. 23 10:14 config.json\r\n"
     ]
    }
   ],
   "source": [
    "ws2.write_config()\n",
    "!ls -la .azureml"
   ]
  },
  {
   "cell_type": "markdown",
   "metadata": {},
   "source": [
    "Supprimer le premier workspace créé avec le sdk. Vérifier qu'il est bien supprimé sur le portail et avec la méthode list"
   ]
  },
  {
   "cell_type": "code",
   "execution_count": null,
   "metadata": {},
   "outputs": [],
   "source": [
    "ws2.delete()"
   ]
  },
  {
   "cell_type": "code",
   "execution_count": 7,
   "metadata": {},
   "outputs": [
    {
     "data": {
      "text/plain": [
       "{'AZML1': [Workspace.create(name='AZML1', subscription_id='50f55159-0c1b-4154-9452-e079e6b5e663', resource_group='AZML')],\n",
       " 'AnneGilletWS': [Workspace.create(name='AnneGilletWS', subscription_id='50f55159-0c1b-4154-9452-e079e6b5e663', resource_group='benanmep')],\n",
       " 'DaMachineOfTheYear': [Workspace.create(name='DaMachineOfTheYear', subscription_id='50f55159-0c1b-4154-9452-e079e6b5e663', resource_group='benanmep')],\n",
       " 'tchoupi': [Workspace.create(name='tchoupi', subscription_id='50f55159-0c1b-4154-9452-e079e6b5e663', resource_group='benanmep')],\n",
       " 'Fred-ml': [Workspace.create(name='Fred-ml', subscription_id='50f55159-0c1b-4154-9452-e079e6b5e663', resource_group='makina-ivanka')],\n",
       " 'IvankaML3': [Workspace.create(name='IvankaML3', subscription_id='50f55159-0c1b-4154-9452-e079e6b5e663', resource_group='makina-ivanka')],\n",
       " 'Jean_WP2_from_Notebook': [Workspace.create(name='Jean_WP2_from_Notebook', subscription_id='50f55159-0c1b-4154-9452-e079e6b5e663', resource_group='makina-ivanka')],\n",
       " 'JeanWS': [Workspace.create(name='JeanWS', subscription_id='50f55159-0c1b-4154-9452-e079e6b5e663', resource_group='makina-ivanka')],\n",
       " 'Rom-Ron-Marc-Mo': [Workspace.create(name='Rom-Ron-Marc-Mo', subscription_id='50f55159-0c1b-4154-9452-e079e6b5e663', resource_group='Rom-Ron-Marc-Mo')],\n",
       " 'clairon': [Workspace.create(name='clairon', subscription_id='50f55159-0c1b-4154-9452-e079e6b5e663', resource_group='trompettes_en_l_air')],\n",
       " 'didgeridoo': [Workspace.create(name='didgeridoo', subscription_id='50f55159-0c1b-4154-9452-e079e6b5e663', resource_group='trompettes_en_l_air')],\n",
       " 'le_trombone': [Workspace.create(name='le_trombone', subscription_id='50f55159-0c1b-4154-9452-e079e6b5e663', resource_group='trompettes_en_l_air')]}"
      ]
     },
     "execution_count": 7,
     "metadata": {},
     "output_type": "execute_result"
    }
   ],
   "source": [
    "Workspace.list(subscription_id=\"50f55159-0c1b-4154-9452-e079e6b5e663\")"
   ]
  },
  {
   "cell_type": "markdown",
   "metadata": {},
   "source": [
    "## Les compute target\n",
    "\n",
    "Qu'est ce qu'un compute target ? A quoi ça sert dans azure ml service ? "
   ]
  },
  {
   "cell_type": "markdown",
   "metadata": {},
   "source": [
    "Un compute c'est un objet qui représente une ressource de calcul comme une VM ou un cluster (sur azure le plus souvent). Il existe des compute target dédiées à l'entraînement et d'autres dédiés à la prédiction"
   ]
  },
  {
   "cell_type": "markdown",
   "metadata": {},
   "source": [
    "Avec la bonne méthode, afficher les compute target du workspace. Il ne devrait pas y en avoir à ce stade, c'est normal. Pour le moment on ne va pas les utiliser."
   ]
  },
  {
   "cell_type": "code",
   "execution_count": null,
   "metadata": {},
   "outputs": [],
   "source": [
    "ws.compute_targets"
   ]
  },
  {
   "cell_type": "markdown",
   "metadata": {},
   "source": [
    "## Les datastore\n",
    "\n",
    "comme vous le savez, azure permet de stocker des données ... comme avec blob storage par exemple ou des base de données managées. Il est possible de relier à azure ml service, une source de donnée présente sur azure à l'aide d'un Datastore. \n",
    "\n",
    "Afficher les datastore du workspace. Y'en-a-t-il, à quoi correspondent-ils ?"
   ]
  },
  {
   "cell_type": "code",
   "execution_count": 9,
   "metadata": {},
   "outputs": [
    {
     "data": {
      "text/plain": [
       "{'workspaceblobstore': {\n",
       "   \"name\": \"workspaceblobstore\",\n",
       "   \"container_name\": \"azureml-blobstore-72323e56-d933-4fb7-baf3-4df99afb556f\",\n",
       "   \"account_name\": \"azml19567555313\",\n",
       "   \"protocol\": \"https\",\n",
       "   \"endpoint\": \"core.windows.net\"\n",
       " },\n",
       " 'workspacefilestore': {\n",
       "   \"name\": \"workspacefilestore\",\n",
       "   \"container_name\": \"azureml-filestore-72323e56-d933-4fb7-baf3-4df99afb556f\",\n",
       "   \"account_name\": \"azml19567555313\",\n",
       "   \"protocol\": \"https\",\n",
       "   \"endpoint\": \"core.windows.net\"\n",
       " }}"
      ]
     },
     "execution_count": 9,
     "metadata": {},
     "output_type": "execute_result"
    }
   ],
   "source": [
    "ws.datastores"
   ]
  },
  {
   "cell_type": "markdown",
   "metadata": {},
   "source": [
    "Récupérer le datastore par défaut avec la méthode get_default_datastore"
   ]
  },
  {
   "cell_type": "code",
   "execution_count": 10,
   "metadata": {},
   "outputs": [
    {
     "data": {
      "text/plain": [
       "azureml.data.azure_storage_datastore.AzureBlobDatastore"
      ]
     },
     "execution_count": 10,
     "metadata": {},
     "output_type": "execute_result"
    }
   ],
   "source": [
    "datastore = ws.get_default_datastore()\n",
    "type(datastore)"
   ]
  },
  {
   "cell_type": "markdown",
   "metadata": {},
   "source": [
    "## Les datasets\n",
    "\n",
    "Il existe aussi une classe pour gérer les dataset. \n",
    "\n",
    "A l'aide du datastore, uploader le fichier dataset1.csv"
   ]
  },
  {
   "cell_type": "code",
   "execution_count": 11,
   "metadata": {},
   "outputs": [
    {
     "name": "stdout",
     "output_type": "stream",
     "text": [
      "Uploading an estimated of 1 files\n",
      "Uploading ./dataset1.csv\n",
      "Uploaded ./dataset1.csv, 1 files out of an estimated total of 1\n",
      "Uploaded 1 files\n"
     ]
    },
    {
     "data": {
      "text/plain": [
       "$AZUREML_DATAREFERENCE_workspaceblobstore"
      ]
     },
     "execution_count": 11,
     "metadata": {},
     "output_type": "execute_result"
    }
   ],
   "source": [
    "datastore.upload_files(['./dataset1.csv'])"
   ]
  },
  {
   "cell_type": "markdown",
   "metadata": {},
   "source": [
    "A l'aide du module Dataset.Tabular et  de la méthode from_delimited_files, récupérer une référence vers le fichier que vous avez téléchargé"
   ]
  },
  {
   "cell_type": "code",
   "execution_count": 12,
   "metadata": {},
   "outputs": [],
   "source": [
    "from azureml.core import Dataset"
   ]
  },
  {
   "cell_type": "code",
   "execution_count": 13,
   "metadata": {},
   "outputs": [
    {
     "data": {
      "text/plain": [
       "azureml.data.tabular_dataset.TabularDataset"
      ]
     },
     "execution_count": 13,
     "metadata": {},
     "output_type": "execute_result"
    }
   ],
   "source": [
    "sources = [\n",
    "    (datastore, \"dataset1.csv\")\n",
    "]\n",
    "\n",
    "#ici on fait référence aux fichiers qui sont dans le datastore\n",
    "uploaded_dataset = Dataset.Tabular.from_delimited_files(sources, )\n",
    "type(uploaded_dataset)"
   ]
  },
  {
   "cell_type": "code",
   "execution_count": 14,
   "metadata": {},
   "outputs": [
    {
     "data": {
      "text/plain": [
       "{\n",
       "  \"source\": [\n",
       "    \"('workspaceblobstore', 'dataset1.csv')\"\n",
       "  ],\n",
       "  \"definition\": [\n",
       "    \"GetDatastoreFiles\",\n",
       "    \"ParseDelimited\",\n",
       "    \"DropColumns\",\n",
       "    \"SetColumnTypes\"\n",
       "  ]\n",
       "}"
      ]
     },
     "execution_count": 14,
     "metadata": {},
     "output_type": "execute_result"
    }
   ],
   "source": [
    "uploaded_dataset"
   ]
  },
  {
   "cell_type": "code",
   "execution_count": 15,
   "metadata": {},
   "outputs": [
    {
     "name": "stderr",
     "output_type": "stream",
     "text": [
      "/home/elka/anaconda3/envs/env_azml/lib/python3.7/site-packages/azureml/dataprep/api/dataflow.py:722: UserWarning: Your pandas and pyarrow versions are incompatible. Please install pyarrow>=0.12.0 for improved performance of to_pandas_dataframe. You can ensure the correct version is installed by running: pip install pyarrow>=0.12.0 --upgrade\n",
      "  warnings.warn('Your pandas and pyarrow versions are incompatible. '\n"
     ]
    },
    {
     "data": {
      "text/html": [
       "<div>\n",
       "<style scoped>\n",
       "    .dataframe tbody tr th:only-of-type {\n",
       "        vertical-align: middle;\n",
       "    }\n",
       "\n",
       "    .dataframe tbody tr th {\n",
       "        vertical-align: top;\n",
       "    }\n",
       "\n",
       "    .dataframe thead th {\n",
       "        text-align: right;\n",
       "    }\n",
       "</style>\n",
       "<table border=\"1\" class=\"dataframe\">\n",
       "  <thead>\n",
       "    <tr style=\"text-align: right;\">\n",
       "      <th></th>\n",
       "      <th>Country Name</th>\n",
       "      <th>Country Code</th>\n",
       "      <th>Birth rate</th>\n",
       "      <th>Internet users</th>\n",
       "      <th>Income Group</th>\n",
       "    </tr>\n",
       "  </thead>\n",
       "  <tbody>\n",
       "    <tr>\n",
       "      <th>0</th>\n",
       "      <td>Aruba</td>\n",
       "      <td>ABW</td>\n",
       "      <td>10.244</td>\n",
       "      <td>78.90000</td>\n",
       "      <td>High income</td>\n",
       "    </tr>\n",
       "    <tr>\n",
       "      <th>1</th>\n",
       "      <td>Afghanistan</td>\n",
       "      <td>AFG</td>\n",
       "      <td>35.253</td>\n",
       "      <td>5.90000</td>\n",
       "      <td>Low income</td>\n",
       "    </tr>\n",
       "    <tr>\n",
       "      <th>2</th>\n",
       "      <td>Angola</td>\n",
       "      <td>AGO</td>\n",
       "      <td>45.985</td>\n",
       "      <td>19.10000</td>\n",
       "      <td>Upper middle income</td>\n",
       "    </tr>\n",
       "    <tr>\n",
       "      <th>3</th>\n",
       "      <td>Albania</td>\n",
       "      <td>ALB</td>\n",
       "      <td>12.877</td>\n",
       "      <td>57.20000</td>\n",
       "      <td>Upper middle income</td>\n",
       "    </tr>\n",
       "    <tr>\n",
       "      <th>4</th>\n",
       "      <td>United Arab Emirates</td>\n",
       "      <td>ARE</td>\n",
       "      <td>11.044</td>\n",
       "      <td>88.00000</td>\n",
       "      <td>High income</td>\n",
       "    </tr>\n",
       "    <tr>\n",
       "      <th>5</th>\n",
       "      <td>Argentina</td>\n",
       "      <td>ARG</td>\n",
       "      <td>17.716</td>\n",
       "      <td>59.90000</td>\n",
       "      <td>High income</td>\n",
       "    </tr>\n",
       "    <tr>\n",
       "      <th>6</th>\n",
       "      <td>Armenia</td>\n",
       "      <td>ARM</td>\n",
       "      <td>13.308</td>\n",
       "      <td>41.90000</td>\n",
       "      <td>Lower middle income</td>\n",
       "    </tr>\n",
       "    <tr>\n",
       "      <th>7</th>\n",
       "      <td>Antigua and Barbuda</td>\n",
       "      <td>ATG</td>\n",
       "      <td>16.447</td>\n",
       "      <td>63.40000</td>\n",
       "      <td>High income</td>\n",
       "    </tr>\n",
       "    <tr>\n",
       "      <th>8</th>\n",
       "      <td>Australia</td>\n",
       "      <td>AUS</td>\n",
       "      <td>13.200</td>\n",
       "      <td>83.00000</td>\n",
       "      <td>High income</td>\n",
       "    </tr>\n",
       "    <tr>\n",
       "      <th>9</th>\n",
       "      <td>Austria</td>\n",
       "      <td>AUT</td>\n",
       "      <td>9.400</td>\n",
       "      <td>80.61880</td>\n",
       "      <td>High income</td>\n",
       "    </tr>\n",
       "    <tr>\n",
       "      <th>10</th>\n",
       "      <td>Azerbaijan</td>\n",
       "      <td>AZE</td>\n",
       "      <td>18.300</td>\n",
       "      <td>58.70000</td>\n",
       "      <td>Upper middle income</td>\n",
       "    </tr>\n",
       "    <tr>\n",
       "      <th>11</th>\n",
       "      <td>Burundi</td>\n",
       "      <td>BDI</td>\n",
       "      <td>44.151</td>\n",
       "      <td>1.30000</td>\n",
       "      <td>Low income</td>\n",
       "    </tr>\n",
       "    <tr>\n",
       "      <th>12</th>\n",
       "      <td>Belgium</td>\n",
       "      <td>BEL</td>\n",
       "      <td>11.200</td>\n",
       "      <td>82.17020</td>\n",
       "      <td>High income</td>\n",
       "    </tr>\n",
       "    <tr>\n",
       "      <th>13</th>\n",
       "      <td>Benin</td>\n",
       "      <td>BEN</td>\n",
       "      <td>36.440</td>\n",
       "      <td>4.90000</td>\n",
       "      <td>Low income</td>\n",
       "    </tr>\n",
       "    <tr>\n",
       "      <th>14</th>\n",
       "      <td>Burkina Faso</td>\n",
       "      <td>BFA</td>\n",
       "      <td>40.551</td>\n",
       "      <td>9.10000</td>\n",
       "      <td>Low income</td>\n",
       "    </tr>\n",
       "    <tr>\n",
       "      <th>15</th>\n",
       "      <td>Bangladesh</td>\n",
       "      <td>BGD</td>\n",
       "      <td>20.142</td>\n",
       "      <td>6.63000</td>\n",
       "      <td>Lower middle income</td>\n",
       "    </tr>\n",
       "    <tr>\n",
       "      <th>16</th>\n",
       "      <td>Bulgaria</td>\n",
       "      <td>BGR</td>\n",
       "      <td>9.200</td>\n",
       "      <td>53.06150</td>\n",
       "      <td>Upper middle income</td>\n",
       "    </tr>\n",
       "    <tr>\n",
       "      <th>17</th>\n",
       "      <td>Bahrain</td>\n",
       "      <td>BHR</td>\n",
       "      <td>15.040</td>\n",
       "      <td>90.00004</td>\n",
       "      <td>High income</td>\n",
       "    </tr>\n",
       "    <tr>\n",
       "      <th>18</th>\n",
       "      <td>Bahamas, The</td>\n",
       "      <td>BHS</td>\n",
       "      <td>15.339</td>\n",
       "      <td>72.00000</td>\n",
       "      <td>High income</td>\n",
       "    </tr>\n",
       "    <tr>\n",
       "      <th>19</th>\n",
       "      <td>Bosnia and Herzegovina</td>\n",
       "      <td>BIH</td>\n",
       "      <td>9.062</td>\n",
       "      <td>57.79000</td>\n",
       "      <td>Upper middle income</td>\n",
       "    </tr>\n",
       "    <tr>\n",
       "      <th>20</th>\n",
       "      <td>Belarus</td>\n",
       "      <td>BLR</td>\n",
       "      <td>12.500</td>\n",
       "      <td>54.17000</td>\n",
       "      <td>Upper middle income</td>\n",
       "    </tr>\n",
       "    <tr>\n",
       "      <th>21</th>\n",
       "      <td>Belize</td>\n",
       "      <td>BLZ</td>\n",
       "      <td>23.092</td>\n",
       "      <td>33.60000</td>\n",
       "      <td>Upper middle income</td>\n",
       "    </tr>\n",
       "    <tr>\n",
       "      <th>22</th>\n",
       "      <td>Bermuda</td>\n",
       "      <td>BMU</td>\n",
       "      <td>10.400</td>\n",
       "      <td>95.30000</td>\n",
       "      <td>High income</td>\n",
       "    </tr>\n",
       "    <tr>\n",
       "      <th>23</th>\n",
       "      <td>Bolivia</td>\n",
       "      <td>BOL</td>\n",
       "      <td>24.236</td>\n",
       "      <td>36.94000</td>\n",
       "      <td>Lower middle income</td>\n",
       "    </tr>\n",
       "    <tr>\n",
       "      <th>24</th>\n",
       "      <td>Brazil</td>\n",
       "      <td>BRA</td>\n",
       "      <td>14.931</td>\n",
       "      <td>51.04000</td>\n",
       "      <td>Upper middle income</td>\n",
       "    </tr>\n",
       "    <tr>\n",
       "      <th>25</th>\n",
       "      <td>Barbados</td>\n",
       "      <td>BRB</td>\n",
       "      <td>12.188</td>\n",
       "      <td>73.00000</td>\n",
       "      <td>High income</td>\n",
       "    </tr>\n",
       "    <tr>\n",
       "      <th>26</th>\n",
       "      <td>Brunei Darussalam</td>\n",
       "      <td>BRN</td>\n",
       "      <td>16.405</td>\n",
       "      <td>64.50000</td>\n",
       "      <td>High income</td>\n",
       "    </tr>\n",
       "    <tr>\n",
       "      <th>27</th>\n",
       "      <td>Bhutan</td>\n",
       "      <td>BTN</td>\n",
       "      <td>18.134</td>\n",
       "      <td>29.90000</td>\n",
       "      <td>Lower middle income</td>\n",
       "    </tr>\n",
       "    <tr>\n",
       "      <th>28</th>\n",
       "      <td>Botswana</td>\n",
       "      <td>BWA</td>\n",
       "      <td>25.267</td>\n",
       "      <td>15.00000</td>\n",
       "      <td>Upper middle income</td>\n",
       "    </tr>\n",
       "    <tr>\n",
       "      <th>29</th>\n",
       "      <td>Central African Republic</td>\n",
       "      <td>CAF</td>\n",
       "      <td>34.076</td>\n",
       "      <td>3.50000</td>\n",
       "      <td>Low income</td>\n",
       "    </tr>\n",
       "    <tr>\n",
       "      <th>...</th>\n",
       "      <td>...</td>\n",
       "      <td>...</td>\n",
       "      <td>...</td>\n",
       "      <td>...</td>\n",
       "      <td>...</td>\n",
       "    </tr>\n",
       "    <tr>\n",
       "      <th>165</th>\n",
       "      <td>Seychelles</td>\n",
       "      <td>SYC</td>\n",
       "      <td>18.600</td>\n",
       "      <td>50.40000</td>\n",
       "      <td>High income</td>\n",
       "    </tr>\n",
       "    <tr>\n",
       "      <th>166</th>\n",
       "      <td>Syrian Arab Republic</td>\n",
       "      <td>SYR</td>\n",
       "      <td>24.043</td>\n",
       "      <td>26.20000</td>\n",
       "      <td>Lower middle income</td>\n",
       "    </tr>\n",
       "    <tr>\n",
       "      <th>167</th>\n",
       "      <td>Chad</td>\n",
       "      <td>TCD</td>\n",
       "      <td>45.745</td>\n",
       "      <td>2.30000</td>\n",
       "      <td>Low income</td>\n",
       "    </tr>\n",
       "    <tr>\n",
       "      <th>168</th>\n",
       "      <td>Togo</td>\n",
       "      <td>TGO</td>\n",
       "      <td>36.080</td>\n",
       "      <td>4.50000</td>\n",
       "      <td>Low income</td>\n",
       "    </tr>\n",
       "    <tr>\n",
       "      <th>169</th>\n",
       "      <td>Thailand</td>\n",
       "      <td>THA</td>\n",
       "      <td>11.041</td>\n",
       "      <td>28.94000</td>\n",
       "      <td>Upper middle income</td>\n",
       "    </tr>\n",
       "    <tr>\n",
       "      <th>170</th>\n",
       "      <td>Tajikistan</td>\n",
       "      <td>TJK</td>\n",
       "      <td>30.792</td>\n",
       "      <td>16.00000</td>\n",
       "      <td>Lower middle income</td>\n",
       "    </tr>\n",
       "    <tr>\n",
       "      <th>171</th>\n",
       "      <td>Turkmenistan</td>\n",
       "      <td>TKM</td>\n",
       "      <td>21.322</td>\n",
       "      <td>9.60000</td>\n",
       "      <td>Upper middle income</td>\n",
       "    </tr>\n",
       "    <tr>\n",
       "      <th>172</th>\n",
       "      <td>Timor-Leste</td>\n",
       "      <td>TLS</td>\n",
       "      <td>35.755</td>\n",
       "      <td>1.10000</td>\n",
       "      <td>Lower middle income</td>\n",
       "    </tr>\n",
       "    <tr>\n",
       "      <th>173</th>\n",
       "      <td>Tonga</td>\n",
       "      <td>TON</td>\n",
       "      <td>25.409</td>\n",
       "      <td>35.00000</td>\n",
       "      <td>Upper middle income</td>\n",
       "    </tr>\n",
       "    <tr>\n",
       "      <th>174</th>\n",
       "      <td>Trinidad and Tobago</td>\n",
       "      <td>TTO</td>\n",
       "      <td>14.590</td>\n",
       "      <td>63.80000</td>\n",
       "      <td>High income</td>\n",
       "    </tr>\n",
       "    <tr>\n",
       "      <th>175</th>\n",
       "      <td>Tunisia</td>\n",
       "      <td>TUN</td>\n",
       "      <td>19.800</td>\n",
       "      <td>43.80000</td>\n",
       "      <td>Upper middle income</td>\n",
       "    </tr>\n",
       "    <tr>\n",
       "      <th>176</th>\n",
       "      <td>Turkey</td>\n",
       "      <td>TUR</td>\n",
       "      <td>16.836</td>\n",
       "      <td>46.25000</td>\n",
       "      <td>Upper middle income</td>\n",
       "    </tr>\n",
       "    <tr>\n",
       "      <th>177</th>\n",
       "      <td>Tanzania</td>\n",
       "      <td>TZA</td>\n",
       "      <td>39.518</td>\n",
       "      <td>4.40000</td>\n",
       "      <td>Low income</td>\n",
       "    </tr>\n",
       "    <tr>\n",
       "      <th>178</th>\n",
       "      <td>Uganda</td>\n",
       "      <td>UGA</td>\n",
       "      <td>43.474</td>\n",
       "      <td>16.20000</td>\n",
       "      <td>Low income</td>\n",
       "    </tr>\n",
       "    <tr>\n",
       "      <th>179</th>\n",
       "      <td>Ukraine</td>\n",
       "      <td>UKR</td>\n",
       "      <td>11.100</td>\n",
       "      <td>41.00000</td>\n",
       "      <td>Lower middle income</td>\n",
       "    </tr>\n",
       "    <tr>\n",
       "      <th>180</th>\n",
       "      <td>Uruguay</td>\n",
       "      <td>URY</td>\n",
       "      <td>14.374</td>\n",
       "      <td>57.69000</td>\n",
       "      <td>High income</td>\n",
       "    </tr>\n",
       "    <tr>\n",
       "      <th>181</th>\n",
       "      <td>United States</td>\n",
       "      <td>USA</td>\n",
       "      <td>12.500</td>\n",
       "      <td>84.20000</td>\n",
       "      <td>High income</td>\n",
       "    </tr>\n",
       "    <tr>\n",
       "      <th>182</th>\n",
       "      <td>Uzbekistan</td>\n",
       "      <td>UZB</td>\n",
       "      <td>22.500</td>\n",
       "      <td>38.20000</td>\n",
       "      <td>Lower middle income</td>\n",
       "    </tr>\n",
       "    <tr>\n",
       "      <th>183</th>\n",
       "      <td>St. Vincent and the Grenadines</td>\n",
       "      <td>VCT</td>\n",
       "      <td>16.306</td>\n",
       "      <td>52.00000</td>\n",
       "      <td>Upper middle income</td>\n",
       "    </tr>\n",
       "    <tr>\n",
       "      <th>184</th>\n",
       "      <td>Venezuela, RB</td>\n",
       "      <td>VEN</td>\n",
       "      <td>19.842</td>\n",
       "      <td>54.90000</td>\n",
       "      <td>High income</td>\n",
       "    </tr>\n",
       "    <tr>\n",
       "      <th>185</th>\n",
       "      <td>Virgin Islands (U.S.)</td>\n",
       "      <td>VIR</td>\n",
       "      <td>10.700</td>\n",
       "      <td>45.30000</td>\n",
       "      <td>High income</td>\n",
       "    </tr>\n",
       "    <tr>\n",
       "      <th>186</th>\n",
       "      <td>Vietnam</td>\n",
       "      <td>VNM</td>\n",
       "      <td>15.537</td>\n",
       "      <td>43.90000</td>\n",
       "      <td>Lower middle income</td>\n",
       "    </tr>\n",
       "    <tr>\n",
       "      <th>187</th>\n",
       "      <td>Vanuatu</td>\n",
       "      <td>VUT</td>\n",
       "      <td>26.739</td>\n",
       "      <td>11.30000</td>\n",
       "      <td>Lower middle income</td>\n",
       "    </tr>\n",
       "    <tr>\n",
       "      <th>188</th>\n",
       "      <td>West Bank and Gaza</td>\n",
       "      <td>PSE</td>\n",
       "      <td>30.394</td>\n",
       "      <td>46.60000</td>\n",
       "      <td>Lower middle income</td>\n",
       "    </tr>\n",
       "    <tr>\n",
       "      <th>189</th>\n",
       "      <td>Samoa</td>\n",
       "      <td>WSM</td>\n",
       "      <td>26.172</td>\n",
       "      <td>15.30000</td>\n",
       "      <td>Lower middle income</td>\n",
       "    </tr>\n",
       "    <tr>\n",
       "      <th>190</th>\n",
       "      <td>Yemen, Rep.</td>\n",
       "      <td>YEM</td>\n",
       "      <td>32.947</td>\n",
       "      <td>20.00000</td>\n",
       "      <td>Lower middle income</td>\n",
       "    </tr>\n",
       "    <tr>\n",
       "      <th>191</th>\n",
       "      <td>South Africa</td>\n",
       "      <td>ZAF</td>\n",
       "      <td>20.850</td>\n",
       "      <td>46.50000</td>\n",
       "      <td>Upper middle income</td>\n",
       "    </tr>\n",
       "    <tr>\n",
       "      <th>192</th>\n",
       "      <td>Congo, Dem. Rep.</td>\n",
       "      <td>COD</td>\n",
       "      <td>42.394</td>\n",
       "      <td>2.20000</td>\n",
       "      <td>Low income</td>\n",
       "    </tr>\n",
       "    <tr>\n",
       "      <th>193</th>\n",
       "      <td>Zambia</td>\n",
       "      <td>ZMB</td>\n",
       "      <td>40.471</td>\n",
       "      <td>15.40000</td>\n",
       "      <td>Lower middle income</td>\n",
       "    </tr>\n",
       "    <tr>\n",
       "      <th>194</th>\n",
       "      <td>Zimbabwe</td>\n",
       "      <td>ZWE</td>\n",
       "      <td>35.715</td>\n",
       "      <td>18.50000</td>\n",
       "      <td>Low income</td>\n",
       "    </tr>\n",
       "  </tbody>\n",
       "</table>\n",
       "<p>195 rows × 5 columns</p>\n",
       "</div>"
      ],
      "text/plain": [
       "                       Country Name Country Code  Birth rate  Internet users  \\\n",
       "0                             Aruba          ABW      10.244        78.90000   \n",
       "1                       Afghanistan          AFG      35.253         5.90000   \n",
       "2                            Angola          AGO      45.985        19.10000   \n",
       "3                           Albania          ALB      12.877        57.20000   \n",
       "4              United Arab Emirates          ARE      11.044        88.00000   \n",
       "5                         Argentina          ARG      17.716        59.90000   \n",
       "6                           Armenia          ARM      13.308        41.90000   \n",
       "7               Antigua and Barbuda          ATG      16.447        63.40000   \n",
       "8                         Australia          AUS      13.200        83.00000   \n",
       "9                           Austria          AUT       9.400        80.61880   \n",
       "10                       Azerbaijan          AZE      18.300        58.70000   \n",
       "11                          Burundi          BDI      44.151         1.30000   \n",
       "12                          Belgium          BEL      11.200        82.17020   \n",
       "13                            Benin          BEN      36.440         4.90000   \n",
       "14                     Burkina Faso          BFA      40.551         9.10000   \n",
       "15                       Bangladesh          BGD      20.142         6.63000   \n",
       "16                         Bulgaria          BGR       9.200        53.06150   \n",
       "17                          Bahrain          BHR      15.040        90.00004   \n",
       "18                     Bahamas, The          BHS      15.339        72.00000   \n",
       "19           Bosnia and Herzegovina          BIH       9.062        57.79000   \n",
       "20                          Belarus          BLR      12.500        54.17000   \n",
       "21                           Belize          BLZ      23.092        33.60000   \n",
       "22                          Bermuda          BMU      10.400        95.30000   \n",
       "23                          Bolivia          BOL      24.236        36.94000   \n",
       "24                           Brazil          BRA      14.931        51.04000   \n",
       "25                         Barbados          BRB      12.188        73.00000   \n",
       "26                Brunei Darussalam          BRN      16.405        64.50000   \n",
       "27                           Bhutan          BTN      18.134        29.90000   \n",
       "28                         Botswana          BWA      25.267        15.00000   \n",
       "29         Central African Republic          CAF      34.076         3.50000   \n",
       "..                              ...          ...         ...             ...   \n",
       "165                      Seychelles          SYC      18.600        50.40000   \n",
       "166            Syrian Arab Republic          SYR      24.043        26.20000   \n",
       "167                            Chad          TCD      45.745         2.30000   \n",
       "168                            Togo          TGO      36.080         4.50000   \n",
       "169                        Thailand          THA      11.041        28.94000   \n",
       "170                      Tajikistan          TJK      30.792        16.00000   \n",
       "171                    Turkmenistan          TKM      21.322         9.60000   \n",
       "172                     Timor-Leste          TLS      35.755         1.10000   \n",
       "173                           Tonga          TON      25.409        35.00000   \n",
       "174             Trinidad and Tobago          TTO      14.590        63.80000   \n",
       "175                         Tunisia          TUN      19.800        43.80000   \n",
       "176                          Turkey          TUR      16.836        46.25000   \n",
       "177                        Tanzania          TZA      39.518         4.40000   \n",
       "178                          Uganda          UGA      43.474        16.20000   \n",
       "179                         Ukraine          UKR      11.100        41.00000   \n",
       "180                         Uruguay          URY      14.374        57.69000   \n",
       "181                   United States          USA      12.500        84.20000   \n",
       "182                      Uzbekistan          UZB      22.500        38.20000   \n",
       "183  St. Vincent and the Grenadines          VCT      16.306        52.00000   \n",
       "184                   Venezuela, RB          VEN      19.842        54.90000   \n",
       "185           Virgin Islands (U.S.)          VIR      10.700        45.30000   \n",
       "186                         Vietnam          VNM      15.537        43.90000   \n",
       "187                         Vanuatu          VUT      26.739        11.30000   \n",
       "188              West Bank and Gaza          PSE      30.394        46.60000   \n",
       "189                           Samoa          WSM      26.172        15.30000   \n",
       "190                     Yemen, Rep.          YEM      32.947        20.00000   \n",
       "191                    South Africa          ZAF      20.850        46.50000   \n",
       "192                Congo, Dem. Rep.          COD      42.394         2.20000   \n",
       "193                          Zambia          ZMB      40.471        15.40000   \n",
       "194                        Zimbabwe          ZWE      35.715        18.50000   \n",
       "\n",
       "            Income Group  \n",
       "0            High income  \n",
       "1             Low income  \n",
       "2    Upper middle income  \n",
       "3    Upper middle income  \n",
       "4            High income  \n",
       "5            High income  \n",
       "6    Lower middle income  \n",
       "7            High income  \n",
       "8            High income  \n",
       "9            High income  \n",
       "10   Upper middle income  \n",
       "11            Low income  \n",
       "12           High income  \n",
       "13            Low income  \n",
       "14            Low income  \n",
       "15   Lower middle income  \n",
       "16   Upper middle income  \n",
       "17           High income  \n",
       "18           High income  \n",
       "19   Upper middle income  \n",
       "20   Upper middle income  \n",
       "21   Upper middle income  \n",
       "22           High income  \n",
       "23   Lower middle income  \n",
       "24   Upper middle income  \n",
       "25           High income  \n",
       "26           High income  \n",
       "27   Lower middle income  \n",
       "28   Upper middle income  \n",
       "29            Low income  \n",
       "..                   ...  \n",
       "165          High income  \n",
       "166  Lower middle income  \n",
       "167           Low income  \n",
       "168           Low income  \n",
       "169  Upper middle income  \n",
       "170  Lower middle income  \n",
       "171  Upper middle income  \n",
       "172  Lower middle income  \n",
       "173  Upper middle income  \n",
       "174          High income  \n",
       "175  Upper middle income  \n",
       "176  Upper middle income  \n",
       "177           Low income  \n",
       "178           Low income  \n",
       "179  Lower middle income  \n",
       "180          High income  \n",
       "181          High income  \n",
       "182  Lower middle income  \n",
       "183  Upper middle income  \n",
       "184          High income  \n",
       "185          High income  \n",
       "186  Lower middle income  \n",
       "187  Lower middle income  \n",
       "188  Lower middle income  \n",
       "189  Lower middle income  \n",
       "190  Lower middle income  \n",
       "191  Upper middle income  \n",
       "192           Low income  \n",
       "193  Lower middle income  \n",
       "194           Low income  \n",
       "\n",
       "[195 rows x 5 columns]"
      ]
     },
     "execution_count": 15,
     "metadata": {},
     "output_type": "execute_result"
    }
   ],
   "source": [
    "uploaded_dataset.to_pandas_dataframe()"
   ]
  },
  {
   "cell_type": "markdown",
   "metadata": {},
   "source": [
    "Lister tous vos dataset dans le workspace"
   ]
  },
  {
   "cell_type": "code",
   "execution_count": 18,
   "metadata": {},
   "outputs": [
    {
     "data": {
      "text/plain": [
       "{}"
      ]
     },
     "execution_count": 18,
     "metadata": {},
     "output_type": "execute_result"
    }
   ],
   "source": [
    "Dataset.get_all(ws)"
   ]
  },
  {
   "cell_type": "markdown",
   "metadata": {},
   "source": [
    "Register son dataset "
   ]
  },
  {
   "cell_type": "code",
   "execution_count": 19,
   "metadata": {},
   "outputs": [
    {
     "data": {
      "text/plain": [
       "{\n",
       "  \"source\": [\n",
       "    \"('workspaceblobstore', 'dataset1.csv')\"\n",
       "  ],\n",
       "  \"definition\": [\n",
       "    \"GetDatastoreFiles\",\n",
       "    \"ParseDelimited\",\n",
       "    \"DropColumns\",\n",
       "    \"SetColumnTypes\"\n",
       "  ],\n",
       "  \"registration\": {\n",
       "    \"id\": \"b2210b06-6e7c-4d82-8311-4befa4cd34ec\",\n",
       "    \"name\": \"superbedatasetuploaded\",\n",
       "    \"version\": 1,\n",
       "    \"workspace\": \"Workspace.create(name='AZML1', subscription_id='50f55159-0c1b-4154-9452-e079e6b5e663', resource_group='AZML')\"\n",
       "  }\n",
       "}"
      ]
     },
     "execution_count": 19,
     "metadata": {},
     "output_type": "execute_result"
    }
   ],
   "source": [
    "uploaded_dataset.register(ws, \"superbedatasetuploaded\")"
   ]
  },
  {
   "cell_type": "markdown",
   "metadata": {},
   "source": [
    "Afficher à nouveau la liste des dataset et vérifier qu'il est bien présent aussi sur le portail azure dans le workspace."
   ]
  },
  {
   "cell_type": "code",
   "execution_count": 20,
   "metadata": {},
   "outputs": [
    {
     "data": {
      "text/plain": [
       "{'superbedatasetuploaded': DatasetRegistration(id='b2210b06-6e7c-4d82-8311-4befa4cd34ec', name='superbedatasetuploaded', version=1, description='', tags={})}"
      ]
     },
     "execution_count": 20,
     "metadata": {},
     "output_type": "execute_result"
    }
   ],
   "source": [
    "Dataset.get_all(ws)"
   ]
  },
  {
   "cell_type": "markdown",
   "metadata": {},
   "source": [
    "Quelle différence entre un dataset et un datastore ? "
   ]
  },
  {
   "cell_type": "markdown",
   "metadata": {},
   "source": [
    "Le datastore c'est le mecanisme qui permet de stocker réellement des fichiers sur azure via Azure ml service. \n",
    "\n",
    "Un dataset c'est un objet qui représente un fichier dans notre workspace"
   ]
  },
  {
   "cell_type": "markdown",
   "metadata": {},
   "source": [
    "## Experiment et sauvegarde d'information\n",
    "\n",
    "A l'aide de la classe **Experiment**, créer une experience reliée au workspace **ws** et lui donner le nom \"myexperiment\". Vérifier que l'experiment existe sur le portail."
   ]
  },
  {
   "cell_type": "code",
   "execution_count": 53,
   "metadata": {},
   "outputs": [
    {
     "data": {
      "text/plain": [
       "azureml.core.experiment.Experiment"
      ]
     },
     "execution_count": 53,
     "metadata": {},
     "output_type": "execute_result"
    }
   ],
   "source": [
    "from azureml.core import Experiment\n",
    "exp = Experiment(ws, \"mon_exp2\")\n",
    "type(exp)"
   ]
  },
  {
   "cell_type": "markdown",
   "metadata": {},
   "source": [
    "Quelles sont les différentes méthodes de la classe Experiment ?"
   ]
  },
  {
   "cell_type": "code",
   "execution_count": 23,
   "metadata": {
    "scrolled": true
   },
   "outputs": [
    {
     "data": {
      "text/plain": [
       "['DELIM',\n",
       " 'EXPERIMENT_PATH',\n",
       " 'WORKSPACE_FMT',\n",
       " '__class__',\n",
       " '__delattr__',\n",
       " '__dict__',\n",
       " '__dir__',\n",
       " '__doc__',\n",
       " '__eq__',\n",
       " '__format__',\n",
       " '__ge__',\n",
       " '__getattribute__',\n",
       " '__gt__',\n",
       " '__hash__',\n",
       " '__init__',\n",
       " '__init_subclass__',\n",
       " '__le__',\n",
       " '__lt__',\n",
       " '__module__',\n",
       " '__ne__',\n",
       " '__new__',\n",
       " '__reduce__',\n",
       " '__reduce_ex__',\n",
       " '__repr__',\n",
       " '__setattr__',\n",
       " '__sizeof__',\n",
       " '__str__',\n",
       " '__subclasshook__',\n",
       " '__weakref__',\n",
       " '_extract_from_dto',\n",
       " '_get_base_info_dict',\n",
       " '_get_portal_domain',\n",
       " '_log_context',\n",
       " '_repr_html_',\n",
       " '_serialize_to_dict',\n",
       " 'archive',\n",
       " 'archived_time',\n",
       " 'from_directory',\n",
       " 'get_docs_url',\n",
       " 'get_portal_url',\n",
       " 'get_runs',\n",
       " 'id',\n",
       " 'identity',\n",
       " 'list',\n",
       " 'name',\n",
       " 'portal_url',\n",
       " 'reactivate',\n",
       " 'refresh',\n",
       " 'remove_tags',\n",
       " 'set_tags',\n",
       " 'start_logging',\n",
       " 'submit',\n",
       " 'tag',\n",
       " 'tags',\n",
       " 'workspace',\n",
       " 'workspace_object']"
      ]
     },
     "execution_count": 23,
     "metadata": {},
     "output_type": "execute_result"
    }
   ],
   "source": [
    "dir(Experiment)"
   ]
  },
  {
   "cell_type": "markdown",
   "metadata": {},
   "source": [
    "A l'aide de la bonne méthode de classe, lister les experiments qui existent via le sdk, elle devrait apparaître."
   ]
  },
  {
   "cell_type": "code",
   "execution_count": 24,
   "metadata": {},
   "outputs": [
    {
     "data": {
      "text/plain": [
       "[Experiment(Name: myexperiment,\n",
       " Workspace: AZML1),\n",
       " Experiment(Name: mon_exp,\n",
       " Workspace: AZML1)]"
      ]
     },
     "execution_count": 24,
     "metadata": {},
     "output_type": "execute_result"
    }
   ],
   "source": [
    "Experiment.list(ws)"
   ]
  },
  {
   "cell_type": "markdown",
   "metadata": {},
   "source": [
    "A l'aide de la méthode start_logging() récupérer une instance de l'objet Run et la stocker dans la variable **run**\n",
    "\n"
   ]
  },
  {
   "cell_type": "code",
   "execution_count": 28,
   "metadata": {},
   "outputs": [
    {
     "data": {
      "text/plain": [
       "azureml.core.run.Run"
      ]
     },
     "execution_count": 28,
     "metadata": {},
     "output_type": "execute_result"
    }
   ],
   "source": [
    "run = exp.start_logging(snapshot_directory=False)\n",
    "type(run)"
   ]
  },
  {
   "cell_type": "markdown",
   "metadata": {},
   "source": [
    "Aller sur le portail azure et vérifier que l'experience est lancée"
   ]
  },
  {
   "cell_type": "markdown",
   "metadata": {},
   "source": [
    "Sauvergarder une donnée quelconque dans le run avec run.log"
   ]
  },
  {
   "cell_type": "code",
   "execution_count": 29,
   "metadata": {},
   "outputs": [],
   "source": [
    "run.log(\"mse\", 0.88)\n",
    "run.log(\"message a maman\", \"coucou je repasse à la télé\")\n",
    "#en gros log permet de \"logguer\" n'importe quelle valeur dans une experience"
   ]
  },
  {
   "cell_type": "markdown",
   "metadata": {},
   "source": [
    "Dite à azure que le run est terminé en utilisant la méthode run.complete()"
   ]
  },
  {
   "cell_type": "code",
   "execution_count": 27,
   "metadata": {},
   "outputs": [],
   "source": [
    "run.complete()"
   ]
  },
  {
   "cell_type": "markdown",
   "metadata": {},
   "source": [
    "Quelles sont les différentes méthodes de la classe Run ? "
   ]
  },
  {
   "cell_type": "code",
   "execution_count": 30,
   "metadata": {},
   "outputs": [
    {
     "data": {
      "text/plain": [
       "['DELIM',\n",
       " 'EXPERIMENT_PATH',\n",
       " 'RUN_PATH',\n",
       " 'WORKSPACE_FMT',\n",
       " '_DEFAULT_GET_CONTENT_TIMEOUT',\n",
       " '_RUNSOURCE_PROPERTY',\n",
       " '_WAIT_COMPLETION_POLLING_INTERVAL_MAX',\n",
       " '_WAIT_COMPLETION_POLLING_INTERVAL_MIN',\n",
       " '__class__',\n",
       " '__delattr__',\n",
       " '__dict__',\n",
       " '__dir__',\n",
       " '__doc__',\n",
       " '__enter__',\n",
       " '__eq__',\n",
       " '__exit__',\n",
       " '__format__',\n",
       " '__ge__',\n",
       " '__getattribute__',\n",
       " '__gt__',\n",
       " '__hash__',\n",
       " '__init__',\n",
       " '__init_subclass__',\n",
       " '__le__',\n",
       " '__lt__',\n",
       " '__module__',\n",
       " '__ne__',\n",
       " '__new__',\n",
       " '__reduce__',\n",
       " '__reduce_ex__',\n",
       " '__repr__',\n",
       " '__setattr__',\n",
       " '__sizeof__',\n",
       " '__str__',\n",
       " '__subclasshook__',\n",
       " '__weakref__',\n",
       " '_cleanup',\n",
       " '_client',\n",
       " '_container',\n",
       " '_context_manager',\n",
       " '_create',\n",
       " '_download_artifact_contents_to_string',\n",
       " '_dto_to_run',\n",
       " '_experiment',\n",
       " '_experiment_url',\n",
       " '_get_base_info_dict',\n",
       " '_get_blob_azureml_datastore',\n",
       " '_get_last_log_primary_instance',\n",
       " '_get_logs',\n",
       " '_get_outputs_datapath',\n",
       " '_get_portal_domain',\n",
       " '_heartbeat',\n",
       " '_identity',\n",
       " '_input_datasets',\n",
       " '_kill',\n",
       " '_load_scope',\n",
       " '_log_context',\n",
       " '_logger',\n",
       " '_outputs',\n",
       " '_parent_run',\n",
       " '_portal_url',\n",
       " '_register_kill_handler',\n",
       " '_registered_kill_handlers',\n",
       " '_rehydrate_runs',\n",
       " '_repr_html_',\n",
       " '_root_run_id',\n",
       " '_run_details_url',\n",
       " '_run_dto',\n",
       " '_run_id',\n",
       " '_run_name',\n",
       " '_run_number',\n",
       " '_run_source',\n",
       " '_run_source_initializers',\n",
       " '_runtype',\n",
       " '_start_logging',\n",
       " '_stream_run_output',\n",
       " '_update_dataset_lineage',\n",
       " '_wait_before_polling',\n",
       " '_workspace_url',\n",
       " 'add_properties',\n",
       " 'add_type_provider',\n",
       " 'cancel',\n",
       " 'child_run',\n",
       " 'clean',\n",
       " 'complete',\n",
       " 'create_children',\n",
       " 'download_file',\n",
       " 'download_files',\n",
       " 'experiment',\n",
       " 'fail',\n",
       " 'flush',\n",
       " 'get_all_logs',\n",
       " 'get_children',\n",
       " 'get_context',\n",
       " 'get_created_from_content',\n",
       " 'get_details',\n",
       " 'get_details_with_logs',\n",
       " 'get_docs_url',\n",
       " 'get_environment',\n",
       " 'get_file_names',\n",
       " 'get_metrics',\n",
       " 'get_portal_url',\n",
       " 'get_properties',\n",
       " 'get_secret',\n",
       " 'get_secrets',\n",
       " 'get_snapshot_id',\n",
       " 'get_status',\n",
       " 'get_submitted_run',\n",
       " 'get_tags',\n",
       " 'id',\n",
       " 'identity',\n",
       " 'input_datasets',\n",
       " 'list',\n",
       " 'list_by_compute',\n",
       " 'log',\n",
       " 'log_accuracy_table',\n",
       " 'log_confusion_matrix',\n",
       " 'log_image',\n",
       " 'log_list',\n",
       " 'log_predictions',\n",
       " 'log_residuals',\n",
       " 'log_row',\n",
       " 'log_table',\n",
       " 'name',\n",
       " 'number',\n",
       " 'parent',\n",
       " 'portal_url',\n",
       " 'properties',\n",
       " 'register_model',\n",
       " 'remove_tags',\n",
       " 'restore_snapshot',\n",
       " 'set_created_from_content',\n",
       " 'set_tags',\n",
       " 'start',\n",
       " 'status',\n",
       " 'submit_child',\n",
       " 'tag',\n",
       " 'tags',\n",
       " 'take_snapshot',\n",
       " 'type',\n",
       " 'upload_file',\n",
       " 'upload_files',\n",
       " 'upload_folder',\n",
       " 'wait_for_completion']"
      ]
     },
     "execution_count": 30,
     "metadata": {},
     "output_type": "execute_result"
    }
   ],
   "source": [
    "dir(run)"
   ]
  },
  {
   "cell_type": "markdown",
   "metadata": {},
   "source": [
    "Compléter le code suivant pour qu'il sauvegarde à chaque entraînement dans azml, la MSE et le coefficient r^2 de ce modèle (complétement inutile). Vous pouvez utiliser pour cela la méthode .log"
   ]
  },
  {
   "cell_type": "code",
   "execution_count": 32,
   "metadata": {},
   "outputs": [],
   "source": [
    "from sklearn.linear_model import LinearRegression\n",
    "import numpy as np\n",
    "def train_model(run):\n",
    "    \n",
    "    X = np.random.randn(10, 3)\n",
    "    y = np.sum(X, axis=1) + np.random.rand(10)*10**-2\n",
    "\n",
    "\n",
    "    model = LinearRegression()\n",
    "    print('training')\n",
    "    model.fit(X, y)\n",
    "    print('done')\n",
    "    run.log(\"r2 coefficient\", model.score(X, y))\n",
    "    run.log(\"MSE\", np.mean((y-model.predict(X))**2))\n",
    "                            \n",
    "    return model"
   ]
  },
  {
   "cell_type": "code",
   "execution_count": 54,
   "metadata": {},
   "outputs": [
    {
     "name": "stdout",
     "output_type": "stream",
     "text": [
      "training\n",
      "done\n",
      "training\n",
      "done\n",
      "training\n",
      "done\n",
      "training\n",
      "done\n",
      "training\n",
      "done\n",
      "training\n",
      "done\n",
      "training\n",
      "done\n",
      "training\n",
      "done\n",
      "training\n",
      "done\n",
      "training\n",
      "done\n"
     ]
    }
   ],
   "source": [
    "run = exp.start_logging()\n",
    "\n",
    "for k in range(10):\n",
    "    model = train_model(run)\n",
    "#model = train_model(run)\n",
    "\n",
    "run.complete()"
   ]
  },
  {
   "cell_type": "markdown",
   "metadata": {},
   "source": [
    "Executer plusieurs fois la fonction et vérifier que les résultats sont bien présents dans votre workspace dans le portail"
   ]
  },
  {
   "cell_type": "markdown",
   "metadata": {},
   "source": [
    "Utiliser RunDetails pour afficher les détails d'une exécution."
   ]
  },
  {
   "cell_type": "code",
   "execution_count": 35,
   "metadata": {},
   "outputs": [
    {
     "data": {
      "text/plain": [
       "<azureml.widgets._userrun._run_details._UserRunDetails at 0x7f676c23c2d0>"
      ]
     },
     "execution_count": 35,
     "metadata": {},
     "output_type": "execute_result"
    }
   ],
   "source": [
    "from azureml.widgets import RunDetails\n",
    "RunDetails(run)"
   ]
  },
  {
   "cell_type": "code",
   "execution_count": 36,
   "metadata": {},
   "outputs": [
    {
     "data": {
      "application/vnd.jupyter.widget-view+json": {
       "model_id": "44a479788ad7428bb89fa18e5bb7c6c4",
       "version_major": 2,
       "version_minor": 0
      },
      "text/plain": [
       "_UserRunWidget(widget_settings={'childWidgetDisplay': 'popup', 'send_telemetry': False, 'log_level': 'INFO', '…"
      ]
     },
     "metadata": {},
     "output_type": "display_data"
    },
    {
     "data": {
      "application/aml.mini.widget.v1": "\"ServiceException:\\n\\tCode: 404\\n\\tMessage: (UserError) Experiment not found.\\n\\tDetails:\\n\\n\\tHeaders: {\\n\\t    \\\"Date\\\": \\\"Thu, 23 Jul 2020 08:45:23 GMT\\\",\\n\\t    \\\"Content-Type\\\": \\\"application/json; charset=utf-8\\\",\\n\\t    \\\"Transfer-Encoding\\\": \\\"chunked\\\",\\n\\t    \\\"Connection\\\": \\\"keep-alive\\\",\\n\\t    \\\"Vary\\\": \\\"Accept-Encoding\\\",\\n\\t    \\\"Request-Context\\\": \\\"appId=cid-v1:31292b31-5cc0-48dc-b305-bad6e6491869\\\",\\n\\t    \\\"x-ms-response-type\\\": \\\"error\\\",\\n\\t    \\\"Strict-Transport-Security\\\": \\\"max-age=15724800; includeSubDomains; preload\\\",\\n\\t    \\\"Content-Encoding\\\": \\\"gzip\\\"\\n\\t}\\n\\tInnerException: {\\n    \\\"additional_properties\\\": {\\n        \\\"componentName\\\": \\\"run-history\\\"\\n    },\\n    \\\"error\\\": {\\n        \\\"additional_properties\\\": {\\n            \\\"severity\\\": null\\n        },\\n        \\\"code\\\": \\\"UserError\\\",\\n        \\\"message\\\": \\\"Experiment not found.\\\",\\n        \\\"details_uri\\\": null,\\n        \\\"target\\\": \\\"Experiment\\\",\\n        \\\"details\\\": [],\\n        \\\"inner_error\\\": {\\n            \\\"additional_properties\\\": {},\\n            \\\"code\\\": \\\"CloudDependencyError\\\",\\n            \\\"inner_error\\\": {\\n                \\\"additional_properties\\\": {},\\n                \\\"code\\\": \\\"CloudDependencyNotFound\\\",\\n                \\\"inner_error\\\": null\\n            }\\n        },\\n        \\\"debug_info\\\": null,\\n        \\\"message_format\\\": \\\"Experiment not found.\\\",\\n        \\\"message_parameters\\\": {},\\n        \\\"reference_code\\\": null\\n    },\\n    \\\"correlation\\\": {\\n        \\\"operation\\\": \\\"5c9d2014d5e4144e8bfe3d60b3a49cc1\\\",\\n        \\\"request\\\": \\\"|5c9d2014d5e4144e8bfe3d60b3a49cc1.d3526690c8652f46.\\\"\\n    },\\n    \\\"environment\\\": \\\"francecentral\\\",\\n    \\\"location\\\": \\\"francecentral\\\",\\n    \\\"time\\\": {}\\n}\""
     },
     "metadata": {},
     "output_type": "display_data"
    }
   ],
   "source": [
    "RunDetails(run).show()"
   ]
  },
  {
   "cell_type": "markdown",
   "metadata": {},
   "source": [
    "Vous pouvez aussi utiliser le sdk pour récupérer les informations stockée pour une experience. Coder une fonction `print_experiment_data(experiment)` qui prend en argument une experience et affiche toutes les données de tous les run "
   ]
  },
  {
   "cell_type": "code",
   "execution_count": 37,
   "metadata": {},
   "outputs": [
    {
     "name": "stdout",
     "output_type": "stream",
     "text": [
      "{'runId': '144c34b9-72b5-41a2-9862-178334f17232', 'target': 'sdk', 'status': 'Completed', 'startTimeUtc': '2020-07-23T08:36:16.828873Z', 'endTimeUtc': '2020-07-23T08:36:21.92907Z', 'properties': {'ContentSnapshotId': 'f5d71bf9-7e36-4afc-99e6-52e8b7a54640'}, 'inputDatasets': [], 'logFiles': {}}\n",
      "{'runId': 'e34f41b5-114d-4369-816a-8b664bd2dd69', 'target': 'sdk', 'status': 'Completed', 'startTimeUtc': '2020-07-23T08:34:23.895527Z', 'endTimeUtc': '2020-07-23T08:34:30.273559Z', 'properties': {'ContentSnapshotId': '343d018c-77e4-4eaf-ae7d-63de224b1755'}, 'inputDatasets': [], 'logFiles': {}}\n",
      "{'runId': 'b33bfab4-58cf-4e41-96f6-1fad02a872a0', 'target': 'sdk', 'status': 'Running', 'startTimeUtc': '2020-07-23T08:34:13.719123Z', 'properties': {'ContentSnapshotId': '343d018c-77e4-4eaf-ae7d-63de224b1755'}, 'inputDatasets': [], 'logFiles': {}}\n",
      "{'runId': '1fd4e32f-4677-4fea-8e29-d9a5a9a7452d', 'target': 'sdk', 'status': 'Running', 'startTimeUtc': '2020-07-23T08:30:05.534663Z', 'properties': {}, 'inputDatasets': [], 'logFiles': {}}\n",
      "{'runId': '1b357646-193d-4e1e-91e4-55874a1548d7', 'target': 'sdk', 'status': 'Completed', 'startTimeUtc': '2020-07-23T08:28:01.488732Z', 'endTimeUtc': '2020-07-23T08:29:38.198081Z', 'properties': {}, 'inputDatasets': [], 'logFiles': {}}\n"
     ]
    }
   ],
   "source": [
    "def print_experiment_data(experiment):\n",
    "    for run in exp.get_runs():\n",
    "        print(run.get_details_with_logs())\n",
    "        \n",
    "print_experiment_data(exp)"
   ]
  },
  {
   "cell_type": "markdown",
   "metadata": {},
   "source": [
    "Archivez votre experience avec la méthode archive, et vérifiez qu'elle apparaît comme archivée sur le portail."
   ]
  },
  {
   "cell_type": "code",
   "execution_count": 42,
   "metadata": {},
   "outputs": [],
   "source": [
    "#pour terminer un run encore en cours\n",
    "from azureml.core.run import Run\n",
    "for runid in [\"1fd4e32f-4677-4fea-8e29-d9a5a9a7452d\",\n",
    "              \"b33bfab4-58cf-4e41-96f6-1fad02a872a0\"]:\n",
    "    run = Run(exp, runid)\n",
    "    run.complete()"
   ]
  },
  {
   "cell_type": "code",
   "execution_count": 48,
   "metadata": {},
   "outputs": [],
   "source": [
    "exp.archive()"
   ]
  },
  {
   "cell_type": "markdown",
   "metadata": {},
   "source": [
    "Réactiver l'expérience avec la méthode reactivate."
   ]
  },
  {
   "cell_type": "code",
   "execution_count": 52,
   "metadata": {},
   "outputs": [],
   "source": [
    "exp.reactivate()"
   ]
  },
  {
   "cell_type": "markdown",
   "metadata": {},
   "source": [
    "Récupérer les détails de l'experience archivée\n",
    "\n",
    "\n"
   ]
  },
  {
   "cell_type": "code",
   "execution_count": 55,
   "metadata": {},
   "outputs": [
    {
     "name": "stdout",
     "output_type": "stream",
     "text": [
      "{'runId': 'a4d8f96c-c557-40cf-9225-080375a53257', 'target': 'sdk', 'status': 'Completed', 'startTimeUtc': '2020-07-23T08:50:56.367978Z', 'endTimeUtc': '2020-07-23T08:51:01.703553Z', 'properties': {'ContentSnapshotId': '2546df28-f29d-488c-afc4-a4052df79a5e'}, 'inputDatasets': [], 'logFiles': {}}\n",
      "{'runId': '144c34b9-72b5-41a2-9862-178334f17232', 'target': 'sdk', 'status': 'Completed', 'startTimeUtc': '2020-07-23T08:36:16.828873Z', 'endTimeUtc': '2020-07-23T08:36:21.92907Z', 'properties': {'ContentSnapshotId': 'f5d71bf9-7e36-4afc-99e6-52e8b7a54640'}, 'inputDatasets': [], 'logFiles': {}}\n",
      "{'runId': 'e34f41b5-114d-4369-816a-8b664bd2dd69', 'target': 'sdk', 'status': 'Completed', 'startTimeUtc': '2020-07-23T08:34:23.895527Z', 'endTimeUtc': '2020-07-23T08:34:30.273559Z', 'properties': {'ContentSnapshotId': '343d018c-77e4-4eaf-ae7d-63de224b1755'}, 'inputDatasets': [], 'logFiles': {}}\n",
      "{'runId': 'b33bfab4-58cf-4e41-96f6-1fad02a872a0', 'target': 'sdk', 'status': 'Completed', 'startTimeUtc': '2020-07-23T08:34:13.719123Z', 'endTimeUtc': '2020-07-23T08:43:59.335845Z', 'properties': {'ContentSnapshotId': '343d018c-77e4-4eaf-ae7d-63de224b1755'}, 'inputDatasets': [], 'logFiles': {}}\n",
      "{'runId': '1fd4e32f-4677-4fea-8e29-d9a5a9a7452d', 'target': 'sdk', 'status': 'Completed', 'startTimeUtc': '2020-07-23T08:30:05.534663Z', 'endTimeUtc': '2020-07-23T08:43:08.714121Z', 'properties': {}, 'inputDatasets': [], 'logFiles': {}}\n",
      "{'runId': '1b357646-193d-4e1e-91e4-55874a1548d7', 'target': 'sdk', 'status': 'Completed', 'startTimeUtc': '2020-07-23T08:28:01.488732Z', 'endTimeUtc': '2020-07-23T08:29:38.198081Z', 'properties': {}, 'inputDatasets': [], 'logFiles': {}}\n"
     ]
    }
   ],
   "source": [
    "print_experiment_data(exp)"
   ]
  },
  {
   "cell_type": "markdown",
   "metadata": {},
   "source": [
    "## Manipulation des modèles: Sauvegarde et autre\n",
    "\n",
    "Azure ml service, permet de se constituer une banque de modèles entraînés. Lister et expliquer les différents paramètres de la méthode register de la classe Model"
   ]
  },
  {
   "cell_type": "markdown",
   "metadata": {},
   "source": [
    "Model.register('model_blabla.pkl')"
   ]
  },
  {
   "cell_type": "markdown",
   "metadata": {},
   "source": [
    "A l'aide de la méthode register, uploader le modèle entraîné via la fonction train_model au dessus. Spécifier le maximum de paramètres"
   ]
  },
  {
   "cell_type": "code",
   "execution_count": 56,
   "metadata": {},
   "outputs": [],
   "source": [
    "import pickle \n",
    "\n",
    "with open('monsupermodel.pkl', 'wb') as f:\n",
    "    pickle.dump(model, f)"
   ]
  },
  {
   "cell_type": "code",
   "execution_count": 57,
   "metadata": {},
   "outputs": [],
   "source": [
    "from azureml.core import Model"
   ]
  },
  {
   "cell_type": "code",
   "execution_count": 70,
   "metadata": {},
   "outputs": [
    {
     "name": "stdout",
     "output_type": "stream",
     "text": [
      "Registering model zzz\n"
     ]
    },
    {
     "data": {
      "text/plain": [
       "azureml.core.model.Model"
      ]
     },
     "execution_count": 70,
     "metadata": {},
     "output_type": "execute_result"
    }
   ],
   "source": [
    "registered_model = Model.register(ws, './monsupermodel.pkl', \"zzz\")\n",
    "type(registered_model)"
   ]
  },
  {
   "cell_type": "markdown",
   "metadata": {},
   "source": [
    "Vérifier que le modèle est bien dans le workspace"
   ]
  },
  {
   "cell_type": "code",
   "execution_count": 59,
   "metadata": {},
   "outputs": [
    {
     "data": {
      "text/plain": [
       "{'monsupermodel': Model(workspace=Workspace.create(name='AZML1', subscription_id='50f55159-0c1b-4154-9452-e079e6b5e663', resource_group='AZML'), name=monsupermodel, id=monsupermodel:3, version=3, tags={}, properties={})}"
      ]
     },
     "execution_count": 59,
     "metadata": {},
     "output_type": "execute_result"
    }
   ],
   "source": [
    "ws.models"
   ]
  },
  {
   "cell_type": "markdown",
   "metadata": {},
   "source": [
    "Faire une fonction `get_last_model` qui télécharge le dernier modèle présent dans un workspace. Cette fonction pourrait être utilisée dans un environnement de production pour récupérer le dernier modèle uploadé et faire donc une mise en production. "
   ]
  },
  {
   "cell_type": "code",
   "execution_count": 76,
   "metadata": {},
   "outputs": [],
   "source": [
    "def get_last_model(workspace):\n",
    "    last_model_ref = Model.list(workspace)[0]\n",
    "    last_model_pkl = last_model_ref.download(target_dir='.', exist_ok=True)\n",
    "    with open(last_model_pkl, 'rb') as model_pkl:\n",
    "        last_model = pickle.load(model_pkl)\n",
    "    return last_model"
   ]
  },
  {
   "cell_type": "code",
   "execution_count": 77,
   "metadata": {},
   "outputs": [],
   "source": [
    "mon_model = get_last_model(ws)"
   ]
  },
  {
   "cell_type": "code",
   "execution_count": 78,
   "metadata": {},
   "outputs": [
    {
     "data": {
      "text/plain": [
       "sklearn.linear_model._base.LinearRegression"
      ]
     },
     "execution_count": 78,
     "metadata": {},
     "output_type": "execute_result"
    }
   ],
   "source": [
    "type(mon_model)"
   ]
  },
  {
   "cell_type": "code",
   "execution_count": 80,
   "metadata": {},
   "outputs": [],
   "source": [
    "X = np.random.randn(10, 3)\n",
    "y = np.sum(X, axis=1) + np.random.rand(10)*10**-2"
   ]
  },
  {
   "cell_type": "code",
   "execution_count": 81,
   "metadata": {},
   "outputs": [
    {
     "data": {
      "text/plain": [
       "(array([-3.84697956,  4.40291146,  0.515904  , -1.97109344,  0.9393466 ,\n",
       "         0.44961496,  0.70834261, -0.20224783,  1.68045317,  0.9974195 ]),\n",
       " 0.9999959124362771)"
      ]
     },
     "execution_count": 81,
     "metadata": {},
     "output_type": "execute_result"
    }
   ],
   "source": [
    "mon_model.predict(X), mon_model.score(X,y)"
   ]
  }
 ],
 "metadata": {
  "kernelspec": {
   "display_name": "Python 3",
   "language": "python",
   "name": "python3"
  },
  "language_info": {
   "codemirror_mode": {
    "name": "ipython",
    "version": 3
   },
   "file_extension": ".py",
   "mimetype": "text/x-python",
   "name": "python",
   "nbconvert_exporter": "python",
   "pygments_lexer": "ipython3",
   "version": "3.7.7"
  }
 },
 "nbformat": 4,
 "nbformat_minor": 4
}
